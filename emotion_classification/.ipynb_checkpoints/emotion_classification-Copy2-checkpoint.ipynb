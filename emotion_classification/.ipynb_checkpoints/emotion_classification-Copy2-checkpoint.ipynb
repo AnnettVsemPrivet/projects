{
 "cells": [
  {
   "cell_type": "markdown",
   "id": "f0c770be",
   "metadata": {},
   "source": [
    "# libs"
   ]
  },
  {
   "cell_type": "code",
   "execution_count": 1,
   "id": "fdc21beb",
   "metadata": {
    "ExecuteTime": {
     "end_time": "2023-05-22T17:21:13.513372Z",
     "start_time": "2023-05-22T17:20:58.291387Z"
    }
   },
   "outputs": [],
   "source": [
    "import pandas as pd\n",
    "import numpy as np\n",
    "\n",
    "from sklearn.feature_extraction.text import TfidfVectorizer\n",
    "from sklearn.decomposition import TruncatedSVD\n",
    "from pycaret.classification import *"
   ]
  },
  {
   "cell_type": "markdown",
   "id": "78413fbd",
   "metadata": {},
   "source": [
    "# product metric"
   ]
  },
  {
   "cell_type": "markdown",
   "id": "3c1f952b",
   "metadata": {},
   "source": [
    "- **продукт**: чат-бот для психологической поддержки (можно взять готовую модель bloom https://colab.research.google.com/drive/1Ervk6HPNS6AYVr3xVdQnY5a-TjjmLCdQ). каждый ответ человека классифицируется по эмоциям. в итоге, мы можем посчитать какая эмоция превалировала в процентном соотношении за каждый разговор/ день/ неделю. эту информацию можно как превращать в столбчатые диаграммы с изменяемым периодом, чтобы человек сам видел как он себя чувствует, как его настроение меняется в каких ситуациях, так и для бизнес-метрики (ретеншен), т к она вероятнее всего будет коррелировать с тем, меняется ли настроение человека к концу разговора с ботом относительно начала. например, любой разговор (коммуникация, перерывы в которой не превышают 1 час) будем делить на 4 равные части из сообщений, по первой замерять преобладающее настроение человека в момент обращения к боту, а по последней - настроение после \"работы\" с ботом. если процент \"хороших\" эмоций повышается, то значит что бот помогает справляться с тяжелым состоянием, и ожидается, что такие люди будут с большей вероятностью возвращаться к использованию продукта. также это в целом полезный показатель удовлетворенности клиента в случае с таким нетиповым продуктом. \n",
    "- **задача ML**: многоклассовая классификация\n",
    "- **целевая переменная**: метки эмоций\n",
    "- **бизнесовая метрика**: выдвигаем гипотезу, что на RR влияет процент \"хороших\" эмоций к концу диалога с ботом относительно начала диалога\n",
    "- **ML-метрики**: средняя F-мера, индивидуальные AUC-PRC и AUC-ROC"
   ]
  },
  {
   "cell_type": "markdown",
   "id": "be09a540",
   "metadata": {},
   "source": [
    "# data"
   ]
  },
  {
   "cell_type": "markdown",
   "id": "1ee43fa3",
   "metadata": {},
   "source": [
    "labels:\n",
    " - 0 > sadness\n",
    " - 1 > joy\n",
    " - 2 > love\n",
    " - 3 > anger\n",
    " - 4 > fear\n",
    " - 5 > surprise"
   ]
  },
  {
   "cell_type": "code",
   "execution_count": 5,
   "id": "ec3ae925",
   "metadata": {
    "ExecuteTime": {
     "end_time": "2023-05-22T17:23:14.064198Z",
     "start_time": "2023-05-22T17:23:13.804887Z"
    }
   },
   "outputs": [],
   "source": [
    "df_train = pd.read_csv('data/training.csv')\n",
    "df_test = pd.read_csv('data/test.csv')\n",
    "df_val = pd.read_csv('data/validation.csv')"
   ]
  },
  {
   "cell_type": "code",
   "execution_count": 3,
   "id": "6c1446b0",
   "metadata": {
    "ExecuteTime": {
     "end_time": "2023-05-22T17:07:37.341366Z",
     "start_time": "2023-05-22T17:07:37.302470Z"
    }
   },
   "outputs": [
    {
     "data": {
      "text/plain": [
       "1    5362\n",
       "0    4666\n",
       "3    2159\n",
       "4    1937\n",
       "2    1304\n",
       "5     572\n",
       "Name: label, dtype: int64"
      ]
     },
     "execution_count": 3,
     "metadata": {},
     "output_type": "execute_result"
    }
   ],
   "source": [
    "df_train.label.value_counts()"
   ]
  },
  {
   "cell_type": "code",
   "execution_count": 6,
   "id": "5a1242b5",
   "metadata": {
    "ExecuteTime": {
     "end_time": "2023-05-22T17:24:02.386100Z",
     "start_time": "2023-05-22T17:24:01.758406Z"
    }
   },
   "outputs": [],
   "source": [
    "vect = TfidfVectorizer(sublinear_tf=True, use_idf=True)\n",
    "\n",
    "X_train = vect.fit_transform(df_train.text.values)\n",
    "X_test = vect.transform(df_test.text.values)\n",
    "X_val = vect.transform(df_val.text.values)"
   ]
  },
  {
   "cell_type": "code",
   "execution_count": 5,
   "id": "61edf4fb",
   "metadata": {
    "ExecuteTime": {
     "end_time": "2023-05-22T17:10:45.671328Z",
     "start_time": "2023-05-22T17:10:45.649080Z"
    }
   },
   "outputs": [
    {
     "data": {
      "text/plain": [
       "(16000, 15186)"
      ]
     },
     "execution_count": 5,
     "metadata": {},
     "output_type": "execute_result"
    }
   ],
   "source": [
    "X_train.shape"
   ]
  },
  {
   "cell_type": "code",
   "execution_count": 7,
   "id": "e475f3c4",
   "metadata": {
    "ExecuteTime": {
     "end_time": "2023-05-22T17:24:58.280017Z",
     "start_time": "2023-05-22T17:24:15.186251Z"
    }
   },
   "outputs": [],
   "source": [
    "tsvd = TruncatedSVD(n_components=1000)\n",
    "X_train_pca = tsvd.fit_transform(X_train)\n",
    "X_test_pca = tsvd.transform(X_test)\n",
    "X_val_pca = tsvd.transform(X_val)"
   ]
  },
  {
   "cell_type": "code",
   "execution_count": 8,
   "id": "95107f46",
   "metadata": {
    "ExecuteTime": {
     "end_time": "2023-05-22T17:24:58.953019Z",
     "start_time": "2023-05-22T17:24:58.568854Z"
    }
   },
   "outputs": [],
   "source": [
    "train = pd.concat([pd.DataFrame(X_train_pca),df_train.label],axis=1)\n",
    "test = pd.concat([pd.DataFrame(X_test_pca),df_test.label],axis=1)\n",
    "val = pd.concat([pd.DataFrame(X_val_pca),df_val.label],axis=1)"
   ]
  },
  {
   "cell_type": "markdown",
   "id": "6976df4d",
   "metadata": {},
   "source": [
    "# baseline"
   ]
  },
  {
   "cell_type": "code",
   "execution_count": 11,
   "id": "b9de7a16",
   "metadata": {
    "ExecuteTime": {
     "end_time": "2023-05-22T17:26:00.237952Z",
     "start_time": "2023-05-22T17:26:00.206038Z"
    }
   },
   "outputs": [
    {
     "data": {
      "text/plain": [
       "(16000, 1001)"
      ]
     },
     "execution_count": 11,
     "metadata": {},
     "output_type": "execute_result"
    }
   ],
   "source": [
    "train.shape"
   ]
  },
  {
   "cell_type": "code",
   "execution_count": 9,
   "id": "530598ee",
   "metadata": {
    "ExecuteTime": {
     "end_time": "2023-05-22T17:25:19.595754Z",
     "start_time": "2023-05-22T17:25:06.313436Z"
    }
   },
   "outputs": [
    {
     "data": {
      "text/html": [
       "<style type=\"text/css\">\n",
       "#T_58f7f_row8_col1 {\n",
       "  background-color: lightgreen;\n",
       "}\n",
       "</style>\n",
       "<table id=\"T_58f7f\">\n",
       "  <thead>\n",
       "    <tr>\n",
       "      <th class=\"blank level0\" >&nbsp;</th>\n",
       "      <th id=\"T_58f7f_level0_col0\" class=\"col_heading level0 col0\" >Description</th>\n",
       "      <th id=\"T_58f7f_level0_col1\" class=\"col_heading level0 col1\" >Value</th>\n",
       "    </tr>\n",
       "  </thead>\n",
       "  <tbody>\n",
       "    <tr>\n",
       "      <th id=\"T_58f7f_level0_row0\" class=\"row_heading level0 row0\" >0</th>\n",
       "      <td id=\"T_58f7f_row0_col0\" class=\"data row0 col0\" >Session id</td>\n",
       "      <td id=\"T_58f7f_row0_col1\" class=\"data row0 col1\" >8273</td>\n",
       "    </tr>\n",
       "    <tr>\n",
       "      <th id=\"T_58f7f_level0_row1\" class=\"row_heading level0 row1\" >1</th>\n",
       "      <td id=\"T_58f7f_row1_col0\" class=\"data row1 col0\" >Target</td>\n",
       "      <td id=\"T_58f7f_row1_col1\" class=\"data row1 col1\" >label</td>\n",
       "    </tr>\n",
       "    <tr>\n",
       "      <th id=\"T_58f7f_level0_row2\" class=\"row_heading level0 row2\" >2</th>\n",
       "      <td id=\"T_58f7f_row2_col0\" class=\"data row2 col0\" >Target type</td>\n",
       "      <td id=\"T_58f7f_row2_col1\" class=\"data row2 col1\" >Multiclass</td>\n",
       "    </tr>\n",
       "    <tr>\n",
       "      <th id=\"T_58f7f_level0_row3\" class=\"row_heading level0 row3\" >3</th>\n",
       "      <td id=\"T_58f7f_row3_col0\" class=\"data row3 col0\" >Original data shape</td>\n",
       "      <td id=\"T_58f7f_row3_col1\" class=\"data row3 col1\" >(18000, 1001)</td>\n",
       "    </tr>\n",
       "    <tr>\n",
       "      <th id=\"T_58f7f_level0_row4\" class=\"row_heading level0 row4\" >4</th>\n",
       "      <td id=\"T_58f7f_row4_col0\" class=\"data row4 col0\" >Transformed data shape</td>\n",
       "      <td id=\"T_58f7f_row4_col1\" class=\"data row4 col1\" >(22000, 1001)</td>\n",
       "    </tr>\n",
       "    <tr>\n",
       "      <th id=\"T_58f7f_level0_row5\" class=\"row_heading level0 row5\" >5</th>\n",
       "      <td id=\"T_58f7f_row5_col0\" class=\"data row5 col0\" >Transformed train set shape</td>\n",
       "      <td id=\"T_58f7f_row5_col1\" class=\"data row5 col1\" >(18000, 1001)</td>\n",
       "    </tr>\n",
       "    <tr>\n",
       "      <th id=\"T_58f7f_level0_row6\" class=\"row_heading level0 row6\" >6</th>\n",
       "      <td id=\"T_58f7f_row6_col0\" class=\"data row6 col0\" >Transformed test set shape</td>\n",
       "      <td id=\"T_58f7f_row6_col1\" class=\"data row6 col1\" >(4000, 1001)</td>\n",
       "    </tr>\n",
       "    <tr>\n",
       "      <th id=\"T_58f7f_level0_row7\" class=\"row_heading level0 row7\" >7</th>\n",
       "      <td id=\"T_58f7f_row7_col0\" class=\"data row7 col0\" >Numeric features</td>\n",
       "      <td id=\"T_58f7f_row7_col1\" class=\"data row7 col1\" >1000</td>\n",
       "    </tr>\n",
       "    <tr>\n",
       "      <th id=\"T_58f7f_level0_row8\" class=\"row_heading level0 row8\" >8</th>\n",
       "      <td id=\"T_58f7f_row8_col0\" class=\"data row8 col0\" >Preprocess</td>\n",
       "      <td id=\"T_58f7f_row8_col1\" class=\"data row8 col1\" >True</td>\n",
       "    </tr>\n",
       "    <tr>\n",
       "      <th id=\"T_58f7f_level0_row9\" class=\"row_heading level0 row9\" >9</th>\n",
       "      <td id=\"T_58f7f_row9_col0\" class=\"data row9 col0\" >Imputation type</td>\n",
       "      <td id=\"T_58f7f_row9_col1\" class=\"data row9 col1\" >simple</td>\n",
       "    </tr>\n",
       "    <tr>\n",
       "      <th id=\"T_58f7f_level0_row10\" class=\"row_heading level0 row10\" >10</th>\n",
       "      <td id=\"T_58f7f_row10_col0\" class=\"data row10 col0\" >Numeric imputation</td>\n",
       "      <td id=\"T_58f7f_row10_col1\" class=\"data row10 col1\" >mean</td>\n",
       "    </tr>\n",
       "    <tr>\n",
       "      <th id=\"T_58f7f_level0_row11\" class=\"row_heading level0 row11\" >11</th>\n",
       "      <td id=\"T_58f7f_row11_col0\" class=\"data row11 col0\" >Categorical imputation</td>\n",
       "      <td id=\"T_58f7f_row11_col1\" class=\"data row11 col1\" >mode</td>\n",
       "    </tr>\n",
       "    <tr>\n",
       "      <th id=\"T_58f7f_level0_row12\" class=\"row_heading level0 row12\" >12</th>\n",
       "      <td id=\"T_58f7f_row12_col0\" class=\"data row12 col0\" >Fold Generator</td>\n",
       "      <td id=\"T_58f7f_row12_col1\" class=\"data row12 col1\" >StratifiedKFold</td>\n",
       "    </tr>\n",
       "    <tr>\n",
       "      <th id=\"T_58f7f_level0_row13\" class=\"row_heading level0 row13\" >13</th>\n",
       "      <td id=\"T_58f7f_row13_col0\" class=\"data row13 col0\" >Fold Number</td>\n",
       "      <td id=\"T_58f7f_row13_col1\" class=\"data row13 col1\" >3</td>\n",
       "    </tr>\n",
       "    <tr>\n",
       "      <th id=\"T_58f7f_level0_row14\" class=\"row_heading level0 row14\" >14</th>\n",
       "      <td id=\"T_58f7f_row14_col0\" class=\"data row14 col0\" >CPU Jobs</td>\n",
       "      <td id=\"T_58f7f_row14_col1\" class=\"data row14 col1\" >-1</td>\n",
       "    </tr>\n",
       "    <tr>\n",
       "      <th id=\"T_58f7f_level0_row15\" class=\"row_heading level0 row15\" >15</th>\n",
       "      <td id=\"T_58f7f_row15_col0\" class=\"data row15 col0\" >Use GPU</td>\n",
       "      <td id=\"T_58f7f_row15_col1\" class=\"data row15 col1\" >False</td>\n",
       "    </tr>\n",
       "    <tr>\n",
       "      <th id=\"T_58f7f_level0_row16\" class=\"row_heading level0 row16\" >16</th>\n",
       "      <td id=\"T_58f7f_row16_col0\" class=\"data row16 col0\" >Log Experiment</td>\n",
       "      <td id=\"T_58f7f_row16_col1\" class=\"data row16 col1\" >False</td>\n",
       "    </tr>\n",
       "    <tr>\n",
       "      <th id=\"T_58f7f_level0_row17\" class=\"row_heading level0 row17\" >17</th>\n",
       "      <td id=\"T_58f7f_row17_col0\" class=\"data row17 col0\" >Experiment Name</td>\n",
       "      <td id=\"T_58f7f_row17_col1\" class=\"data row17 col1\" >clf-default-name</td>\n",
       "    </tr>\n",
       "    <tr>\n",
       "      <th id=\"T_58f7f_level0_row18\" class=\"row_heading level0 row18\" >18</th>\n",
       "      <td id=\"T_58f7f_row18_col0\" class=\"data row18 col0\" >USI</td>\n",
       "      <td id=\"T_58f7f_row18_col1\" class=\"data row18 col1\" >36ab</td>\n",
       "    </tr>\n",
       "  </tbody>\n",
       "</table>\n"
      ],
      "text/plain": [
       "<pandas.io.formats.style.Styler at 0x1cc9a1ab520>"
      ]
     },
     "metadata": {},
     "output_type": "display_data"
    }
   ],
   "source": [
    "clf = setup(data=train, test_data=test, target='label', fold=3)"
   ]
  },
  {
   "cell_type": "code",
   "execution_count": null,
   "id": "1f3b1003",
   "metadata": {
    "ExecuteTime": {
     "start_time": "2023-05-22T17:26:44.137Z"
    }
   },
   "outputs": [
    {
     "data": {
      "text/html": [
       "<div>\n",
       "<style scoped>\n",
       "    .dataframe tbody tr th:only-of-type {\n",
       "        vertical-align: middle;\n",
       "    }\n",
       "\n",
       "    .dataframe tbody tr th {\n",
       "        vertical-align: top;\n",
       "    }\n",
       "\n",
       "    .dataframe thead th {\n",
       "        text-align: right;\n",
       "    }\n",
       "</style>\n",
       "<table border=\"1\" class=\"dataframe\">\n",
       "  <thead>\n",
       "    <tr style=\"text-align: right;\">\n",
       "      <th></th>\n",
       "      <th></th>\n",
       "      <th></th>\n",
       "    </tr>\n",
       "    <tr>\n",
       "      <th></th>\n",
       "      <th></th>\n",
       "      <th></th>\n",
       "    </tr>\n",
       "  </thead>\n",
       "  <tbody>\n",
       "    <tr>\n",
       "      <th>Initiated</th>\n",
       "      <td>. . . . . . . . . . . . . . . . . .</td>\n",
       "      <td>20:26:44</td>\n",
       "    </tr>\n",
       "    <tr>\n",
       "      <th>Status</th>\n",
       "      <td>. . . . . . . . . . . . . . . . . .</td>\n",
       "      <td>Fitting 3 Folds</td>\n",
       "    </tr>\n",
       "    <tr>\n",
       "      <th>Estimator</th>\n",
       "      <td>. . . . . . . . . . . . . . . . . .</td>\n",
       "      <td>Gradient Boosting Classifier</td>\n",
       "    </tr>\n",
       "  </tbody>\n",
       "</table>\n",
       "</div>"
      ],
      "text/plain": [
       "                                                                            \n",
       "                                                                            \n",
       "Initiated  . . . . . . . . . . . . . . . . . .                      20:26:44\n",
       "Status     . . . . . . . . . . . . . . . . . .               Fitting 3 Folds\n",
       "Estimator  . . . . . . . . . . . . . . . . . .  Gradient Boosting Classifier"
      ]
     },
     "metadata": {},
     "output_type": "display_data"
    },
    {
     "data": {
      "text/html": [
       "<style type=\"text/css\">\n",
       "#T_0dd6c th {\n",
       "  text-align: left;\n",
       "}\n",
       "#T_0dd6c_row0_col0, #T_0dd6c_row0_col1, #T_0dd6c_row0_col2, #T_0dd6c_row0_col3, #T_0dd6c_row0_col4, #T_0dd6c_row0_col5, #T_0dd6c_row0_col6, #T_0dd6c_row0_col7, #T_0dd6c_row0_col8, #T_0dd6c_row1_col0, #T_0dd6c_row1_col1, #T_0dd6c_row1_col2, #T_0dd6c_row1_col3, #T_0dd6c_row1_col4, #T_0dd6c_row1_col5, #T_0dd6c_row1_col6, #T_0dd6c_row1_col7, #T_0dd6c_row1_col8, #T_0dd6c_row2_col0, #T_0dd6c_row2_col1, #T_0dd6c_row2_col2, #T_0dd6c_row2_col3, #T_0dd6c_row2_col4, #T_0dd6c_row2_col5, #T_0dd6c_row2_col6, #T_0dd6c_row2_col7, #T_0dd6c_row2_col8, #T_0dd6c_row3_col0, #T_0dd6c_row3_col1, #T_0dd6c_row3_col2, #T_0dd6c_row3_col3, #T_0dd6c_row3_col4, #T_0dd6c_row3_col5, #T_0dd6c_row3_col6, #T_0dd6c_row3_col7, #T_0dd6c_row3_col8, #T_0dd6c_row4_col0, #T_0dd6c_row4_col1, #T_0dd6c_row4_col2, #T_0dd6c_row4_col3, #T_0dd6c_row4_col4, #T_0dd6c_row4_col5, #T_0dd6c_row4_col6, #T_0dd6c_row4_col7, #T_0dd6c_row4_col8, #T_0dd6c_row5_col0, #T_0dd6c_row5_col1, #T_0dd6c_row5_col2, #T_0dd6c_row5_col3, #T_0dd6c_row5_col4, #T_0dd6c_row5_col5, #T_0dd6c_row5_col6, #T_0dd6c_row5_col7, #T_0dd6c_row5_col8, #T_0dd6c_row6_col0, #T_0dd6c_row6_col1, #T_0dd6c_row6_col2, #T_0dd6c_row6_col3, #T_0dd6c_row6_col4, #T_0dd6c_row6_col5, #T_0dd6c_row6_col6, #T_0dd6c_row6_col7, #T_0dd6c_row6_col8, #T_0dd6c_row7_col0, #T_0dd6c_row7_col1, #T_0dd6c_row7_col2, #T_0dd6c_row7_col3, #T_0dd6c_row7_col4, #T_0dd6c_row7_col5, #T_0dd6c_row7_col6, #T_0dd6c_row7_col7, #T_0dd6c_row7_col8, #T_0dd6c_row8_col0, #T_0dd6c_row8_col1, #T_0dd6c_row8_col2, #T_0dd6c_row8_col3, #T_0dd6c_row8_col4, #T_0dd6c_row8_col5, #T_0dd6c_row8_col6, #T_0dd6c_row8_col7, #T_0dd6c_row8_col8 {\n",
       "  text-align: left;\n",
       "}\n",
       "</style>\n",
       "<table id=\"T_0dd6c\">\n",
       "  <thead>\n",
       "    <tr>\n",
       "      <th class=\"blank level0\" >&nbsp;</th>\n",
       "      <th id=\"T_0dd6c_level0_col0\" class=\"col_heading level0 col0\" >Model</th>\n",
       "      <th id=\"T_0dd6c_level0_col1\" class=\"col_heading level0 col1\" >Accuracy</th>\n",
       "      <th id=\"T_0dd6c_level0_col2\" class=\"col_heading level0 col2\" >AUC</th>\n",
       "      <th id=\"T_0dd6c_level0_col3\" class=\"col_heading level0 col3\" >Recall</th>\n",
       "      <th id=\"T_0dd6c_level0_col4\" class=\"col_heading level0 col4\" >Prec.</th>\n",
       "      <th id=\"T_0dd6c_level0_col5\" class=\"col_heading level0 col5\" >F1</th>\n",
       "      <th id=\"T_0dd6c_level0_col6\" class=\"col_heading level0 col6\" >Kappa</th>\n",
       "      <th id=\"T_0dd6c_level0_col7\" class=\"col_heading level0 col7\" >MCC</th>\n",
       "      <th id=\"T_0dd6c_level0_col8\" class=\"col_heading level0 col8\" >TT (Sec)</th>\n",
       "    </tr>\n",
       "  </thead>\n",
       "  <tbody>\n",
       "    <tr>\n",
       "      <th id=\"T_0dd6c_level0_row0\" class=\"row_heading level0 row0\" >ridge</th>\n",
       "      <td id=\"T_0dd6c_row0_col0\" class=\"data row0 col0\" >Ridge Classifier</td>\n",
       "      <td id=\"T_0dd6c_row0_col1\" class=\"data row0 col1\" >0.8781</td>\n",
       "      <td id=\"T_0dd6c_row0_col2\" class=\"data row0 col2\" >0.0000</td>\n",
       "      <td id=\"T_0dd6c_row0_col3\" class=\"data row0 col3\" >0.8781</td>\n",
       "      <td id=\"T_0dd6c_row0_col4\" class=\"data row0 col4\" >0.8780</td>\n",
       "      <td id=\"T_0dd6c_row0_col5\" class=\"data row0 col5\" >0.8761</td>\n",
       "      <td id=\"T_0dd6c_row0_col6\" class=\"data row0 col6\" >0.8379</td>\n",
       "      <td id=\"T_0dd6c_row0_col7\" class=\"data row0 col7\" >0.8388</td>\n",
       "      <td id=\"T_0dd6c_row0_col8\" class=\"data row0 col8\" >4.9667</td>\n",
       "    </tr>\n",
       "    <tr>\n",
       "      <th id=\"T_0dd6c_level0_row1\" class=\"row_heading level0 row1\" >svm</th>\n",
       "      <td id=\"T_0dd6c_row1_col0\" class=\"data row1 col0\" >SVM - Linear Kernel</td>\n",
       "      <td id=\"T_0dd6c_row1_col1\" class=\"data row1 col1\" >0.8701</td>\n",
       "      <td id=\"T_0dd6c_row1_col2\" class=\"data row1 col2\" >0.0000</td>\n",
       "      <td id=\"T_0dd6c_row1_col3\" class=\"data row1 col3\" >0.8701</td>\n",
       "      <td id=\"T_0dd6c_row1_col4\" class=\"data row1 col4\" >0.8737</td>\n",
       "      <td id=\"T_0dd6c_row1_col5\" class=\"data row1 col5\" >0.8684</td>\n",
       "      <td id=\"T_0dd6c_row1_col6\" class=\"data row1 col6\" >0.8270</td>\n",
       "      <td id=\"T_0dd6c_row1_col7\" class=\"data row1 col7\" >0.8292</td>\n",
       "      <td id=\"T_0dd6c_row1_col8\" class=\"data row1 col8\" >5.5333</td>\n",
       "    </tr>\n",
       "    <tr>\n",
       "      <th id=\"T_0dd6c_level0_row2\" class=\"row_heading level0 row2\" >lr</th>\n",
       "      <td id=\"T_0dd6c_row2_col0\" class=\"data row2 col0\" >Logistic Regression</td>\n",
       "      <td id=\"T_0dd6c_row2_col1\" class=\"data row2 col1\" >0.8378</td>\n",
       "      <td id=\"T_0dd6c_row2_col2\" class=\"data row2 col2\" >0.9807</td>\n",
       "      <td id=\"T_0dd6c_row2_col3\" class=\"data row2 col3\" >0.8378</td>\n",
       "      <td id=\"T_0dd6c_row2_col4\" class=\"data row2 col4\" >0.8448</td>\n",
       "      <td id=\"T_0dd6c_row2_col5\" class=\"data row2 col5\" >0.8306</td>\n",
       "      <td id=\"T_0dd6c_row2_col6\" class=\"data row2 col6\" >0.7809</td>\n",
       "      <td id=\"T_0dd6c_row2_col7\" class=\"data row2 col7\" >0.7853</td>\n",
       "      <td id=\"T_0dd6c_row2_col8\" class=\"data row2 col8\" >27.0500</td>\n",
       "    </tr>\n",
       "    <tr>\n",
       "      <th id=\"T_0dd6c_level0_row3\" class=\"row_heading level0 row3\" >qda</th>\n",
       "      <td id=\"T_0dd6c_row3_col0\" class=\"data row3 col0\" >Quadratic Discriminant Analysis</td>\n",
       "      <td id=\"T_0dd6c_row3_col1\" class=\"data row3 col1\" >0.7529</td>\n",
       "      <td id=\"T_0dd6c_row3_col2\" class=\"data row3 col2\" >0.8524</td>\n",
       "      <td id=\"T_0dd6c_row3_col3\" class=\"data row3 col3\" >0.7529</td>\n",
       "      <td id=\"T_0dd6c_row3_col4\" class=\"data row3 col4\" >0.6734</td>\n",
       "      <td id=\"T_0dd6c_row3_col5\" class=\"data row3 col5\" >0.7005</td>\n",
       "      <td id=\"T_0dd6c_row3_col6\" class=\"data row3 col6\" >0.6568</td>\n",
       "      <td id=\"T_0dd6c_row3_col7\" class=\"data row3 col7\" >0.6712</td>\n",
       "      <td id=\"T_0dd6c_row3_col8\" class=\"data row3 col8\" >19.1433</td>\n",
       "    </tr>\n",
       "    <tr>\n",
       "      <th id=\"T_0dd6c_level0_row4\" class=\"row_heading level0 row4\" >rf</th>\n",
       "      <td id=\"T_0dd6c_row4_col0\" class=\"data row4 col0\" >Random Forest Classifier</td>\n",
       "      <td id=\"T_0dd6c_row4_col1\" class=\"data row4 col1\" >0.6012</td>\n",
       "      <td id=\"T_0dd6c_row4_col2\" class=\"data row4 col2\" >0.8801</td>\n",
       "      <td id=\"T_0dd6c_row4_col3\" class=\"data row4 col3\" >0.6012</td>\n",
       "      <td id=\"T_0dd6c_row4_col4\" class=\"data row4 col4\" >0.7055</td>\n",
       "      <td id=\"T_0dd6c_row4_col5\" class=\"data row4 col5\" >0.5488</td>\n",
       "      <td id=\"T_0dd6c_row4_col6\" class=\"data row4 col6\" >0.4279</td>\n",
       "      <td id=\"T_0dd6c_row4_col7\" class=\"data row4 col7\" >0.4605</td>\n",
       "      <td id=\"T_0dd6c_row4_col8\" class=\"data row4 col8\" >51.2733</td>\n",
       "    </tr>\n",
       "    <tr>\n",
       "      <th id=\"T_0dd6c_level0_row5\" class=\"row_heading level0 row5\" >knn</th>\n",
       "      <td id=\"T_0dd6c_row5_col0\" class=\"data row5 col0\" >K Neighbors Classifier</td>\n",
       "      <td id=\"T_0dd6c_row5_col1\" class=\"data row5 col1\" >0.5432</td>\n",
       "      <td id=\"T_0dd6c_row5_col2\" class=\"data row5 col2\" >0.7988</td>\n",
       "      <td id=\"T_0dd6c_row5_col3\" class=\"data row5 col3\" >0.5432</td>\n",
       "      <td id=\"T_0dd6c_row5_col4\" class=\"data row5 col4\" >0.6291</td>\n",
       "      <td id=\"T_0dd6c_row5_col5\" class=\"data row5 col5\" >0.5556</td>\n",
       "      <td id=\"T_0dd6c_row5_col6\" class=\"data row5 col6\" >0.4142</td>\n",
       "      <td id=\"T_0dd6c_row5_col7\" class=\"data row5 col7\" >0.4265</td>\n",
       "      <td id=\"T_0dd6c_row5_col8\" class=\"data row5 col8\" >40.5967</td>\n",
       "    </tr>\n",
       "    <tr>\n",
       "      <th id=\"T_0dd6c_level0_row6\" class=\"row_heading level0 row6\" >nb</th>\n",
       "      <td id=\"T_0dd6c_row6_col0\" class=\"data row6 col0\" >Naive Bayes</td>\n",
       "      <td id=\"T_0dd6c_row6_col1\" class=\"data row6 col1\" >0.4490</td>\n",
       "      <td id=\"T_0dd6c_row6_col2\" class=\"data row6 col2\" >0.7345</td>\n",
       "      <td id=\"T_0dd6c_row6_col3\" class=\"data row6 col3\" >0.4490</td>\n",
       "      <td id=\"T_0dd6c_row6_col4\" class=\"data row6 col4\" >0.5175</td>\n",
       "      <td id=\"T_0dd6c_row6_col5\" class=\"data row6 col5\" >0.4566</td>\n",
       "      <td id=\"T_0dd6c_row6_col6\" class=\"data row6 col6\" >0.2951</td>\n",
       "      <td id=\"T_0dd6c_row6_col7\" class=\"data row6 col7\" >0.3007</td>\n",
       "      <td id=\"T_0dd6c_row6_col8\" class=\"data row6 col8\" >4.9800</td>\n",
       "    </tr>\n",
       "    <tr>\n",
       "      <th id=\"T_0dd6c_level0_row7\" class=\"row_heading level0 row7\" >dt</th>\n",
       "      <td id=\"T_0dd6c_row7_col0\" class=\"data row7 col0\" >Decision Tree Classifier</td>\n",
       "      <td id=\"T_0dd6c_row7_col1\" class=\"data row7 col1\" >0.4132</td>\n",
       "      <td id=\"T_0dd6c_row7_col2\" class=\"data row7 col2\" >0.6161</td>\n",
       "      <td id=\"T_0dd6c_row7_col3\" class=\"data row7 col3\" >0.4132</td>\n",
       "      <td id=\"T_0dd6c_row7_col4\" class=\"data row7 col4\" >0.4127</td>\n",
       "      <td id=\"T_0dd6c_row7_col5\" class=\"data row7 col5\" >0.4129</td>\n",
       "      <td id=\"T_0dd6c_row7_col6\" class=\"data row7 col6\" >0.2285</td>\n",
       "      <td id=\"T_0dd6c_row7_col7\" class=\"data row7 col7\" >0.2285</td>\n",
       "      <td id=\"T_0dd6c_row7_col8\" class=\"data row7 col8\" >37.4567</td>\n",
       "    </tr>\n",
       "    <tr>\n",
       "      <th id=\"T_0dd6c_level0_row8\" class=\"row_heading level0 row8\" >ada</th>\n",
       "      <td id=\"T_0dd6c_row8_col0\" class=\"data row8 col0\" >Ada Boost Classifier</td>\n",
       "      <td id=\"T_0dd6c_row8_col1\" class=\"data row8 col1\" >0.3872</td>\n",
       "      <td id=\"T_0dd6c_row8_col2\" class=\"data row8 col2\" >0.6030</td>\n",
       "      <td id=\"T_0dd6c_row8_col3\" class=\"data row8 col3\" >0.3872</td>\n",
       "      <td id=\"T_0dd6c_row8_col4\" class=\"data row8 col4\" >0.3644</td>\n",
       "      <td id=\"T_0dd6c_row8_col5\" class=\"data row8 col5\" >0.3315</td>\n",
       "      <td id=\"T_0dd6c_row8_col6\" class=\"data row8 col6\" >0.1254</td>\n",
       "      <td id=\"T_0dd6c_row8_col7\" class=\"data row8 col7\" >0.1391</td>\n",
       "      <td id=\"T_0dd6c_row8_col8\" class=\"data row8 col8\" >89.1467</td>\n",
       "    </tr>\n",
       "  </tbody>\n",
       "</table>\n"
      ],
      "text/plain": [
       "<pandas.io.formats.style.Styler at 0x1cca923a6a0>"
      ]
     },
     "metadata": {},
     "output_type": "display_data"
    },
    {
     "data": {
      "application/vnd.jupyter.widget-view+json": {
       "model_id": "96f049a79bda46c6b74619267baf9b30",
       "version_major": 2,
       "version_minor": 0
      },
      "text/plain": [
       "Processing:   0%|          | 0/65 [00:00<?, ?it/s]"
      ]
     },
     "metadata": {},
     "output_type": "display_data"
    }
   ],
   "source": [
    "best = compare_models()"
   ]
  },
  {
   "cell_type": "code",
   "execution_count": null,
   "id": "dd53f58d",
   "metadata": {},
   "outputs": [],
   "source": [
    "# Logistic Regression is the best baseline model"
   ]
  }
 ],
 "metadata": {
  "kernelspec": {
   "display_name": "Python 3 (ipykernel)",
   "language": "python",
   "name": "python3"
  },
  "language_info": {
   "codemirror_mode": {
    "name": "ipython",
    "version": 3
   },
   "file_extension": ".py",
   "mimetype": "text/x-python",
   "name": "python",
   "nbconvert_exporter": "python",
   "pygments_lexer": "ipython3",
   "version": "3.9.13"
  },
  "toc": {
   "base_numbering": 1,
   "nav_menu": {},
   "number_sections": true,
   "sideBar": true,
   "skip_h1_title": false,
   "title_cell": "Table of Contents",
   "title_sidebar": "Contents",
   "toc_cell": false,
   "toc_position": {},
   "toc_section_display": true,
   "toc_window_display": false
  },
  "varInspector": {
   "cols": {
    "lenName": 16,
    "lenType": 16,
    "lenVar": 40
   },
   "kernels_config": {
    "python": {
     "delete_cmd_postfix": "",
     "delete_cmd_prefix": "del ",
     "library": "var_list.py",
     "varRefreshCmd": "print(var_dic_list())"
    },
    "r": {
     "delete_cmd_postfix": ") ",
     "delete_cmd_prefix": "rm(",
     "library": "var_list.r",
     "varRefreshCmd": "cat(var_dic_list()) "
    }
   },
   "types_to_exclude": [
    "module",
    "function",
    "builtin_function_or_method",
    "instance",
    "_Feature"
   ],
   "window_display": false
  }
 },
 "nbformat": 4,
 "nbformat_minor": 5
}
