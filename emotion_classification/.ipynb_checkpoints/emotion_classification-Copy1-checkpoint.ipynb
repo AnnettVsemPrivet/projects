{
 "cells": [
  {
   "cell_type": "markdown",
   "id": "f0c770be",
   "metadata": {},
   "source": [
    "# libs"
   ]
  },
  {
   "cell_type": "code",
   "execution_count": 1,
   "id": "fdc21beb",
   "metadata": {
    "ExecuteTime": {
     "end_time": "2023-05-22T20:25:31.827308Z",
     "start_time": "2023-05-22T20:25:16.558974Z"
    }
   },
   "outputs": [],
   "source": [
    "import pandas as pd\n",
    "import numpy as np\n",
    "\n",
    "from sklearn.feature_extraction.text import TfidfVectorizer\n",
    "from sklearn.decomposition import TruncatedSVD\n",
    "from pycaret.classification import *"
   ]
  },
  {
   "cell_type": "markdown",
   "id": "78413fbd",
   "metadata": {
    "heading_collapsed": true
   },
   "source": [
    "# product metric"
   ]
  },
  {
   "cell_type": "markdown",
   "id": "3c1f952b",
   "metadata": {
    "hidden": true
   },
   "source": [
    "- **продукт**: чат-бот для психологической поддержки (можно взять готовую модель bloom https://colab.research.google.com/drive/1Ervk6HPNS6AYVr3xVdQnY5a-TjjmLCdQ). каждый ответ человека классифицируется по эмоциям. в итоге, мы можем посчитать какая эмоция превалировала в процентном соотношении за каждый разговор/ день/ неделю. эту информацию можно как превращать в столбчатые диаграммы с изменяемым периодом, чтобы человек сам видел как он себя чувствует, как его настроение меняется в каких ситуациях, так и для бизнес-метрики (ретеншен), т к она вероятнее всего будет коррелировать с тем, меняется ли настроение человека к концу разговора с ботом относительно начала. например, любой разговор (коммуникация, перерывы в которой не превышают 1 час) будем делить на 4 равные части из сообщений, по первой замерять преобладающее настроение человека в момент обращения к боту, а по последней - настроение после \"работы\" с ботом. если процент \"хороших\" эмоций повышается, то значит что бот помогает справляться с тяжелым состоянием, и ожидается, что такие люди будут с большей вероятностью возвращаться к использованию продукта. также это в целом полезный показатель удовлетворенности клиента в случае с таким нетиповым продуктом. \n",
    "- **задача ML**: многоклассовая классификация\n",
    "- **целевая переменная**: метки эмоций\n",
    "- **бизнесовая метрика**: выдвигаем гипотезу, что на RR влияет процент \"хороших\" эмоций к концу диалога с ботом относительно начала диалога\n",
    "- **ML-метрики**: средняя F-мера, индивидуальные AUC-PRC и AUC-ROC"
   ]
  },
  {
   "cell_type": "markdown",
   "id": "be09a540",
   "metadata": {},
   "source": [
    "# data"
   ]
  },
  {
   "cell_type": "markdown",
   "id": "95f395dc",
   "metadata": {},
   "source": [
    "labels:\n",
    " - 0 > sadness\n",
    " - 1 > joy\n",
    " - 2 > love\n",
    " - 3 > anger\n",
    " - 4 > fear\n",
    " - 5 > surprise"
   ]
  },
  {
   "cell_type": "code",
   "execution_count": 2,
   "id": "ec3ae925",
   "metadata": {
    "ExecuteTime": {
     "end_time": "2023-05-22T19:52:50.755129Z",
     "start_time": "2023-05-22T19:52:50.667909Z"
    }
   },
   "outputs": [],
   "source": [
    "df_train = pd.read_csv('data/training.csv')\n",
    "df_test = pd.read_csv('data/test.csv')\n",
    "df_val = pd.read_csv('data/validation.csv')"
   ]
  },
  {
   "cell_type": "code",
   "execution_count": 3,
   "id": "6c1446b0",
   "metadata": {
    "ExecuteTime": {
     "end_time": "2023-05-22T19:52:56.185149Z",
     "start_time": "2023-05-22T19:52:56.143264Z"
    }
   },
   "outputs": [
    {
     "data": {
      "text/plain": [
       "1    5362\n",
       "0    4666\n",
       "3    2159\n",
       "4    1937\n",
       "2    1304\n",
       "5     572\n",
       "Name: label, dtype: int64"
      ]
     },
     "execution_count": 3,
     "metadata": {},
     "output_type": "execute_result"
    }
   ],
   "source": [
    "df_train.label.value_counts()"
   ]
  },
  {
   "cell_type": "code",
   "execution_count": 16,
   "id": "07e87351",
   "metadata": {
    "ExecuteTime": {
     "end_time": "2023-05-22T19:57:25.435604Z",
     "start_time": "2023-05-22T19:57:25.389689Z"
    }
   },
   "outputs": [],
   "source": [
    "ind_0 = np.random.choice(list(df_train[df_train['label']==0].index), 2000, replace=False)\n",
    "ind_1 = np.random.choice(list(df_train[df_train['label']==1].index), 2000, replace=False)\n",
    "ind_3 = np.random.choice(list(df_train[df_train['label']==3].index), 2000, replace=False)"
   ]
  },
  {
   "cell_type": "code",
   "execution_count": 28,
   "id": "61a6cbc3",
   "metadata": {
    "ExecuteTime": {
     "end_time": "2023-05-22T20:01:08.489251Z",
     "start_time": "2023-05-22T20:01:08.446405Z"
    }
   },
   "outputs": [],
   "source": [
    "ind = list(pd.concat([df_train.iloc[ind_0], df_train.iloc[ind_1], df_train.iloc[ind_3], df_train.query('label==4 or label==2 or label==5')]).index)"
   ]
  },
  {
   "cell_type": "code",
   "execution_count": 29,
   "id": "df474a9b",
   "metadata": {
    "ExecuteTime": {
     "end_time": "2023-05-22T20:01:13.088431Z",
     "start_time": "2023-05-22T20:01:13.073469Z"
    }
   },
   "outputs": [],
   "source": [
    "np.random.shuffle(ind)"
   ]
  },
  {
   "cell_type": "code",
   "execution_count": 32,
   "id": "067323a8",
   "metadata": {
    "ExecuteTime": {
     "end_time": "2023-05-22T20:01:46.171989Z",
     "start_time": "2023-05-22T20:01:46.121128Z"
    }
   },
   "outputs": [
    {
     "data": {
      "text/html": [
       "<div>\n",
       "<style scoped>\n",
       "    .dataframe tbody tr th:only-of-type {\n",
       "        vertical-align: middle;\n",
       "    }\n",
       "\n",
       "    .dataframe tbody tr th {\n",
       "        vertical-align: top;\n",
       "    }\n",
       "\n",
       "    .dataframe thead th {\n",
       "        text-align: right;\n",
       "    }\n",
       "</style>\n",
       "<table border=\"1\" class=\"dataframe\">\n",
       "  <thead>\n",
       "    <tr style=\"text-align: right;\">\n",
       "      <th></th>\n",
       "      <th>text</th>\n",
       "      <th>label</th>\n",
       "    </tr>\n",
       "  </thead>\n",
       "  <tbody>\n",
       "    <tr>\n",
       "      <th>0</th>\n",
       "      <td>i understand that chronically living makes som...</td>\n",
       "      <td>4</td>\n",
       "    </tr>\n",
       "    <tr>\n",
       "      <th>1</th>\n",
       "      <td>ive learned that people will forget what you s...</td>\n",
       "      <td>1</td>\n",
       "    </tr>\n",
       "    <tr>\n",
       "      <th>2</th>\n",
       "      <td>i struggled to feel any empathy for any of the...</td>\n",
       "      <td>1</td>\n",
       "    </tr>\n",
       "    <tr>\n",
       "      <th>3</th>\n",
       "      <td>i love what i do and i feel so blessed and luc...</td>\n",
       "      <td>2</td>\n",
       "    </tr>\n",
       "    <tr>\n",
       "      <th>4</th>\n",
       "      <td>i was transferred to the operating bed i began...</td>\n",
       "      <td>4</td>\n",
       "    </tr>\n",
       "    <tr>\n",
       "      <th>...</th>\n",
       "      <td>...</td>\n",
       "      <td>...</td>\n",
       "    </tr>\n",
       "    <tr>\n",
       "      <th>9808</th>\n",
       "      <td>i am rushed about here there and everywhere by...</td>\n",
       "      <td>0</td>\n",
       "    </tr>\n",
       "    <tr>\n",
       "      <th>9809</th>\n",
       "      <td>i am feeling very shaky</td>\n",
       "      <td>4</td>\n",
       "    </tr>\n",
       "    <tr>\n",
       "      <th>9810</th>\n",
       "      <td>i feel pressured helpless because i dont have ...</td>\n",
       "      <td>4</td>\n",
       "    </tr>\n",
       "    <tr>\n",
       "      <th>9811</th>\n",
       "      <td>i still love my so and wish the best for him i...</td>\n",
       "      <td>0</td>\n",
       "    </tr>\n",
       "    <tr>\n",
       "      <th>9812</th>\n",
       "      <td>i did manage two short runs and a walk but tod...</td>\n",
       "      <td>4</td>\n",
       "    </tr>\n",
       "  </tbody>\n",
       "</table>\n",
       "<p>9813 rows × 2 columns</p>\n",
       "</div>"
      ],
      "text/plain": [
       "                                                   text  label\n",
       "0     i understand that chronically living makes som...      4\n",
       "1     ive learned that people will forget what you s...      1\n",
       "2     i struggled to feel any empathy for any of the...      1\n",
       "3     i love what i do and i feel so blessed and luc...      2\n",
       "4     i was transferred to the operating bed i began...      4\n",
       "...                                                 ...    ...\n",
       "9808  i am rushed about here there and everywhere by...      0\n",
       "9809                            i am feeling very shaky      4\n",
       "9810  i feel pressured helpless because i dont have ...      4\n",
       "9811  i still love my so and wish the best for him i...      0\n",
       "9812  i did manage two short runs and a walk but tod...      4\n",
       "\n",
       "[9813 rows x 2 columns]"
      ]
     },
     "execution_count": 32,
     "metadata": {},
     "output_type": "execute_result"
    }
   ],
   "source": [
    "df_train.iloc[ind].reset_index(drop=True)"
   ]
  },
  {
   "cell_type": "code",
   "execution_count": 36,
   "id": "d8a025a5",
   "metadata": {
    "ExecuteTime": {
     "end_time": "2023-05-22T20:04:13.671633Z",
     "start_time": "2023-05-22T20:03:43.824402Z"
    }
   },
   "outputs": [],
   "source": [
    "new_df = df_train.iloc[ind].reset_index(drop=True)\n",
    "\n",
    "vect = TfidfVectorizer(sublinear_tf=True, use_idf=True)\n",
    "X_train = vect.fit_transform(new_df.text.values)\n",
    "\n",
    "tsvd = TruncatedSVD(n_components=1000)\n",
    "X_train_pca = tsvd.fit_transform(X_train)\n",
    "\n",
    "train = pd.concat([pd.DataFrame(X_train_pca),new_df.label],axis=1)"
   ]
  },
  {
   "cell_type": "code",
   "execution_count": null,
   "id": "d14cf507",
   "metadata": {},
   "outputs": [],
   "source": []
  },
  {
   "cell_type": "code",
   "execution_count": null,
   "id": "36e7bda0",
   "metadata": {},
   "outputs": [],
   "source": []
  },
  {
   "cell_type": "code",
   "execution_count": null,
   "id": "1d077d98",
   "metadata": {},
   "outputs": [],
   "source": []
  },
  {
   "cell_type": "code",
   "execution_count": 34,
   "id": "5a1242b5",
   "metadata": {
    "ExecuteTime": {
     "end_time": "2023-05-22T20:02:50.402533Z",
     "start_time": "2023-05-22T20:02:49.822566Z"
    }
   },
   "outputs": [],
   "source": [
    "vect = TfidfVectorizer(sublinear_tf=True, use_idf=True)\n",
    "\n",
    "X_train = vect.fit_transform(df_train.text.values)\n",
    "X_test = vect.transform(df_test.text.values)\n",
    "X_val = vect.transform(df_val.text.values)"
   ]
  },
  {
   "cell_type": "code",
   "execution_count": 35,
   "id": "61edf4fb",
   "metadata": {
    "ExecuteTime": {
     "end_time": "2023-05-22T20:02:52.316678Z",
     "start_time": "2023-05-22T20:02:52.297733Z"
    }
   },
   "outputs": [
    {
     "data": {
      "text/plain": [
       "(16000, 15186)"
      ]
     },
     "execution_count": 35,
     "metadata": {},
     "output_type": "execute_result"
    }
   ],
   "source": [
    "X_train.shape"
   ]
  },
  {
   "cell_type": "code",
   "execution_count": 5,
   "id": "e475f3c4",
   "metadata": {
    "ExecuteTime": {
     "end_time": "2023-05-22T18:22:45.592420Z",
     "start_time": "2023-05-22T18:22:00.091693Z"
    }
   },
   "outputs": [],
   "source": [
    "tsvd = TruncatedSVD(n_components=1000)\n",
    "X_train_pca = tsvd.fit_transform(X_train)\n",
    "X_test_pca = tsvd.transform(X_test)\n",
    "X_val_pca = tsvd.transform(X_val)"
   ]
  },
  {
   "cell_type": "code",
   "execution_count": 6,
   "id": "95107f46",
   "metadata": {
    "ExecuteTime": {
     "end_time": "2023-05-22T18:22:46.327851Z",
     "start_time": "2023-05-22T18:22:46.018954Z"
    }
   },
   "outputs": [],
   "source": [
    "train = pd.concat([pd.DataFrame(X_train_pca),df_train.label],axis=1)\n",
    "test = pd.concat([pd.DataFrame(X_test_pca),df_test.label],axis=1)\n",
    "val = pd.concat([pd.DataFrame(X_val_pca),df_val.label],axis=1)"
   ]
  },
  {
   "cell_type": "markdown",
   "id": "6976df4d",
   "metadata": {},
   "source": [
    "# baseline"
   ]
  },
  {
   "cell_type": "code",
   "execution_count": 38,
   "id": "b98e0624",
   "metadata": {
    "ExecuteTime": {
     "end_time": "2023-05-22T20:07:44.018791Z",
     "start_time": "2023-05-22T20:07:43.707959Z"
    }
   },
   "outputs": [
    {
     "data": {
      "text/html": [
       "<div>\n",
       "<style scoped>\n",
       "    .dataframe tbody tr th:only-of-type {\n",
       "        vertical-align: middle;\n",
       "    }\n",
       "\n",
       "    .dataframe tbody tr th {\n",
       "        vertical-align: top;\n",
       "    }\n",
       "\n",
       "    .dataframe thead th {\n",
       "        text-align: right;\n",
       "    }\n",
       "</style>\n",
       "<table border=\"1\" class=\"dataframe\">\n",
       "  <thead>\n",
       "    <tr style=\"text-align: right;\">\n",
       "      <th></th>\n",
       "      <th>Name</th>\n",
       "      <th>Reference</th>\n",
       "      <th>Turbo</th>\n",
       "    </tr>\n",
       "    <tr>\n",
       "      <th>ID</th>\n",
       "      <th></th>\n",
       "      <th></th>\n",
       "      <th></th>\n",
       "    </tr>\n",
       "  </thead>\n",
       "  <tbody>\n",
       "    <tr>\n",
       "      <th>lr</th>\n",
       "      <td>Logistic Regression</td>\n",
       "      <td>sklearn.linear_model._logistic.LogisticRegression</td>\n",
       "      <td>True</td>\n",
       "    </tr>\n",
       "    <tr>\n",
       "      <th>knn</th>\n",
       "      <td>K Neighbors Classifier</td>\n",
       "      <td>sklearn.neighbors._classification.KNeighborsCl...</td>\n",
       "      <td>True</td>\n",
       "    </tr>\n",
       "    <tr>\n",
       "      <th>nb</th>\n",
       "      <td>Naive Bayes</td>\n",
       "      <td>sklearn.naive_bayes.GaussianNB</td>\n",
       "      <td>True</td>\n",
       "    </tr>\n",
       "    <tr>\n",
       "      <th>dt</th>\n",
       "      <td>Decision Tree Classifier</td>\n",
       "      <td>sklearn.tree._classes.DecisionTreeClassifier</td>\n",
       "      <td>True</td>\n",
       "    </tr>\n",
       "    <tr>\n",
       "      <th>svm</th>\n",
       "      <td>SVM - Linear Kernel</td>\n",
       "      <td>sklearn.linear_model._stochastic_gradient.SGDC...</td>\n",
       "      <td>True</td>\n",
       "    </tr>\n",
       "    <tr>\n",
       "      <th>rbfsvm</th>\n",
       "      <td>SVM - Radial Kernel</td>\n",
       "      <td>sklearn.svm._classes.SVC</td>\n",
       "      <td>False</td>\n",
       "    </tr>\n",
       "    <tr>\n",
       "      <th>gpc</th>\n",
       "      <td>Gaussian Process Classifier</td>\n",
       "      <td>sklearn.gaussian_process._gpc.GaussianProcessC...</td>\n",
       "      <td>False</td>\n",
       "    </tr>\n",
       "    <tr>\n",
       "      <th>mlp</th>\n",
       "      <td>MLP Classifier</td>\n",
       "      <td>sklearn.neural_network._multilayer_perceptron....</td>\n",
       "      <td>False</td>\n",
       "    </tr>\n",
       "    <tr>\n",
       "      <th>ridge</th>\n",
       "      <td>Ridge Classifier</td>\n",
       "      <td>sklearn.linear_model._ridge.RidgeClassifier</td>\n",
       "      <td>True</td>\n",
       "    </tr>\n",
       "    <tr>\n",
       "      <th>rf</th>\n",
       "      <td>Random Forest Classifier</td>\n",
       "      <td>sklearn.ensemble._forest.RandomForestClassifier</td>\n",
       "      <td>True</td>\n",
       "    </tr>\n",
       "    <tr>\n",
       "      <th>qda</th>\n",
       "      <td>Quadratic Discriminant Analysis</td>\n",
       "      <td>sklearn.discriminant_analysis.QuadraticDiscrim...</td>\n",
       "      <td>True</td>\n",
       "    </tr>\n",
       "    <tr>\n",
       "      <th>ada</th>\n",
       "      <td>Ada Boost Classifier</td>\n",
       "      <td>sklearn.ensemble._weight_boosting.AdaBoostClas...</td>\n",
       "      <td>True</td>\n",
       "    </tr>\n",
       "    <tr>\n",
       "      <th>gbc</th>\n",
       "      <td>Gradient Boosting Classifier</td>\n",
       "      <td>sklearn.ensemble._gb.GradientBoostingClassifier</td>\n",
       "      <td>True</td>\n",
       "    </tr>\n",
       "    <tr>\n",
       "      <th>lda</th>\n",
       "      <td>Linear Discriminant Analysis</td>\n",
       "      <td>sklearn.discriminant_analysis.LinearDiscrimina...</td>\n",
       "      <td>True</td>\n",
       "    </tr>\n",
       "    <tr>\n",
       "      <th>et</th>\n",
       "      <td>Extra Trees Classifier</td>\n",
       "      <td>sklearn.ensemble._forest.ExtraTreesClassifier</td>\n",
       "      <td>True</td>\n",
       "    </tr>\n",
       "    <tr>\n",
       "      <th>xgboost</th>\n",
       "      <td>Extreme Gradient Boosting</td>\n",
       "      <td>xgboost.sklearn.XGBClassifier</td>\n",
       "      <td>True</td>\n",
       "    </tr>\n",
       "    <tr>\n",
       "      <th>lightgbm</th>\n",
       "      <td>Light Gradient Boosting Machine</td>\n",
       "      <td>lightgbm.sklearn.LGBMClassifier</td>\n",
       "      <td>True</td>\n",
       "    </tr>\n",
       "    <tr>\n",
       "      <th>dummy</th>\n",
       "      <td>Dummy Classifier</td>\n",
       "      <td>sklearn.dummy.DummyClassifier</td>\n",
       "      <td>True</td>\n",
       "    </tr>\n",
       "  </tbody>\n",
       "</table>\n",
       "</div>"
      ],
      "text/plain": [
       "                                     Name  \\\n",
       "ID                                          \n",
       "lr                    Logistic Regression   \n",
       "knn                K Neighbors Classifier   \n",
       "nb                            Naive Bayes   \n",
       "dt               Decision Tree Classifier   \n",
       "svm                   SVM - Linear Kernel   \n",
       "rbfsvm                SVM - Radial Kernel   \n",
       "gpc           Gaussian Process Classifier   \n",
       "mlp                        MLP Classifier   \n",
       "ridge                    Ridge Classifier   \n",
       "rf               Random Forest Classifier   \n",
       "qda       Quadratic Discriminant Analysis   \n",
       "ada                  Ada Boost Classifier   \n",
       "gbc          Gradient Boosting Classifier   \n",
       "lda          Linear Discriminant Analysis   \n",
       "et                 Extra Trees Classifier   \n",
       "xgboost         Extreme Gradient Boosting   \n",
       "lightgbm  Light Gradient Boosting Machine   \n",
       "dummy                    Dummy Classifier   \n",
       "\n",
       "                                                  Reference  Turbo  \n",
       "ID                                                                  \n",
       "lr        sklearn.linear_model._logistic.LogisticRegression   True  \n",
       "knn       sklearn.neighbors._classification.KNeighborsCl...   True  \n",
       "nb                           sklearn.naive_bayes.GaussianNB   True  \n",
       "dt             sklearn.tree._classes.DecisionTreeClassifier   True  \n",
       "svm       sklearn.linear_model._stochastic_gradient.SGDC...   True  \n",
       "rbfsvm                             sklearn.svm._classes.SVC  False  \n",
       "gpc       sklearn.gaussian_process._gpc.GaussianProcessC...  False  \n",
       "mlp       sklearn.neural_network._multilayer_perceptron....  False  \n",
       "ridge           sklearn.linear_model._ridge.RidgeClassifier   True  \n",
       "rf          sklearn.ensemble._forest.RandomForestClassifier   True  \n",
       "qda       sklearn.discriminant_analysis.QuadraticDiscrim...   True  \n",
       "ada       sklearn.ensemble._weight_boosting.AdaBoostClas...   True  \n",
       "gbc         sklearn.ensemble._gb.GradientBoostingClassifier   True  \n",
       "lda       sklearn.discriminant_analysis.LinearDiscrimina...   True  \n",
       "et            sklearn.ensemble._forest.ExtraTreesClassifier   True  \n",
       "xgboost                       xgboost.sklearn.XGBClassifier   True  \n",
       "lightgbm                    lightgbm.sklearn.LGBMClassifier   True  \n",
       "dummy                         sklearn.dummy.DummyClassifier   True  "
      ]
     },
     "execution_count": 38,
     "metadata": {},
     "output_type": "execute_result"
    }
   ],
   "source": [
    "models()"
   ]
  },
  {
   "cell_type": "code",
   "execution_count": 37,
   "id": "530598ee",
   "metadata": {
    "ExecuteTime": {
     "end_time": "2023-05-22T20:04:34.156182Z",
     "start_time": "2023-05-22T20:04:14.421608Z"
    }
   },
   "outputs": [
    {
     "data": {
      "text/html": [
       "<style type=\"text/css\">\n",
       "#T_e41f2_row8_col1 {\n",
       "  background-color: lightgreen;\n",
       "}\n",
       "</style>\n",
       "<table id=\"T_e41f2\">\n",
       "  <thead>\n",
       "    <tr>\n",
       "      <th class=\"blank level0\" >&nbsp;</th>\n",
       "      <th id=\"T_e41f2_level0_col0\" class=\"col_heading level0 col0\" >Description</th>\n",
       "      <th id=\"T_e41f2_level0_col1\" class=\"col_heading level0 col1\" >Value</th>\n",
       "    </tr>\n",
       "  </thead>\n",
       "  <tbody>\n",
       "    <tr>\n",
       "      <th id=\"T_e41f2_level0_row0\" class=\"row_heading level0 row0\" >0</th>\n",
       "      <td id=\"T_e41f2_row0_col0\" class=\"data row0 col0\" >Session id</td>\n",
       "      <td id=\"T_e41f2_row0_col1\" class=\"data row0 col1\" >6167</td>\n",
       "    </tr>\n",
       "    <tr>\n",
       "      <th id=\"T_e41f2_level0_row1\" class=\"row_heading level0 row1\" >1</th>\n",
       "      <td id=\"T_e41f2_row1_col0\" class=\"data row1 col0\" >Target</td>\n",
       "      <td id=\"T_e41f2_row1_col1\" class=\"data row1 col1\" >label</td>\n",
       "    </tr>\n",
       "    <tr>\n",
       "      <th id=\"T_e41f2_level0_row2\" class=\"row_heading level0 row2\" >2</th>\n",
       "      <td id=\"T_e41f2_row2_col0\" class=\"data row2 col0\" >Target type</td>\n",
       "      <td id=\"T_e41f2_row2_col1\" class=\"data row2 col1\" >Multiclass</td>\n",
       "    </tr>\n",
       "    <tr>\n",
       "      <th id=\"T_e41f2_level0_row3\" class=\"row_heading level0 row3\" >3</th>\n",
       "      <td id=\"T_e41f2_row3_col0\" class=\"data row3 col0\" >Original data shape</td>\n",
       "      <td id=\"T_e41f2_row3_col1\" class=\"data row3 col1\" >(9813, 1001)</td>\n",
       "    </tr>\n",
       "    <tr>\n",
       "      <th id=\"T_e41f2_level0_row4\" class=\"row_heading level0 row4\" >4</th>\n",
       "      <td id=\"T_e41f2_row4_col0\" class=\"data row4 col0\" >Transformed data shape</td>\n",
       "      <td id=\"T_e41f2_row4_col1\" class=\"data row4 col1\" >(9813, 1001)</td>\n",
       "    </tr>\n",
       "    <tr>\n",
       "      <th id=\"T_e41f2_level0_row5\" class=\"row_heading level0 row5\" >5</th>\n",
       "      <td id=\"T_e41f2_row5_col0\" class=\"data row5 col0\" >Transformed train set shape</td>\n",
       "      <td id=\"T_e41f2_row5_col1\" class=\"data row5 col1\" >(6869, 1001)</td>\n",
       "    </tr>\n",
       "    <tr>\n",
       "      <th id=\"T_e41f2_level0_row6\" class=\"row_heading level0 row6\" >6</th>\n",
       "      <td id=\"T_e41f2_row6_col0\" class=\"data row6 col0\" >Transformed test set shape</td>\n",
       "      <td id=\"T_e41f2_row6_col1\" class=\"data row6 col1\" >(2944, 1001)</td>\n",
       "    </tr>\n",
       "    <tr>\n",
       "      <th id=\"T_e41f2_level0_row7\" class=\"row_heading level0 row7\" >7</th>\n",
       "      <td id=\"T_e41f2_row7_col0\" class=\"data row7 col0\" >Numeric features</td>\n",
       "      <td id=\"T_e41f2_row7_col1\" class=\"data row7 col1\" >1000</td>\n",
       "    </tr>\n",
       "    <tr>\n",
       "      <th id=\"T_e41f2_level0_row8\" class=\"row_heading level0 row8\" >8</th>\n",
       "      <td id=\"T_e41f2_row8_col0\" class=\"data row8 col0\" >Preprocess</td>\n",
       "      <td id=\"T_e41f2_row8_col1\" class=\"data row8 col1\" >True</td>\n",
       "    </tr>\n",
       "    <tr>\n",
       "      <th id=\"T_e41f2_level0_row9\" class=\"row_heading level0 row9\" >9</th>\n",
       "      <td id=\"T_e41f2_row9_col0\" class=\"data row9 col0\" >Imputation type</td>\n",
       "      <td id=\"T_e41f2_row9_col1\" class=\"data row9 col1\" >simple</td>\n",
       "    </tr>\n",
       "    <tr>\n",
       "      <th id=\"T_e41f2_level0_row10\" class=\"row_heading level0 row10\" >10</th>\n",
       "      <td id=\"T_e41f2_row10_col0\" class=\"data row10 col0\" >Numeric imputation</td>\n",
       "      <td id=\"T_e41f2_row10_col1\" class=\"data row10 col1\" >mean</td>\n",
       "    </tr>\n",
       "    <tr>\n",
       "      <th id=\"T_e41f2_level0_row11\" class=\"row_heading level0 row11\" >11</th>\n",
       "      <td id=\"T_e41f2_row11_col0\" class=\"data row11 col0\" >Categorical imputation</td>\n",
       "      <td id=\"T_e41f2_row11_col1\" class=\"data row11 col1\" >mode</td>\n",
       "    </tr>\n",
       "    <tr>\n",
       "      <th id=\"T_e41f2_level0_row12\" class=\"row_heading level0 row12\" >12</th>\n",
       "      <td id=\"T_e41f2_row12_col0\" class=\"data row12 col0\" >Fold Generator</td>\n",
       "      <td id=\"T_e41f2_row12_col1\" class=\"data row12 col1\" >StratifiedKFold</td>\n",
       "    </tr>\n",
       "    <tr>\n",
       "      <th id=\"T_e41f2_level0_row13\" class=\"row_heading level0 row13\" >13</th>\n",
       "      <td id=\"T_e41f2_row13_col0\" class=\"data row13 col0\" >Fold Number</td>\n",
       "      <td id=\"T_e41f2_row13_col1\" class=\"data row13 col1\" >3</td>\n",
       "    </tr>\n",
       "    <tr>\n",
       "      <th id=\"T_e41f2_level0_row14\" class=\"row_heading level0 row14\" >14</th>\n",
       "      <td id=\"T_e41f2_row14_col0\" class=\"data row14 col0\" >CPU Jobs</td>\n",
       "      <td id=\"T_e41f2_row14_col1\" class=\"data row14 col1\" >-1</td>\n",
       "    </tr>\n",
       "    <tr>\n",
       "      <th id=\"T_e41f2_level0_row15\" class=\"row_heading level0 row15\" >15</th>\n",
       "      <td id=\"T_e41f2_row15_col0\" class=\"data row15 col0\" >Use GPU</td>\n",
       "      <td id=\"T_e41f2_row15_col1\" class=\"data row15 col1\" >False</td>\n",
       "    </tr>\n",
       "    <tr>\n",
       "      <th id=\"T_e41f2_level0_row16\" class=\"row_heading level0 row16\" >16</th>\n",
       "      <td id=\"T_e41f2_row16_col0\" class=\"data row16 col0\" >Log Experiment</td>\n",
       "      <td id=\"T_e41f2_row16_col1\" class=\"data row16 col1\" >False</td>\n",
       "    </tr>\n",
       "    <tr>\n",
       "      <th id=\"T_e41f2_level0_row17\" class=\"row_heading level0 row17\" >17</th>\n",
       "      <td id=\"T_e41f2_row17_col0\" class=\"data row17 col0\" >Experiment Name</td>\n",
       "      <td id=\"T_e41f2_row17_col1\" class=\"data row17 col1\" >clf-default-name</td>\n",
       "    </tr>\n",
       "    <tr>\n",
       "      <th id=\"T_e41f2_level0_row18\" class=\"row_heading level0 row18\" >18</th>\n",
       "      <td id=\"T_e41f2_row18_col0\" class=\"data row18 col0\" >USI</td>\n",
       "      <td id=\"T_e41f2_row18_col1\" class=\"data row18 col1\" >666f</td>\n",
       "    </tr>\n",
       "  </tbody>\n",
       "</table>\n"
      ],
      "text/plain": [
       "<pandas.io.formats.style.Styler at 0x26100d7dd60>"
      ]
     },
     "metadata": {},
     "output_type": "display_data"
    }
   ],
   "source": [
    "clf = setup(data=train, target='label', fold=3)"
   ]
  },
  {
   "cell_type": "code",
   "execution_count": null,
   "id": "1f3b1003",
   "metadata": {
    "ExecuteTime": {
     "start_time": "2023-05-22T20:08:21.726Z"
    }
   },
   "outputs": [
    {
     "data": {
      "text/html": [
       "<div>\n",
       "<style scoped>\n",
       "    .dataframe tbody tr th:only-of-type {\n",
       "        vertical-align: middle;\n",
       "    }\n",
       "\n",
       "    .dataframe tbody tr th {\n",
       "        vertical-align: top;\n",
       "    }\n",
       "\n",
       "    .dataframe thead th {\n",
       "        text-align: right;\n",
       "    }\n",
       "</style>\n",
       "<table border=\"1\" class=\"dataframe\">\n",
       "  <thead>\n",
       "    <tr style=\"text-align: right;\">\n",
       "      <th></th>\n",
       "      <th></th>\n",
       "      <th></th>\n",
       "    </tr>\n",
       "    <tr>\n",
       "      <th></th>\n",
       "      <th></th>\n",
       "      <th></th>\n",
       "    </tr>\n",
       "  </thead>\n",
       "  <tbody>\n",
       "    <tr>\n",
       "      <th>Initiated</th>\n",
       "      <td>. . . . . . . . . . . . . . . . . .</td>\n",
       "      <td>23:08:21</td>\n",
       "    </tr>\n",
       "    <tr>\n",
       "      <th>Status</th>\n",
       "      <td>. . . . . . . . . . . . . . . . . .</td>\n",
       "      <td>Fitting 3 Folds</td>\n",
       "    </tr>\n",
       "    <tr>\n",
       "      <th>Estimator</th>\n",
       "      <td>. . . . . . . . . . . . . . . . . .</td>\n",
       "      <td>Gradient Boosting Classifier</td>\n",
       "    </tr>\n",
       "  </tbody>\n",
       "</table>\n",
       "</div>"
      ],
      "text/plain": [
       "                                                                            \n",
       "                                                                            \n",
       "Initiated  . . . . . . . . . . . . . . . . . .                      23:08:21\n",
       "Status     . . . . . . . . . . . . . . . . . .               Fitting 3 Folds\n",
       "Estimator  . . . . . . . . . . . . . . . . . .  Gradient Boosting Classifier"
      ]
     },
     "metadata": {},
     "output_type": "display_data"
    },
    {
     "data": {
      "text/html": [
       "<style type=\"text/css\">\n",
       "#T_283a5 th {\n",
       "  text-align: left;\n",
       "}\n",
       "#T_283a5_row0_col0, #T_283a5_row0_col1, #T_283a5_row0_col2, #T_283a5_row0_col3, #T_283a5_row0_col4, #T_283a5_row0_col5, #T_283a5_row0_col6, #T_283a5_row0_col7, #T_283a5_row0_col8, #T_283a5_row1_col0, #T_283a5_row1_col1, #T_283a5_row1_col2, #T_283a5_row1_col3, #T_283a5_row1_col4, #T_283a5_row1_col5, #T_283a5_row1_col6, #T_283a5_row1_col7, #T_283a5_row1_col8, #T_283a5_row2_col0, #T_283a5_row2_col1, #T_283a5_row2_col2, #T_283a5_row2_col3, #T_283a5_row2_col4, #T_283a5_row2_col5, #T_283a5_row2_col6, #T_283a5_row2_col7, #T_283a5_row2_col8, #T_283a5_row3_col0, #T_283a5_row3_col1, #T_283a5_row3_col2, #T_283a5_row3_col3, #T_283a5_row3_col4, #T_283a5_row3_col5, #T_283a5_row3_col6, #T_283a5_row3_col7, #T_283a5_row3_col8, #T_283a5_row4_col0, #T_283a5_row4_col1, #T_283a5_row4_col2, #T_283a5_row4_col3, #T_283a5_row4_col4, #T_283a5_row4_col5, #T_283a5_row4_col6, #T_283a5_row4_col7, #T_283a5_row4_col8, #T_283a5_row5_col0, #T_283a5_row5_col1, #T_283a5_row5_col2, #T_283a5_row5_col3, #T_283a5_row5_col4, #T_283a5_row5_col5, #T_283a5_row5_col6, #T_283a5_row5_col7, #T_283a5_row5_col8, #T_283a5_row6_col0, #T_283a5_row6_col1, #T_283a5_row6_col2, #T_283a5_row6_col3, #T_283a5_row6_col4, #T_283a5_row6_col5, #T_283a5_row6_col6, #T_283a5_row6_col7, #T_283a5_row6_col8, #T_283a5_row7_col0, #T_283a5_row7_col1, #T_283a5_row7_col2, #T_283a5_row7_col3, #T_283a5_row7_col4, #T_283a5_row7_col5, #T_283a5_row7_col6, #T_283a5_row7_col7, #T_283a5_row7_col8, #T_283a5_row8_col0, #T_283a5_row8_col1, #T_283a5_row8_col2, #T_283a5_row8_col3, #T_283a5_row8_col4, #T_283a5_row8_col5, #T_283a5_row8_col6, #T_283a5_row8_col7, #T_283a5_row8_col8 {\n",
       "  text-align: left;\n",
       "}\n",
       "</style>\n",
       "<table id=\"T_283a5\">\n",
       "  <thead>\n",
       "    <tr>\n",
       "      <th class=\"blank level0\" >&nbsp;</th>\n",
       "      <th id=\"T_283a5_level0_col0\" class=\"col_heading level0 col0\" >Model</th>\n",
       "      <th id=\"T_283a5_level0_col1\" class=\"col_heading level0 col1\" >Accuracy</th>\n",
       "      <th id=\"T_283a5_level0_col2\" class=\"col_heading level0 col2\" >AUC</th>\n",
       "      <th id=\"T_283a5_level0_col3\" class=\"col_heading level0 col3\" >Recall</th>\n",
       "      <th id=\"T_283a5_level0_col4\" class=\"col_heading level0 col4\" >Prec.</th>\n",
       "      <th id=\"T_283a5_level0_col5\" class=\"col_heading level0 col5\" >F1</th>\n",
       "      <th id=\"T_283a5_level0_col6\" class=\"col_heading level0 col6\" >Kappa</th>\n",
       "      <th id=\"T_283a5_level0_col7\" class=\"col_heading level0 col7\" >MCC</th>\n",
       "      <th id=\"T_283a5_level0_col8\" class=\"col_heading level0 col8\" >TT (Sec)</th>\n",
       "    </tr>\n",
       "  </thead>\n",
       "  <tbody>\n",
       "    <tr>\n",
       "      <th id=\"T_283a5_level0_row0\" class=\"row_heading level0 row0\" >ridge</th>\n",
       "      <td id=\"T_283a5_row0_col0\" class=\"data row0 col0\" >Ridge Classifier</td>\n",
       "      <td id=\"T_283a5_row0_col1\" class=\"data row0 col1\" >0.8605</td>\n",
       "      <td id=\"T_283a5_row0_col2\" class=\"data row0 col2\" >0.0000</td>\n",
       "      <td id=\"T_283a5_row0_col3\" class=\"data row0 col3\" >0.8605</td>\n",
       "      <td id=\"T_283a5_row0_col4\" class=\"data row0 col4\" >0.8610</td>\n",
       "      <td id=\"T_283a5_row0_col5\" class=\"data row0 col5\" >0.8601</td>\n",
       "      <td id=\"T_283a5_row0_col6\" class=\"data row0 col6\" >0.8288</td>\n",
       "      <td id=\"T_283a5_row0_col7\" class=\"data row0 col7\" >0.8289</td>\n",
       "      <td id=\"T_283a5_row0_col8\" class=\"data row0 col8\" >1.7600</td>\n",
       "    </tr>\n",
       "    <tr>\n",
       "      <th id=\"T_283a5_level0_row1\" class=\"row_heading level0 row1\" >svm</th>\n",
       "      <td id=\"T_283a5_row1_col0\" class=\"data row1 col0\" >SVM - Linear Kernel</td>\n",
       "      <td id=\"T_283a5_row1_col1\" class=\"data row1 col1\" >0.8591</td>\n",
       "      <td id=\"T_283a5_row1_col2\" class=\"data row1 col2\" >0.0000</td>\n",
       "      <td id=\"T_283a5_row1_col3\" class=\"data row1 col3\" >0.8591</td>\n",
       "      <td id=\"T_283a5_row1_col4\" class=\"data row1 col4\" >0.8614</td>\n",
       "      <td id=\"T_283a5_row1_col5\" class=\"data row1 col5\" >0.8588</td>\n",
       "      <td id=\"T_283a5_row1_col6\" class=\"data row1 col6\" >0.8272</td>\n",
       "      <td id=\"T_283a5_row1_col7\" class=\"data row1 col7\" >0.8277</td>\n",
       "      <td id=\"T_283a5_row1_col8\" class=\"data row1 col8\" >2.7700</td>\n",
       "    </tr>\n",
       "    <tr>\n",
       "      <th id=\"T_283a5_level0_row2\" class=\"row_heading level0 row2\" >lr</th>\n",
       "      <td id=\"T_283a5_row2_col0\" class=\"data row2 col0\" >Logistic Regression</td>\n",
       "      <td id=\"T_283a5_row2_col1\" class=\"data row2 col1\" >0.8027</td>\n",
       "      <td id=\"T_283a5_row2_col2\" class=\"data row2 col2\" >0.9632</td>\n",
       "      <td id=\"T_283a5_row2_col3\" class=\"data row2 col3\" >0.8027</td>\n",
       "      <td id=\"T_283a5_row2_col4\" class=\"data row2 col4\" >0.8098</td>\n",
       "      <td id=\"T_283a5_row2_col5\" class=\"data row2 col5\" >0.7987</td>\n",
       "      <td id=\"T_283a5_row2_col6\" class=\"data row2 col6\" >0.7563</td>\n",
       "      <td id=\"T_283a5_row2_col7\" class=\"data row2 col7\" >0.7576</td>\n",
       "      <td id=\"T_283a5_row2_col8\" class=\"data row2 col8\" >12.8733</td>\n",
       "    </tr>\n",
       "    <tr>\n",
       "      <th id=\"T_283a5_level0_row3\" class=\"row_heading level0 row3\" >rf</th>\n",
       "      <td id=\"T_283a5_row3_col0\" class=\"data row3 col0\" >Random Forest Classifier</td>\n",
       "      <td id=\"T_283a5_row3_col1\" class=\"data row3 col1\" >0.5218</td>\n",
       "      <td id=\"T_283a5_row3_col2\" class=\"data row3 col2\" >0.8146</td>\n",
       "      <td id=\"T_283a5_row3_col3\" class=\"data row3 col3\" >0.5218</td>\n",
       "      <td id=\"T_283a5_row3_col4\" class=\"data row3 col4\" >0.5684</td>\n",
       "      <td id=\"T_283a5_row3_col5\" class=\"data row3 col5\" >0.5005</td>\n",
       "      <td id=\"T_283a5_row3_col6\" class=\"data row3 col6\" >0.4028</td>\n",
       "      <td id=\"T_283a5_row3_col7\" class=\"data row3 col7\" >0.4081</td>\n",
       "      <td id=\"T_283a5_row3_col8\" class=\"data row3 col8\" >16.0533</td>\n",
       "    </tr>\n",
       "    <tr>\n",
       "      <th id=\"T_283a5_level0_row4\" class=\"row_heading level0 row4\" >knn</th>\n",
       "      <td id=\"T_283a5_row4_col0\" class=\"data row4 col0\" >K Neighbors Classifier</td>\n",
       "      <td id=\"T_283a5_row4_col1\" class=\"data row4 col1\" >0.4167</td>\n",
       "      <td id=\"T_283a5_row4_col2\" class=\"data row4 col2\" >0.7387</td>\n",
       "      <td id=\"T_283a5_row4_col3\" class=\"data row4 col3\" >0.4167</td>\n",
       "      <td id=\"T_283a5_row4_col4\" class=\"data row4 col4\" >0.5809</td>\n",
       "      <td id=\"T_283a5_row4_col5\" class=\"data row4 col5\" >0.4113</td>\n",
       "      <td id=\"T_283a5_row4_col6\" class=\"data row4 col6\" >0.2753</td>\n",
       "      <td id=\"T_283a5_row4_col7\" class=\"data row4 col7\" >0.3183</td>\n",
       "      <td id=\"T_283a5_row4_col8\" class=\"data row4 col8\" >6.5367</td>\n",
       "    </tr>\n",
       "    <tr>\n",
       "      <th id=\"T_283a5_level0_row5\" class=\"row_heading level0 row5\" >nb</th>\n",
       "      <td id=\"T_283a5_row5_col0\" class=\"data row5 col0\" >Naive Bayes</td>\n",
       "      <td id=\"T_283a5_row5_col1\" class=\"data row5 col1\" >0.4130</td>\n",
       "      <td id=\"T_283a5_row5_col2\" class=\"data row5 col2\" >0.7167</td>\n",
       "      <td id=\"T_283a5_row5_col3\" class=\"data row5 col3\" >0.4130</td>\n",
       "      <td id=\"T_283a5_row5_col4\" class=\"data row5 col4\" >0.4385</td>\n",
       "      <td id=\"T_283a5_row5_col5\" class=\"data row5 col5\" >0.4133</td>\n",
       "      <td id=\"T_283a5_row5_col6\" class=\"data row5 col6\" >0.2834</td>\n",
       "      <td id=\"T_283a5_row5_col7\" class=\"data row5 col7\" >0.2870</td>\n",
       "      <td id=\"T_283a5_row5_col8\" class=\"data row5 col8\" >2.1833</td>\n",
       "    </tr>\n",
       "    <tr>\n",
       "      <th id=\"T_283a5_level0_row6\" class=\"row_heading level0 row6\" >dt</th>\n",
       "      <td id=\"T_283a5_row6_col0\" class=\"data row6 col0\" >Decision Tree Classifier</td>\n",
       "      <td id=\"T_283a5_row6_col1\" class=\"data row6 col1\" >0.3273</td>\n",
       "      <td id=\"T_283a5_row6_col2\" class=\"data row6 col2\" >0.5877</td>\n",
       "      <td id=\"T_283a5_row6_col3\" class=\"data row6 col3\" >0.3273</td>\n",
       "      <td id=\"T_283a5_row6_col4\" class=\"data row6 col4\" >0.3269</td>\n",
       "      <td id=\"T_283a5_row6_col5\" class=\"data row6 col5\" >0.3269</td>\n",
       "      <td id=\"T_283a5_row6_col6\" class=\"data row6 col6\" >0.1747</td>\n",
       "      <td id=\"T_283a5_row6_col7\" class=\"data row6 col7\" >0.1747</td>\n",
       "      <td id=\"T_283a5_row6_col8\" class=\"data row6 col8\" >10.5433</td>\n",
       "    </tr>\n",
       "    <tr>\n",
       "      <th id=\"T_283a5_level0_row7\" class=\"row_heading level0 row7\" >ada</th>\n",
       "      <td id=\"T_283a5_row7_col0\" class=\"data row7 col0\" >Ada Boost Classifier</td>\n",
       "      <td id=\"T_283a5_row7_col1\" class=\"data row7 col1\" >0.3177</td>\n",
       "      <td id=\"T_283a5_row7_col2\" class=\"data row7 col2\" >0.6382</td>\n",
       "      <td id=\"T_283a5_row7_col3\" class=\"data row7 col3\" >0.3177</td>\n",
       "      <td id=\"T_283a5_row7_col4\" class=\"data row7 col4\" >0.3223</td>\n",
       "      <td id=\"T_283a5_row7_col5\" class=\"data row7 col5\" >0.3128</td>\n",
       "      <td id=\"T_283a5_row7_col6\" class=\"data row7 col6\" >0.1552</td>\n",
       "      <td id=\"T_283a5_row7_col7\" class=\"data row7 col7\" >0.1563</td>\n",
       "      <td id=\"T_283a5_row7_col8\" class=\"data row7 col8\" >28.2633</td>\n",
       "    </tr>\n",
       "    <tr>\n",
       "      <th id=\"T_283a5_level0_row8\" class=\"row_heading level0 row8\" >qda</th>\n",
       "      <td id=\"T_283a5_row8_col0\" class=\"data row8 col0\" >Quadratic Discriminant Analysis</td>\n",
       "      <td id=\"T_283a5_row8_col1\" class=\"data row8 col1\" >0.2998</td>\n",
       "      <td id=\"T_283a5_row8_col2\" class=\"data row8 col2\" >0.5927</td>\n",
       "      <td id=\"T_283a5_row8_col3\" class=\"data row8 col3\" >0.2998</td>\n",
       "      <td id=\"T_283a5_row8_col4\" class=\"data row8 col4\" >0.3873</td>\n",
       "      <td id=\"T_283a5_row8_col5\" class=\"data row8 col5\" >0.3261</td>\n",
       "      <td id=\"T_283a5_row8_col6\" class=\"data row8 col6\" >0.1765</td>\n",
       "      <td id=\"T_283a5_row8_col7\" class=\"data row8 col7\" >0.1846</td>\n",
       "      <td id=\"T_283a5_row8_col8\" class=\"data row8 col8\" >6.5867</td>\n",
       "    </tr>\n",
       "  </tbody>\n",
       "</table>\n"
      ],
      "text/plain": [
       "<pandas.io.formats.style.Styler at 0x2615f484100>"
      ]
     },
     "metadata": {},
     "output_type": "display_data"
    },
    {
     "data": {
      "application/vnd.jupyter.widget-view+json": {
       "model_id": "c93cf4877e4443758fa6320eb90efadd",
       "version_major": 2,
       "version_minor": 0
      },
      "text/plain": [
       "Processing:   0%|          | 0/65 [00:00<?, ?it/s]"
      ]
     },
     "metadata": {},
     "output_type": "display_data"
    }
   ],
   "source": [
    "compare_models()"
   ]
  },
  {
   "cell_type": "code",
   "execution_count": null,
   "id": "0bec8568",
   "metadata": {},
   "outputs": [],
   "source": [
    "# TT(Sec) это на один фолд, то есть при 3х фолдах умножаем на 3 и получаем общее время расчета кросс-вала"
   ]
  },
  {
   "cell_type": "code",
   "execution_count": null,
   "id": "424406f8",
   "metadata": {
    "ExecuteTime": {
     "start_time": "2023-05-22T18:23:09.203Z"
    }
   },
   "outputs": [
    {
     "data": {
      "text/html": [
       "<div>\n",
       "<style scoped>\n",
       "    .dataframe tbody tr th:only-of-type {\n",
       "        vertical-align: middle;\n",
       "    }\n",
       "\n",
       "    .dataframe tbody tr th {\n",
       "        vertical-align: top;\n",
       "    }\n",
       "\n",
       "    .dataframe thead th {\n",
       "        text-align: right;\n",
       "    }\n",
       "</style>\n",
       "<table border=\"1\" class=\"dataframe\">\n",
       "  <thead>\n",
       "    <tr style=\"text-align: right;\">\n",
       "      <th></th>\n",
       "      <th></th>\n",
       "      <th></th>\n",
       "    </tr>\n",
       "    <tr>\n",
       "      <th></th>\n",
       "      <th></th>\n",
       "      <th></th>\n",
       "    </tr>\n",
       "  </thead>\n",
       "  <tbody>\n",
       "    <tr>\n",
       "      <th>Initiated</th>\n",
       "      <td>. . . . . . . . . . . . . . . . . .</td>\n",
       "      <td>21:23:09</td>\n",
       "    </tr>\n",
       "    <tr>\n",
       "      <th>Status</th>\n",
       "      <td>. . . . . . . . . . . . . . . . . .</td>\n",
       "      <td>Fitting 3 Folds</td>\n",
       "    </tr>\n",
       "    <tr>\n",
       "      <th>Estimator</th>\n",
       "      <td>. . . . . . . . . . . . . . . . . .</td>\n",
       "      <td>Gradient Boosting Classifier</td>\n",
       "    </tr>\n",
       "  </tbody>\n",
       "</table>\n",
       "</div>"
      ],
      "text/plain": [
       "                                                                            \n",
       "                                                                            \n",
       "Initiated  . . . . . . . . . . . . . . . . . .                      21:23:09\n",
       "Status     . . . . . . . . . . . . . . . . . .               Fitting 3 Folds\n",
       "Estimator  . . . . . . . . . . . . . . . . . .  Gradient Boosting Classifier"
      ]
     },
     "metadata": {},
     "output_type": "display_data"
    },
    {
     "data": {
      "text/html": [
       "<style type=\"text/css\">\n",
       "#T_6d8cf th {\n",
       "  text-align: left;\n",
       "}\n",
       "#T_6d8cf_row0_col0, #T_6d8cf_row0_col1, #T_6d8cf_row0_col2, #T_6d8cf_row0_col3, #T_6d8cf_row0_col4, #T_6d8cf_row0_col5, #T_6d8cf_row0_col6, #T_6d8cf_row0_col7, #T_6d8cf_row0_col8, #T_6d8cf_row1_col0, #T_6d8cf_row1_col1, #T_6d8cf_row1_col2, #T_6d8cf_row1_col3, #T_6d8cf_row1_col4, #T_6d8cf_row1_col5, #T_6d8cf_row1_col6, #T_6d8cf_row1_col7, #T_6d8cf_row1_col8, #T_6d8cf_row2_col0, #T_6d8cf_row2_col1, #T_6d8cf_row2_col2, #T_6d8cf_row2_col3, #T_6d8cf_row2_col4, #T_6d8cf_row2_col5, #T_6d8cf_row2_col6, #T_6d8cf_row2_col7, #T_6d8cf_row2_col8, #T_6d8cf_row3_col0, #T_6d8cf_row3_col1, #T_6d8cf_row3_col2, #T_6d8cf_row3_col3, #T_6d8cf_row3_col4, #T_6d8cf_row3_col5, #T_6d8cf_row3_col6, #T_6d8cf_row3_col7, #T_6d8cf_row3_col8, #T_6d8cf_row4_col0, #T_6d8cf_row4_col1, #T_6d8cf_row4_col2, #T_6d8cf_row4_col3, #T_6d8cf_row4_col4, #T_6d8cf_row4_col5, #T_6d8cf_row4_col6, #T_6d8cf_row4_col7, #T_6d8cf_row4_col8, #T_6d8cf_row5_col0, #T_6d8cf_row5_col1, #T_6d8cf_row5_col2, #T_6d8cf_row5_col3, #T_6d8cf_row5_col4, #T_6d8cf_row5_col5, #T_6d8cf_row5_col6, #T_6d8cf_row5_col7, #T_6d8cf_row5_col8, #T_6d8cf_row6_col0, #T_6d8cf_row6_col1, #T_6d8cf_row6_col2, #T_6d8cf_row6_col3, #T_6d8cf_row6_col4, #T_6d8cf_row6_col5, #T_6d8cf_row6_col6, #T_6d8cf_row6_col7, #T_6d8cf_row6_col8, #T_6d8cf_row7_col0, #T_6d8cf_row7_col1, #T_6d8cf_row7_col2, #T_6d8cf_row7_col3, #T_6d8cf_row7_col4, #T_6d8cf_row7_col5, #T_6d8cf_row7_col6, #T_6d8cf_row7_col7, #T_6d8cf_row7_col8, #T_6d8cf_row8_col0, #T_6d8cf_row8_col1, #T_6d8cf_row8_col2, #T_6d8cf_row8_col3, #T_6d8cf_row8_col4, #T_6d8cf_row8_col5, #T_6d8cf_row8_col6, #T_6d8cf_row8_col7, #T_6d8cf_row8_col8 {\n",
       "  text-align: left;\n",
       "}\n",
       "</style>\n",
       "<table id=\"T_6d8cf\">\n",
       "  <thead>\n",
       "    <tr>\n",
       "      <th class=\"blank level0\" >&nbsp;</th>\n",
       "      <th id=\"T_6d8cf_level0_col0\" class=\"col_heading level0 col0\" >Model</th>\n",
       "      <th id=\"T_6d8cf_level0_col1\" class=\"col_heading level0 col1\" >Accuracy</th>\n",
       "      <th id=\"T_6d8cf_level0_col2\" class=\"col_heading level0 col2\" >AUC</th>\n",
       "      <th id=\"T_6d8cf_level0_col3\" class=\"col_heading level0 col3\" >Recall</th>\n",
       "      <th id=\"T_6d8cf_level0_col4\" class=\"col_heading level0 col4\" >Prec.</th>\n",
       "      <th id=\"T_6d8cf_level0_col5\" class=\"col_heading level0 col5\" >F1</th>\n",
       "      <th id=\"T_6d8cf_level0_col6\" class=\"col_heading level0 col6\" >Kappa</th>\n",
       "      <th id=\"T_6d8cf_level0_col7\" class=\"col_heading level0 col7\" >MCC</th>\n",
       "      <th id=\"T_6d8cf_level0_col8\" class=\"col_heading level0 col8\" >TT (Sec)</th>\n",
       "    </tr>\n",
       "  </thead>\n",
       "  <tbody>\n",
       "    <tr>\n",
       "      <th id=\"T_6d8cf_level0_row0\" class=\"row_heading level0 row0\" >ridge</th>\n",
       "      <td id=\"T_6d8cf_row0_col0\" class=\"data row0 col0\" >Ridge Classifier</td>\n",
       "      <td id=\"T_6d8cf_row0_col1\" class=\"data row0 col1\" >0.8784</td>\n",
       "      <td id=\"T_6d8cf_row0_col2\" class=\"data row0 col2\" >0.0000</td>\n",
       "      <td id=\"T_6d8cf_row0_col3\" class=\"data row0 col3\" >0.8784</td>\n",
       "      <td id=\"T_6d8cf_row0_col4\" class=\"data row0 col4\" >0.8784</td>\n",
       "      <td id=\"T_6d8cf_row0_col5\" class=\"data row0 col5\" >0.8765</td>\n",
       "      <td id=\"T_6d8cf_row0_col6\" class=\"data row0 col6\" >0.8383</td>\n",
       "      <td id=\"T_6d8cf_row0_col7\" class=\"data row0 col7\" >0.8392</td>\n",
       "      <td id=\"T_6d8cf_row0_col8\" class=\"data row0 col8\" >2.0133</td>\n",
       "    </tr>\n",
       "    <tr>\n",
       "      <th id=\"T_6d8cf_level0_row1\" class=\"row_heading level0 row1\" >svm</th>\n",
       "      <td id=\"T_6d8cf_row1_col0\" class=\"data row1 col0\" >SVM - Linear Kernel</td>\n",
       "      <td id=\"T_6d8cf_row1_col1\" class=\"data row1 col1\" >0.8742</td>\n",
       "      <td id=\"T_6d8cf_row1_col2\" class=\"data row1 col2\" >0.0000</td>\n",
       "      <td id=\"T_6d8cf_row1_col3\" class=\"data row1 col3\" >0.8742</td>\n",
       "      <td id=\"T_6d8cf_row1_col4\" class=\"data row1 col4\" >0.8753</td>\n",
       "      <td id=\"T_6d8cf_row1_col5\" class=\"data row1 col5\" >0.8719</td>\n",
       "      <td id=\"T_6d8cf_row1_col6\" class=\"data row1 col6\" >0.8325</td>\n",
       "      <td id=\"T_6d8cf_row1_col7\" class=\"data row1 col7\" >0.8337</td>\n",
       "      <td id=\"T_6d8cf_row1_col8\" class=\"data row1 col8\" >3.2533</td>\n",
       "    </tr>\n",
       "    <tr>\n",
       "      <th id=\"T_6d8cf_level0_row2\" class=\"row_heading level0 row2\" >lr</th>\n",
       "      <td id=\"T_6d8cf_row2_col0\" class=\"data row2 col0\" >Logistic Regression</td>\n",
       "      <td id=\"T_6d8cf_row2_col1\" class=\"data row2 col1\" >0.8377</td>\n",
       "      <td id=\"T_6d8cf_row2_col2\" class=\"data row2 col2\" >0.9808</td>\n",
       "      <td id=\"T_6d8cf_row2_col3\" class=\"data row2 col3\" >0.8377</td>\n",
       "      <td id=\"T_6d8cf_row2_col4\" class=\"data row2 col4\" >0.8450</td>\n",
       "      <td id=\"T_6d8cf_row2_col5\" class=\"data row2 col5\" >0.8305</td>\n",
       "      <td id=\"T_6d8cf_row2_col6\" class=\"data row2 col6\" >0.7807</td>\n",
       "      <td id=\"T_6d8cf_row2_col7\" class=\"data row2 col7\" >0.7852</td>\n",
       "      <td id=\"T_6d8cf_row2_col8\" class=\"data row2 col8\" >18.6367</td>\n",
       "    </tr>\n",
       "    <tr>\n",
       "      <th id=\"T_6d8cf_level0_row3\" class=\"row_heading level0 row3\" >qda</th>\n",
       "      <td id=\"T_6d8cf_row3_col0\" class=\"data row3 col0\" >Quadratic Discriminant Analysis</td>\n",
       "      <td id=\"T_6d8cf_row3_col1\" class=\"data row3 col1\" >0.7529</td>\n",
       "      <td id=\"T_6d8cf_row3_col2\" class=\"data row3 col2\" >0.8525</td>\n",
       "      <td id=\"T_6d8cf_row3_col3\" class=\"data row3 col3\" >0.7529</td>\n",
       "      <td id=\"T_6d8cf_row3_col4\" class=\"data row3 col4\" >0.6735</td>\n",
       "      <td id=\"T_6d8cf_row3_col5\" class=\"data row3 col5\" >0.7004</td>\n",
       "      <td id=\"T_6d8cf_row3_col6\" class=\"data row3 col6\" >0.6567</td>\n",
       "      <td id=\"T_6d8cf_row3_col7\" class=\"data row3 col7\" >0.6712</td>\n",
       "      <td id=\"T_6d8cf_row3_col8\" class=\"data row3 col8\" >11.9000</td>\n",
       "    </tr>\n",
       "    <tr>\n",
       "      <th id=\"T_6d8cf_level0_row4\" class=\"row_heading level0 row4\" >rf</th>\n",
       "      <td id=\"T_6d8cf_row4_col0\" class=\"data row4 col0\" >Random Forest Classifier</td>\n",
       "      <td id=\"T_6d8cf_row4_col1\" class=\"data row4 col1\" >0.5967</td>\n",
       "      <td id=\"T_6d8cf_row4_col2\" class=\"data row4 col2\" >0.8803</td>\n",
       "      <td id=\"T_6d8cf_row4_col3\" class=\"data row4 col3\" >0.5967</td>\n",
       "      <td id=\"T_6d8cf_row4_col4\" class=\"data row4 col4\" >0.7029</td>\n",
       "      <td id=\"T_6d8cf_row4_col5\" class=\"data row4 col5\" >0.5447</td>\n",
       "      <td id=\"T_6d8cf_row4_col6\" class=\"data row4 col6\" >0.4212</td>\n",
       "      <td id=\"T_6d8cf_row4_col7\" class=\"data row4 col7\" >0.4540</td>\n",
       "      <td id=\"T_6d8cf_row4_col8\" class=\"data row4 col8\" >40.4633</td>\n",
       "    </tr>\n",
       "    <tr>\n",
       "      <th id=\"T_6d8cf_level0_row5\" class=\"row_heading level0 row5\" >knn</th>\n",
       "      <td id=\"T_6d8cf_row5_col0\" class=\"data row5 col0\" >K Neighbors Classifier</td>\n",
       "      <td id=\"T_6d8cf_row5_col1\" class=\"data row5 col1\" >0.5401</td>\n",
       "      <td id=\"T_6d8cf_row5_col2\" class=\"data row5 col2\" >0.7971</td>\n",
       "      <td id=\"T_6d8cf_row5_col3\" class=\"data row5 col3\" >0.5401</td>\n",
       "      <td id=\"T_6d8cf_row5_col4\" class=\"data row5 col4\" >0.6303</td>\n",
       "      <td id=\"T_6d8cf_row5_col5\" class=\"data row5 col5\" >0.5536</td>\n",
       "      <td id=\"T_6d8cf_row5_col6\" class=\"data row5 col6\" >0.4116</td>\n",
       "      <td id=\"T_6d8cf_row5_col7\" class=\"data row5 col7\" >0.4238</td>\n",
       "      <td id=\"T_6d8cf_row5_col8\" class=\"data row5 col8\" >24.3767</td>\n",
       "    </tr>\n",
       "    <tr>\n",
       "      <th id=\"T_6d8cf_level0_row6\" class=\"row_heading level0 row6\" >nb</th>\n",
       "      <td id=\"T_6d8cf_row6_col0\" class=\"data row6 col0\" >Naive Bayes</td>\n",
       "      <td id=\"T_6d8cf_row6_col1\" class=\"data row6 col1\" >0.4494</td>\n",
       "      <td id=\"T_6d8cf_row6_col2\" class=\"data row6 col2\" >0.7344</td>\n",
       "      <td id=\"T_6d8cf_row6_col3\" class=\"data row6 col3\" >0.4494</td>\n",
       "      <td id=\"T_6d8cf_row6_col4\" class=\"data row6 col4\" >0.5177</td>\n",
       "      <td id=\"T_6d8cf_row6_col5\" class=\"data row6 col5\" >0.4572</td>\n",
       "      <td id=\"T_6d8cf_row6_col6\" class=\"data row6 col6\" >0.2955</td>\n",
       "      <td id=\"T_6d8cf_row6_col7\" class=\"data row6 col7\" >0.3010</td>\n",
       "      <td id=\"T_6d8cf_row6_col8\" class=\"data row6 col8\" >2.6633</td>\n",
       "    </tr>\n",
       "    <tr>\n",
       "      <th id=\"T_6d8cf_level0_row7\" class=\"row_heading level0 row7\" >dt</th>\n",
       "      <td id=\"T_6d8cf_row7_col0\" class=\"data row7 col0\" >Decision Tree Classifier</td>\n",
       "      <td id=\"T_6d8cf_row7_col1\" class=\"data row7 col1\" >0.4141</td>\n",
       "      <td id=\"T_6d8cf_row7_col2\" class=\"data row7 col2\" >0.6176</td>\n",
       "      <td id=\"T_6d8cf_row7_col3\" class=\"data row7 col3\" >0.4141</td>\n",
       "      <td id=\"T_6d8cf_row7_col4\" class=\"data row7 col4\" >0.4163</td>\n",
       "      <td id=\"T_6d8cf_row7_col5\" class=\"data row7 col5\" >0.4150</td>\n",
       "      <td id=\"T_6d8cf_row7_col6\" class=\"data row7 col6\" >0.2322</td>\n",
       "      <td id=\"T_6d8cf_row7_col7\" class=\"data row7 col7\" >0.2323</td>\n",
       "      <td id=\"T_6d8cf_row7_col8\" class=\"data row7 col8\" >25.6400</td>\n",
       "    </tr>\n",
       "    <tr>\n",
       "      <th id=\"T_6d8cf_level0_row8\" class=\"row_heading level0 row8\" >ada</th>\n",
       "      <td id=\"T_6d8cf_row8_col0\" class=\"data row8 col0\" >Ada Boost Classifier</td>\n",
       "      <td id=\"T_6d8cf_row8_col1\" class=\"data row8 col1\" >0.3849</td>\n",
       "      <td id=\"T_6d8cf_row8_col2\" class=\"data row8 col2\" >0.5919</td>\n",
       "      <td id=\"T_6d8cf_row8_col3\" class=\"data row8 col3\" >0.3849</td>\n",
       "      <td id=\"T_6d8cf_row8_col4\" class=\"data row8 col4\" >0.3594</td>\n",
       "      <td id=\"T_6d8cf_row8_col5\" class=\"data row8 col5\" >0.3224</td>\n",
       "      <td id=\"T_6d8cf_row8_col6\" class=\"data row8 col6\" >0.1189</td>\n",
       "      <td id=\"T_6d8cf_row8_col7\" class=\"data row8 col7\" >0.1361</td>\n",
       "      <td id=\"T_6d8cf_row8_col8\" class=\"data row8 col8\" >65.3633</td>\n",
       "    </tr>\n",
       "  </tbody>\n",
       "</table>\n"
      ],
      "text/plain": [
       "<pandas.io.formats.style.Styler at 0x1d4f812ac70>"
      ]
     },
     "metadata": {},
     "output_type": "display_data"
    },
    {
     "data": {
      "application/vnd.jupyter.widget-view+json": {
       "model_id": "e657d0d1decf46d7bda98f631f156342",
       "version_major": 2,
       "version_minor": 0
      },
      "text/plain": [
       "Processing:   0%|          | 0/65 [00:00<?, ?it/s]"
      ]
     },
     "metadata": {},
     "output_type": "display_data"
    }
   ],
   "source": [
    "best = compare_models()\n",
    "#compare_models(include = ['ridge', 'svm', 'lr', 'qda', 'rf', 'knn', 'nb', 'dt', 'ada'])"
   ]
  },
  {
   "cell_type": "code",
   "execution_count": null,
   "id": "dd53f58d",
   "metadata": {},
   "outputs": [],
   "source": [
    "# Logistic Regression is the best baseline model"
   ]
  },
  {
   "cell_type": "code",
   "execution_count": null,
   "id": "7a769c00",
   "metadata": {},
   "outputs": [],
   "source": []
  }
 ],
 "metadata": {
  "kernelspec": {
   "display_name": "Python 3 (ipykernel)",
   "language": "python",
   "name": "python3"
  },
  "language_info": {
   "codemirror_mode": {
    "name": "ipython",
    "version": 3
   },
   "file_extension": ".py",
   "mimetype": "text/x-python",
   "name": "python",
   "nbconvert_exporter": "python",
   "pygments_lexer": "ipython3",
   "version": "3.9.13"
  },
  "toc": {
   "base_numbering": 1,
   "nav_menu": {},
   "number_sections": true,
   "sideBar": true,
   "skip_h1_title": false,
   "title_cell": "Table of Contents",
   "title_sidebar": "Contents",
   "toc_cell": false,
   "toc_position": {},
   "toc_section_display": true,
   "toc_window_display": false
  },
  "varInspector": {
   "cols": {
    "lenName": 16,
    "lenType": 16,
    "lenVar": 40
   },
   "kernels_config": {
    "python": {
     "delete_cmd_postfix": "",
     "delete_cmd_prefix": "del ",
     "library": "var_list.py",
     "varRefreshCmd": "print(var_dic_list())"
    },
    "r": {
     "delete_cmd_postfix": ") ",
     "delete_cmd_prefix": "rm(",
     "library": "var_list.r",
     "varRefreshCmd": "cat(var_dic_list()) "
    }
   },
   "types_to_exclude": [
    "module",
    "function",
    "builtin_function_or_method",
    "instance",
    "_Feature"
   ],
   "window_display": false
  }
 },
 "nbformat": 4,
 "nbformat_minor": 5
}
