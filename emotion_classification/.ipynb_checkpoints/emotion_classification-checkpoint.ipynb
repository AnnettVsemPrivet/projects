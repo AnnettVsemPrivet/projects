{
 "cells": [
  {
   "cell_type": "markdown",
   "id": "f0c770be",
   "metadata": {
    "heading_collapsed": true
   },
   "source": [
    "# libs"
   ]
  },
  {
   "cell_type": "code",
   "execution_count": 1,
   "id": "fdc21beb",
   "metadata": {
    "ExecuteTime": {
     "end_time": "2023-05-22T21:31:44.409293Z",
     "start_time": "2023-05-22T21:31:29.392885Z"
    },
    "hidden": true
   },
   "outputs": [],
   "source": [
    "import pandas as pd\n",
    "import numpy as np\n",
    "\n",
    "from sklearn.feature_extraction.text import TfidfVectorizer\n",
    "from sklearn.decomposition import TruncatedSVD\n",
    "from pycaret.classification import *"
   ]
  },
  {
   "cell_type": "markdown",
   "id": "78413fbd",
   "metadata": {
    "heading_collapsed": true
   },
   "source": [
    "# product metric"
   ]
  },
  {
   "cell_type": "markdown",
   "id": "3c1f952b",
   "metadata": {
    "hidden": true
   },
   "source": [
    "- **продукт**: чат-бот для психологической поддержки\n",
    "- **задача ML**: многоклассовая классификация\n",
    "- **целевая переменная**: метки эмоций\n",
    "- **бизнесовая метрика**: выдвигаем гипотезу, что на RR влияет процент \"хороших\" эмоций к концу диалога с ботом относительно начала диалога\n",
    "- **ML-метрики**: средние F-мера, AUC-ROC\n",
    "\n",
    "**Подробнее:**\n",
    "\n",
    "В качестве модели за основу возьмем модель BLOOMZ, с которой будем работать через библиотеку Petals. В данной библиотеке есть метод inference session который позволяет общаться с моделью имитируя общение с человеком. Пример: [https://colab.research.google.com/drive/1Ervk6HPNS6AYVr3xVdQnY5a-TjjmLCdQ#scrollTo=fZlzYVn0ApyF](https://colab.research.google.com/drive/1Ervk6HPNS6AYVr3xVdQnY5a-TjjmLCdQ#scrollTo=fZlzYVn0ApyF)\n",
    "\n",
    "Дополнительно надо добавить обработку моделью классификации, которая будет определять, в каком настроении человек, ведущий диалог с ботом. В будущем можно проводить дообучение модели на основе эмоций, которые показывали люди в текстовом виде после ответов модели.\n",
    "\n",
    "MVP: тг-чат, который выдает ответы модели BLOOMZ + модель классификации (лучшая из autoML по F-мере и AUC-ROC), которая определяет настроение в каждой реплике человека, и сохраняет информацию по каждому юзеру в sqllite базу данных.\n",
    "\n",
    "Термин “улучшение настроения”.\n",
    "Любой разговор (коммуникация, перерывы в которой не превышают 1 час) будем делить на 4 равные части из сообщений, по первой замерять преобладающее настроение человека в момент обращения к боту, а по последней - настроение после диалога с ботом. Если процент \"хороших\" эмоций повышается, то значит что бот помогает справляться с тяжелым состоянием, и ожидается, что такие люди будут с большей вероятностью возвращаться к использованию продукта. \n",
    "\n",
    "POC: выдвигаем гипотезу, что на RR влияет “улучшение настроения”. Если в конце эксперимента пользователи с “улучшением настроения” будут иметь более высокий RR, то гипотеза подтверждена и имеет смысл дообучить модель на основе классифицированных эмоций, таким образом повысив будущее использование данного сервиса."
   ]
  },
  {
   "cell_type": "markdown",
   "id": "be09a540",
   "metadata": {
    "heading_collapsed": true
   },
   "source": [
    "# data"
   ]
  },
  {
   "cell_type": "markdown",
   "id": "95f395dc",
   "metadata": {
    "hidden": true
   },
   "source": [
    "labels:\n",
    " - 0 > sadness\n",
    " - 1 > joy\n",
    " - 2 > love\n",
    " - 3 > anger\n",
    " - 4 > fear\n",
    " - 5 > surprise"
   ]
  },
  {
   "cell_type": "code",
   "execution_count": 2,
   "id": "ec3ae925",
   "metadata": {
    "ExecuteTime": {
     "end_time": "2023-05-22T21:31:49.252302Z",
     "start_time": "2023-05-22T21:31:49.056953Z"
    },
    "hidden": true
   },
   "outputs": [],
   "source": [
    "df_train = pd.read_csv('data/training.csv')\n",
    "df_test = pd.read_csv('data/test.csv')\n",
    "df_val = pd.read_csv('data/validation.csv')"
   ]
  },
  {
   "cell_type": "code",
   "execution_count": 3,
   "id": "6c1446b0",
   "metadata": {
    "ExecuteTime": {
     "end_time": "2023-05-22T21:31:50.843234Z",
     "start_time": "2023-05-22T21:31:50.809333Z"
    },
    "hidden": true
   },
   "outputs": [
    {
     "data": {
      "text/plain": [
       "1    5362\n",
       "0    4666\n",
       "3    2159\n",
       "4    1937\n",
       "2    1304\n",
       "5     572\n",
       "Name: label, dtype: int64"
      ]
     },
     "execution_count": 3,
     "metadata": {},
     "output_type": "execute_result"
    }
   ],
   "source": [
    "df_train.label.value_counts()"
   ]
  },
  {
   "cell_type": "code",
   "execution_count": 4,
   "id": "5a1242b5",
   "metadata": {
    "ExecuteTime": {
     "end_time": "2023-05-22T21:31:53.974881Z",
     "start_time": "2023-05-22T21:31:53.144291Z"
    },
    "hidden": true
   },
   "outputs": [],
   "source": [
    "vect = TfidfVectorizer(sublinear_tf=True, use_idf=True)\n",
    "\n",
    "X_train = vect.fit_transform(df_train.text.values)\n",
    "X_test = vect.transform(df_test.text.values)\n",
    "X_val = vect.transform(df_val.text.values)"
   ]
  },
  {
   "cell_type": "code",
   "execution_count": 5,
   "id": "61edf4fb",
   "metadata": {
    "ExecuteTime": {
     "end_time": "2023-05-22T21:31:55.485469Z",
     "start_time": "2023-05-22T21:31:55.468517Z"
    },
    "hidden": true
   },
   "outputs": [
    {
     "data": {
      "text/plain": [
       "(16000, 15186)"
      ]
     },
     "execution_count": 5,
     "metadata": {},
     "output_type": "execute_result"
    }
   ],
   "source": [
    "X_train.shape"
   ]
  },
  {
   "cell_type": "code",
   "execution_count": 6,
   "id": "e475f3c4",
   "metadata": {
    "ExecuteTime": {
     "end_time": "2023-05-22T21:32:33.358863Z",
     "start_time": "2023-05-22T21:31:57.777634Z"
    },
    "hidden": true
   },
   "outputs": [],
   "source": [
    "tsvd = TruncatedSVD(n_components=1000)\n",
    "X_train_pca = tsvd.fit_transform(X_train)\n",
    "X_test_pca = tsvd.transform(X_test)\n",
    "X_val_pca = tsvd.transform(X_val)"
   ]
  },
  {
   "cell_type": "code",
   "execution_count": 7,
   "id": "95107f46",
   "metadata": {
    "ExecuteTime": {
     "end_time": "2023-05-22T21:32:33.986661Z",
     "start_time": "2023-05-22T21:32:33.722890Z"
    },
    "hidden": true
   },
   "outputs": [],
   "source": [
    "train = pd.concat([pd.DataFrame(X_train_pca),df_train.label],axis=1)\n",
    "test = pd.concat([pd.DataFrame(X_test_pca),df_test.label],axis=1)\n",
    "val = pd.concat([pd.DataFrame(X_val_pca),df_val.label],axis=1)"
   ]
  },
  {
   "cell_type": "code",
   "execution_count": null,
   "id": "7740339c",
   "metadata": {
    "hidden": true
   },
   "outputs": [],
   "source": []
  },
  {
   "cell_type": "code",
   "execution_count": 8,
   "id": "d9fdc8ee",
   "metadata": {
    "ExecuteTime": {
     "end_time": "2023-05-22T21:32:42.665972Z",
     "start_time": "2023-05-22T21:32:42.548414Z"
    },
    "hidden": true
   },
   "outputs": [],
   "source": [
    "# для начала обучим бейзлайн только на части данных train, чтобы быстрее понять, какую модель дальше оптимизировать\n",
    "\n",
    "ind_0 = np.random.choice(list(df_train[df_train['label']==0].index), 2000, replace=False)\n",
    "ind_1 = np.random.choice(list(df_train[df_train['label']==1].index), 2000, replace=False)\n",
    "ind_3 = np.random.choice(list(df_train[df_train['label']==3].index), 2000, replace=False)\n",
    "\n",
    "ind = list(pd.concat([df_train.iloc[ind_0],\n",
    "                        df_train.iloc[ind_1],\n",
    "                        df_train.iloc[ind_3],\n",
    "                        df_train.query('label==4 or label==2 or label==5')]).index)\n",
    "\n",
    "np.random.shuffle(ind)"
   ]
  },
  {
   "cell_type": "code",
   "execution_count": 10,
   "id": "df46c593",
   "metadata": {
    "ExecuteTime": {
     "end_time": "2023-05-22T21:34:07.667672Z",
     "start_time": "2023-05-22T21:33:43.173684Z"
    },
    "hidden": true
   },
   "outputs": [],
   "source": [
    "new_df = df_train.iloc[ind].reset_index(drop=True)\n",
    "\n",
    "new_vect = TfidfVectorizer(sublinear_tf=True, use_idf=True)\n",
    "new_X_train = new_vect.fit_transform(new_df.text.values)\n",
    "\n",
    "new_tsvd = TruncatedSVD(n_components=1000)\n",
    "new_X_train_pca = new_tsvd.fit_transform(new_X_train)\n",
    "\n",
    "new_train = pd.concat([pd.DataFrame(new_X_train_pca),new_df.label],axis=1)"
   ]
  },
  {
   "cell_type": "markdown",
   "id": "6976df4d",
   "metadata": {
    "heading_collapsed": true
   },
   "source": [
    "# baseline"
   ]
  },
  {
   "cell_type": "code",
   "execution_count": 38,
   "id": "b98e0624",
   "metadata": {
    "ExecuteTime": {
     "end_time": "2023-05-22T20:07:44.018791Z",
     "start_time": "2023-05-22T20:07:43.707959Z"
    },
    "hidden": true
   },
   "outputs": [
    {
     "data": {
      "text/html": [
       "<div>\n",
       "<style scoped>\n",
       "    .dataframe tbody tr th:only-of-type {\n",
       "        vertical-align: middle;\n",
       "    }\n",
       "\n",
       "    .dataframe tbody tr th {\n",
       "        vertical-align: top;\n",
       "    }\n",
       "\n",
       "    .dataframe thead th {\n",
       "        text-align: right;\n",
       "    }\n",
       "</style>\n",
       "<table border=\"1\" class=\"dataframe\">\n",
       "  <thead>\n",
       "    <tr style=\"text-align: right;\">\n",
       "      <th></th>\n",
       "      <th>Name</th>\n",
       "      <th>Reference</th>\n",
       "      <th>Turbo</th>\n",
       "    </tr>\n",
       "    <tr>\n",
       "      <th>ID</th>\n",
       "      <th></th>\n",
       "      <th></th>\n",
       "      <th></th>\n",
       "    </tr>\n",
       "  </thead>\n",
       "  <tbody>\n",
       "    <tr>\n",
       "      <th>lr</th>\n",
       "      <td>Logistic Regression</td>\n",
       "      <td>sklearn.linear_model._logistic.LogisticRegression</td>\n",
       "      <td>True</td>\n",
       "    </tr>\n",
       "    <tr>\n",
       "      <th>knn</th>\n",
       "      <td>K Neighbors Classifier</td>\n",
       "      <td>sklearn.neighbors._classification.KNeighborsCl...</td>\n",
       "      <td>True</td>\n",
       "    </tr>\n",
       "    <tr>\n",
       "      <th>nb</th>\n",
       "      <td>Naive Bayes</td>\n",
       "      <td>sklearn.naive_bayes.GaussianNB</td>\n",
       "      <td>True</td>\n",
       "    </tr>\n",
       "    <tr>\n",
       "      <th>dt</th>\n",
       "      <td>Decision Tree Classifier</td>\n",
       "      <td>sklearn.tree._classes.DecisionTreeClassifier</td>\n",
       "      <td>True</td>\n",
       "    </tr>\n",
       "    <tr>\n",
       "      <th>svm</th>\n",
       "      <td>SVM - Linear Kernel</td>\n",
       "      <td>sklearn.linear_model._stochastic_gradient.SGDC...</td>\n",
       "      <td>True</td>\n",
       "    </tr>\n",
       "    <tr>\n",
       "      <th>rbfsvm</th>\n",
       "      <td>SVM - Radial Kernel</td>\n",
       "      <td>sklearn.svm._classes.SVC</td>\n",
       "      <td>False</td>\n",
       "    </tr>\n",
       "    <tr>\n",
       "      <th>gpc</th>\n",
       "      <td>Gaussian Process Classifier</td>\n",
       "      <td>sklearn.gaussian_process._gpc.GaussianProcessC...</td>\n",
       "      <td>False</td>\n",
       "    </tr>\n",
       "    <tr>\n",
       "      <th>mlp</th>\n",
       "      <td>MLP Classifier</td>\n",
       "      <td>sklearn.neural_network._multilayer_perceptron....</td>\n",
       "      <td>False</td>\n",
       "    </tr>\n",
       "    <tr>\n",
       "      <th>ridge</th>\n",
       "      <td>Ridge Classifier</td>\n",
       "      <td>sklearn.linear_model._ridge.RidgeClassifier</td>\n",
       "      <td>True</td>\n",
       "    </tr>\n",
       "    <tr>\n",
       "      <th>rf</th>\n",
       "      <td>Random Forest Classifier</td>\n",
       "      <td>sklearn.ensemble._forest.RandomForestClassifier</td>\n",
       "      <td>True</td>\n",
       "    </tr>\n",
       "    <tr>\n",
       "      <th>qda</th>\n",
       "      <td>Quadratic Discriminant Analysis</td>\n",
       "      <td>sklearn.discriminant_analysis.QuadraticDiscrim...</td>\n",
       "      <td>True</td>\n",
       "    </tr>\n",
       "    <tr>\n",
       "      <th>ada</th>\n",
       "      <td>Ada Boost Classifier</td>\n",
       "      <td>sklearn.ensemble._weight_boosting.AdaBoostClas...</td>\n",
       "      <td>True</td>\n",
       "    </tr>\n",
       "    <tr>\n",
       "      <th>gbc</th>\n",
       "      <td>Gradient Boosting Classifier</td>\n",
       "      <td>sklearn.ensemble._gb.GradientBoostingClassifier</td>\n",
       "      <td>True</td>\n",
       "    </tr>\n",
       "    <tr>\n",
       "      <th>lda</th>\n",
       "      <td>Linear Discriminant Analysis</td>\n",
       "      <td>sklearn.discriminant_analysis.LinearDiscrimina...</td>\n",
       "      <td>True</td>\n",
       "    </tr>\n",
       "    <tr>\n",
       "      <th>et</th>\n",
       "      <td>Extra Trees Classifier</td>\n",
       "      <td>sklearn.ensemble._forest.ExtraTreesClassifier</td>\n",
       "      <td>True</td>\n",
       "    </tr>\n",
       "    <tr>\n",
       "      <th>xgboost</th>\n",
       "      <td>Extreme Gradient Boosting</td>\n",
       "      <td>xgboost.sklearn.XGBClassifier</td>\n",
       "      <td>True</td>\n",
       "    </tr>\n",
       "    <tr>\n",
       "      <th>lightgbm</th>\n",
       "      <td>Light Gradient Boosting Machine</td>\n",
       "      <td>lightgbm.sklearn.LGBMClassifier</td>\n",
       "      <td>True</td>\n",
       "    </tr>\n",
       "    <tr>\n",
       "      <th>dummy</th>\n",
       "      <td>Dummy Classifier</td>\n",
       "      <td>sklearn.dummy.DummyClassifier</td>\n",
       "      <td>True</td>\n",
       "    </tr>\n",
       "  </tbody>\n",
       "</table>\n",
       "</div>"
      ],
      "text/plain": [
       "                                     Name  \\\n",
       "ID                                          \n",
       "lr                    Logistic Regression   \n",
       "knn                K Neighbors Classifier   \n",
       "nb                            Naive Bayes   \n",
       "dt               Decision Tree Classifier   \n",
       "svm                   SVM - Linear Kernel   \n",
       "rbfsvm                SVM - Radial Kernel   \n",
       "gpc           Gaussian Process Classifier   \n",
       "mlp                        MLP Classifier   \n",
       "ridge                    Ridge Classifier   \n",
       "rf               Random Forest Classifier   \n",
       "qda       Quadratic Discriminant Analysis   \n",
       "ada                  Ada Boost Classifier   \n",
       "gbc          Gradient Boosting Classifier   \n",
       "lda          Linear Discriminant Analysis   \n",
       "et                 Extra Trees Classifier   \n",
       "xgboost         Extreme Gradient Boosting   \n",
       "lightgbm  Light Gradient Boosting Machine   \n",
       "dummy                    Dummy Classifier   \n",
       "\n",
       "                                                  Reference  Turbo  \n",
       "ID                                                                  \n",
       "lr        sklearn.linear_model._logistic.LogisticRegression   True  \n",
       "knn       sklearn.neighbors._classification.KNeighborsCl...   True  \n",
       "nb                           sklearn.naive_bayes.GaussianNB   True  \n",
       "dt             sklearn.tree._classes.DecisionTreeClassifier   True  \n",
       "svm       sklearn.linear_model._stochastic_gradient.SGDC...   True  \n",
       "rbfsvm                             sklearn.svm._classes.SVC  False  \n",
       "gpc       sklearn.gaussian_process._gpc.GaussianProcessC...  False  \n",
       "mlp       sklearn.neural_network._multilayer_perceptron....  False  \n",
       "ridge           sklearn.linear_model._ridge.RidgeClassifier   True  \n",
       "rf          sklearn.ensemble._forest.RandomForestClassifier   True  \n",
       "qda       sklearn.discriminant_analysis.QuadraticDiscrim...   True  \n",
       "ada       sklearn.ensemble._weight_boosting.AdaBoostClas...   True  \n",
       "gbc         sklearn.ensemble._gb.GradientBoostingClassifier   True  \n",
       "lda       sklearn.discriminant_analysis.LinearDiscrimina...   True  \n",
       "et            sklearn.ensemble._forest.ExtraTreesClassifier   True  \n",
       "xgboost                       xgboost.sklearn.XGBClassifier   True  \n",
       "lightgbm                    lightgbm.sklearn.LGBMClassifier   True  \n",
       "dummy                         sklearn.dummy.DummyClassifier   True  "
      ]
     },
     "execution_count": 38,
     "metadata": {},
     "output_type": "execute_result"
    }
   ],
   "source": [
    "models()"
   ]
  },
  {
   "cell_type": "code",
   "execution_count": 11,
   "id": "530598ee",
   "metadata": {
    "ExecuteTime": {
     "end_time": "2023-05-22T21:34:23.878559Z",
     "start_time": "2023-05-22T21:34:17.072182Z"
    },
    "hidden": true
   },
   "outputs": [
    {
     "data": {
      "text/html": [
       "<style type=\"text/css\">\n",
       "#T_1b4a8_row8_col1 {\n",
       "  background-color: lightgreen;\n",
       "}\n",
       "</style>\n",
       "<table id=\"T_1b4a8\">\n",
       "  <thead>\n",
       "    <tr>\n",
       "      <th class=\"blank level0\" >&nbsp;</th>\n",
       "      <th id=\"T_1b4a8_level0_col0\" class=\"col_heading level0 col0\" >Description</th>\n",
       "      <th id=\"T_1b4a8_level0_col1\" class=\"col_heading level0 col1\" >Value</th>\n",
       "    </tr>\n",
       "  </thead>\n",
       "  <tbody>\n",
       "    <tr>\n",
       "      <th id=\"T_1b4a8_level0_row0\" class=\"row_heading level0 row0\" >0</th>\n",
       "      <td id=\"T_1b4a8_row0_col0\" class=\"data row0 col0\" >Session id</td>\n",
       "      <td id=\"T_1b4a8_row0_col1\" class=\"data row0 col1\" >5075</td>\n",
       "    </tr>\n",
       "    <tr>\n",
       "      <th id=\"T_1b4a8_level0_row1\" class=\"row_heading level0 row1\" >1</th>\n",
       "      <td id=\"T_1b4a8_row1_col0\" class=\"data row1 col0\" >Target</td>\n",
       "      <td id=\"T_1b4a8_row1_col1\" class=\"data row1 col1\" >label</td>\n",
       "    </tr>\n",
       "    <tr>\n",
       "      <th id=\"T_1b4a8_level0_row2\" class=\"row_heading level0 row2\" >2</th>\n",
       "      <td id=\"T_1b4a8_row2_col0\" class=\"data row2 col0\" >Target type</td>\n",
       "      <td id=\"T_1b4a8_row2_col1\" class=\"data row2 col1\" >Multiclass</td>\n",
       "    </tr>\n",
       "    <tr>\n",
       "      <th id=\"T_1b4a8_level0_row3\" class=\"row_heading level0 row3\" >3</th>\n",
       "      <td id=\"T_1b4a8_row3_col0\" class=\"data row3 col0\" >Original data shape</td>\n",
       "      <td id=\"T_1b4a8_row3_col1\" class=\"data row3 col1\" >(9813, 1001)</td>\n",
       "    </tr>\n",
       "    <tr>\n",
       "      <th id=\"T_1b4a8_level0_row4\" class=\"row_heading level0 row4\" >4</th>\n",
       "      <td id=\"T_1b4a8_row4_col0\" class=\"data row4 col0\" >Transformed data shape</td>\n",
       "      <td id=\"T_1b4a8_row4_col1\" class=\"data row4 col1\" >(9813, 1001)</td>\n",
       "    </tr>\n",
       "    <tr>\n",
       "      <th id=\"T_1b4a8_level0_row5\" class=\"row_heading level0 row5\" >5</th>\n",
       "      <td id=\"T_1b4a8_row5_col0\" class=\"data row5 col0\" >Transformed train set shape</td>\n",
       "      <td id=\"T_1b4a8_row5_col1\" class=\"data row5 col1\" >(6869, 1001)</td>\n",
       "    </tr>\n",
       "    <tr>\n",
       "      <th id=\"T_1b4a8_level0_row6\" class=\"row_heading level0 row6\" >6</th>\n",
       "      <td id=\"T_1b4a8_row6_col0\" class=\"data row6 col0\" >Transformed test set shape</td>\n",
       "      <td id=\"T_1b4a8_row6_col1\" class=\"data row6 col1\" >(2944, 1001)</td>\n",
       "    </tr>\n",
       "    <tr>\n",
       "      <th id=\"T_1b4a8_level0_row7\" class=\"row_heading level0 row7\" >7</th>\n",
       "      <td id=\"T_1b4a8_row7_col0\" class=\"data row7 col0\" >Numeric features</td>\n",
       "      <td id=\"T_1b4a8_row7_col1\" class=\"data row7 col1\" >1000</td>\n",
       "    </tr>\n",
       "    <tr>\n",
       "      <th id=\"T_1b4a8_level0_row8\" class=\"row_heading level0 row8\" >8</th>\n",
       "      <td id=\"T_1b4a8_row8_col0\" class=\"data row8 col0\" >Preprocess</td>\n",
       "      <td id=\"T_1b4a8_row8_col1\" class=\"data row8 col1\" >True</td>\n",
       "    </tr>\n",
       "    <tr>\n",
       "      <th id=\"T_1b4a8_level0_row9\" class=\"row_heading level0 row9\" >9</th>\n",
       "      <td id=\"T_1b4a8_row9_col0\" class=\"data row9 col0\" >Imputation type</td>\n",
       "      <td id=\"T_1b4a8_row9_col1\" class=\"data row9 col1\" >simple</td>\n",
       "    </tr>\n",
       "    <tr>\n",
       "      <th id=\"T_1b4a8_level0_row10\" class=\"row_heading level0 row10\" >10</th>\n",
       "      <td id=\"T_1b4a8_row10_col0\" class=\"data row10 col0\" >Numeric imputation</td>\n",
       "      <td id=\"T_1b4a8_row10_col1\" class=\"data row10 col1\" >mean</td>\n",
       "    </tr>\n",
       "    <tr>\n",
       "      <th id=\"T_1b4a8_level0_row11\" class=\"row_heading level0 row11\" >11</th>\n",
       "      <td id=\"T_1b4a8_row11_col0\" class=\"data row11 col0\" >Categorical imputation</td>\n",
       "      <td id=\"T_1b4a8_row11_col1\" class=\"data row11 col1\" >mode</td>\n",
       "    </tr>\n",
       "    <tr>\n",
       "      <th id=\"T_1b4a8_level0_row12\" class=\"row_heading level0 row12\" >12</th>\n",
       "      <td id=\"T_1b4a8_row12_col0\" class=\"data row12 col0\" >Fold Generator</td>\n",
       "      <td id=\"T_1b4a8_row12_col1\" class=\"data row12 col1\" >StratifiedKFold</td>\n",
       "    </tr>\n",
       "    <tr>\n",
       "      <th id=\"T_1b4a8_level0_row13\" class=\"row_heading level0 row13\" >13</th>\n",
       "      <td id=\"T_1b4a8_row13_col0\" class=\"data row13 col0\" >Fold Number</td>\n",
       "      <td id=\"T_1b4a8_row13_col1\" class=\"data row13 col1\" >3</td>\n",
       "    </tr>\n",
       "    <tr>\n",
       "      <th id=\"T_1b4a8_level0_row14\" class=\"row_heading level0 row14\" >14</th>\n",
       "      <td id=\"T_1b4a8_row14_col0\" class=\"data row14 col0\" >CPU Jobs</td>\n",
       "      <td id=\"T_1b4a8_row14_col1\" class=\"data row14 col1\" >-1</td>\n",
       "    </tr>\n",
       "    <tr>\n",
       "      <th id=\"T_1b4a8_level0_row15\" class=\"row_heading level0 row15\" >15</th>\n",
       "      <td id=\"T_1b4a8_row15_col0\" class=\"data row15 col0\" >Use GPU</td>\n",
       "      <td id=\"T_1b4a8_row15_col1\" class=\"data row15 col1\" >False</td>\n",
       "    </tr>\n",
       "    <tr>\n",
       "      <th id=\"T_1b4a8_level0_row16\" class=\"row_heading level0 row16\" >16</th>\n",
       "      <td id=\"T_1b4a8_row16_col0\" class=\"data row16 col0\" >Log Experiment</td>\n",
       "      <td id=\"T_1b4a8_row16_col1\" class=\"data row16 col1\" >False</td>\n",
       "    </tr>\n",
       "    <tr>\n",
       "      <th id=\"T_1b4a8_level0_row17\" class=\"row_heading level0 row17\" >17</th>\n",
       "      <td id=\"T_1b4a8_row17_col0\" class=\"data row17 col0\" >Experiment Name</td>\n",
       "      <td id=\"T_1b4a8_row17_col1\" class=\"data row17 col1\" >clf-default-name</td>\n",
       "    </tr>\n",
       "    <tr>\n",
       "      <th id=\"T_1b4a8_level0_row18\" class=\"row_heading level0 row18\" >18</th>\n",
       "      <td id=\"T_1b4a8_row18_col0\" class=\"data row18 col0\" >USI</td>\n",
       "      <td id=\"T_1b4a8_row18_col1\" class=\"data row18 col1\" >4dca</td>\n",
       "    </tr>\n",
       "  </tbody>\n",
       "</table>\n"
      ],
      "text/plain": [
       "<pandas.io.formats.style.Styler at 0x17d8993af40>"
      ]
     },
     "metadata": {},
     "output_type": "display_data"
    }
   ],
   "source": [
    "clf = setup(data=new_train, target='label', fold=3)"
   ]
  },
  {
   "cell_type": "code",
   "execution_count": null,
   "id": "424406f8",
   "metadata": {
    "ExecuteTime": {
     "start_time": "2023-05-22T18:23:09.203Z"
    },
    "hidden": true
   },
   "outputs": [
    {
     "data": {
      "text/html": [
       "<div>\n",
       "<style scoped>\n",
       "    .dataframe tbody tr th:only-of-type {\n",
       "        vertical-align: middle;\n",
       "    }\n",
       "\n",
       "    .dataframe tbody tr th {\n",
       "        vertical-align: top;\n",
       "    }\n",
       "\n",
       "    .dataframe thead th {\n",
       "        text-align: right;\n",
       "    }\n",
       "</style>\n",
       "<table border=\"1\" class=\"dataframe\">\n",
       "  <thead>\n",
       "    <tr style=\"text-align: right;\">\n",
       "      <th></th>\n",
       "      <th></th>\n",
       "      <th></th>\n",
       "    </tr>\n",
       "    <tr>\n",
       "      <th></th>\n",
       "      <th></th>\n",
       "      <th></th>\n",
       "    </tr>\n",
       "  </thead>\n",
       "  <tbody>\n",
       "    <tr>\n",
       "      <th>Initiated</th>\n",
       "      <td>. . . . . . . . . . . . . . . . . .</td>\n",
       "      <td>21:23:09</td>\n",
       "    </tr>\n",
       "    <tr>\n",
       "      <th>Status</th>\n",
       "      <td>. . . . . . . . . . . . . . . . . .</td>\n",
       "      <td>Fitting 3 Folds</td>\n",
       "    </tr>\n",
       "    <tr>\n",
       "      <th>Estimator</th>\n",
       "      <td>. . . . . . . . . . . . . . . . . .</td>\n",
       "      <td>Gradient Boosting Classifier</td>\n",
       "    </tr>\n",
       "  </tbody>\n",
       "</table>\n",
       "</div>"
      ],
      "text/plain": [
       "                                                                            \n",
       "                                                                            \n",
       "Initiated  . . . . . . . . . . . . . . . . . .                      21:23:09\n",
       "Status     . . . . . . . . . . . . . . . . . .               Fitting 3 Folds\n",
       "Estimator  . . . . . . . . . . . . . . . . . .  Gradient Boosting Classifier"
      ]
     },
     "metadata": {},
     "output_type": "display_data"
    },
    {
     "data": {
      "text/html": [
       "<style type=\"text/css\">\n",
       "#T_6d8cf th {\n",
       "  text-align: left;\n",
       "}\n",
       "#T_6d8cf_row0_col0, #T_6d8cf_row0_col1, #T_6d8cf_row0_col2, #T_6d8cf_row0_col3, #T_6d8cf_row0_col4, #T_6d8cf_row0_col5, #T_6d8cf_row0_col6, #T_6d8cf_row0_col7, #T_6d8cf_row0_col8, #T_6d8cf_row1_col0, #T_6d8cf_row1_col1, #T_6d8cf_row1_col2, #T_6d8cf_row1_col3, #T_6d8cf_row1_col4, #T_6d8cf_row1_col5, #T_6d8cf_row1_col6, #T_6d8cf_row1_col7, #T_6d8cf_row1_col8, #T_6d8cf_row2_col0, #T_6d8cf_row2_col1, #T_6d8cf_row2_col2, #T_6d8cf_row2_col3, #T_6d8cf_row2_col4, #T_6d8cf_row2_col5, #T_6d8cf_row2_col6, #T_6d8cf_row2_col7, #T_6d8cf_row2_col8, #T_6d8cf_row3_col0, #T_6d8cf_row3_col1, #T_6d8cf_row3_col2, #T_6d8cf_row3_col3, #T_6d8cf_row3_col4, #T_6d8cf_row3_col5, #T_6d8cf_row3_col6, #T_6d8cf_row3_col7, #T_6d8cf_row3_col8, #T_6d8cf_row4_col0, #T_6d8cf_row4_col1, #T_6d8cf_row4_col2, #T_6d8cf_row4_col3, #T_6d8cf_row4_col4, #T_6d8cf_row4_col5, #T_6d8cf_row4_col6, #T_6d8cf_row4_col7, #T_6d8cf_row4_col8, #T_6d8cf_row5_col0, #T_6d8cf_row5_col1, #T_6d8cf_row5_col2, #T_6d8cf_row5_col3, #T_6d8cf_row5_col4, #T_6d8cf_row5_col5, #T_6d8cf_row5_col6, #T_6d8cf_row5_col7, #T_6d8cf_row5_col8, #T_6d8cf_row6_col0, #T_6d8cf_row6_col1, #T_6d8cf_row6_col2, #T_6d8cf_row6_col3, #T_6d8cf_row6_col4, #T_6d8cf_row6_col5, #T_6d8cf_row6_col6, #T_6d8cf_row6_col7, #T_6d8cf_row6_col8, #T_6d8cf_row7_col0, #T_6d8cf_row7_col1, #T_6d8cf_row7_col2, #T_6d8cf_row7_col3, #T_6d8cf_row7_col4, #T_6d8cf_row7_col5, #T_6d8cf_row7_col6, #T_6d8cf_row7_col7, #T_6d8cf_row7_col8, #T_6d8cf_row8_col0, #T_6d8cf_row8_col1, #T_6d8cf_row8_col2, #T_6d8cf_row8_col3, #T_6d8cf_row8_col4, #T_6d8cf_row8_col5, #T_6d8cf_row8_col6, #T_6d8cf_row8_col7, #T_6d8cf_row8_col8 {\n",
       "  text-align: left;\n",
       "}\n",
       "</style>\n",
       "<table id=\"T_6d8cf\">\n",
       "  <thead>\n",
       "    <tr>\n",
       "      <th class=\"blank level0\" >&nbsp;</th>\n",
       "      <th id=\"T_6d8cf_level0_col0\" class=\"col_heading level0 col0\" >Model</th>\n",
       "      <th id=\"T_6d8cf_level0_col1\" class=\"col_heading level0 col1\" >Accuracy</th>\n",
       "      <th id=\"T_6d8cf_level0_col2\" class=\"col_heading level0 col2\" >AUC</th>\n",
       "      <th id=\"T_6d8cf_level0_col3\" class=\"col_heading level0 col3\" >Recall</th>\n",
       "      <th id=\"T_6d8cf_level0_col4\" class=\"col_heading level0 col4\" >Prec.</th>\n",
       "      <th id=\"T_6d8cf_level0_col5\" class=\"col_heading level0 col5\" >F1</th>\n",
       "      <th id=\"T_6d8cf_level0_col6\" class=\"col_heading level0 col6\" >Kappa</th>\n",
       "      <th id=\"T_6d8cf_level0_col7\" class=\"col_heading level0 col7\" >MCC</th>\n",
       "      <th id=\"T_6d8cf_level0_col8\" class=\"col_heading level0 col8\" >TT (Sec)</th>\n",
       "    </tr>\n",
       "  </thead>\n",
       "  <tbody>\n",
       "    <tr>\n",
       "      <th id=\"T_6d8cf_level0_row0\" class=\"row_heading level0 row0\" >ridge</th>\n",
       "      <td id=\"T_6d8cf_row0_col0\" class=\"data row0 col0\" >Ridge Classifier</td>\n",
       "      <td id=\"T_6d8cf_row0_col1\" class=\"data row0 col1\" >0.8784</td>\n",
       "      <td id=\"T_6d8cf_row0_col2\" class=\"data row0 col2\" >0.0000</td>\n",
       "      <td id=\"T_6d8cf_row0_col3\" class=\"data row0 col3\" >0.8784</td>\n",
       "      <td id=\"T_6d8cf_row0_col4\" class=\"data row0 col4\" >0.8784</td>\n",
       "      <td id=\"T_6d8cf_row0_col5\" class=\"data row0 col5\" >0.8765</td>\n",
       "      <td id=\"T_6d8cf_row0_col6\" class=\"data row0 col6\" >0.8383</td>\n",
       "      <td id=\"T_6d8cf_row0_col7\" class=\"data row0 col7\" >0.8392</td>\n",
       "      <td id=\"T_6d8cf_row0_col8\" class=\"data row0 col8\" >2.0133</td>\n",
       "    </tr>\n",
       "    <tr>\n",
       "      <th id=\"T_6d8cf_level0_row1\" class=\"row_heading level0 row1\" >svm</th>\n",
       "      <td id=\"T_6d8cf_row1_col0\" class=\"data row1 col0\" >SVM - Linear Kernel</td>\n",
       "      <td id=\"T_6d8cf_row1_col1\" class=\"data row1 col1\" >0.8742</td>\n",
       "      <td id=\"T_6d8cf_row1_col2\" class=\"data row1 col2\" >0.0000</td>\n",
       "      <td id=\"T_6d8cf_row1_col3\" class=\"data row1 col3\" >0.8742</td>\n",
       "      <td id=\"T_6d8cf_row1_col4\" class=\"data row1 col4\" >0.8753</td>\n",
       "      <td id=\"T_6d8cf_row1_col5\" class=\"data row1 col5\" >0.8719</td>\n",
       "      <td id=\"T_6d8cf_row1_col6\" class=\"data row1 col6\" >0.8325</td>\n",
       "      <td id=\"T_6d8cf_row1_col7\" class=\"data row1 col7\" >0.8337</td>\n",
       "      <td id=\"T_6d8cf_row1_col8\" class=\"data row1 col8\" >3.2533</td>\n",
       "    </tr>\n",
       "    <tr>\n",
       "      <th id=\"T_6d8cf_level0_row2\" class=\"row_heading level0 row2\" >lr</th>\n",
       "      <td id=\"T_6d8cf_row2_col0\" class=\"data row2 col0\" >Logistic Regression</td>\n",
       "      <td id=\"T_6d8cf_row2_col1\" class=\"data row2 col1\" >0.8377</td>\n",
       "      <td id=\"T_6d8cf_row2_col2\" class=\"data row2 col2\" >0.9808</td>\n",
       "      <td id=\"T_6d8cf_row2_col3\" class=\"data row2 col3\" >0.8377</td>\n",
       "      <td id=\"T_6d8cf_row2_col4\" class=\"data row2 col4\" >0.8450</td>\n",
       "      <td id=\"T_6d8cf_row2_col5\" class=\"data row2 col5\" >0.8305</td>\n",
       "      <td id=\"T_6d8cf_row2_col6\" class=\"data row2 col6\" >0.7807</td>\n",
       "      <td id=\"T_6d8cf_row2_col7\" class=\"data row2 col7\" >0.7852</td>\n",
       "      <td id=\"T_6d8cf_row2_col8\" class=\"data row2 col8\" >18.6367</td>\n",
       "    </tr>\n",
       "    <tr>\n",
       "      <th id=\"T_6d8cf_level0_row3\" class=\"row_heading level0 row3\" >qda</th>\n",
       "      <td id=\"T_6d8cf_row3_col0\" class=\"data row3 col0\" >Quadratic Discriminant Analysis</td>\n",
       "      <td id=\"T_6d8cf_row3_col1\" class=\"data row3 col1\" >0.7529</td>\n",
       "      <td id=\"T_6d8cf_row3_col2\" class=\"data row3 col2\" >0.8525</td>\n",
       "      <td id=\"T_6d8cf_row3_col3\" class=\"data row3 col3\" >0.7529</td>\n",
       "      <td id=\"T_6d8cf_row3_col4\" class=\"data row3 col4\" >0.6735</td>\n",
       "      <td id=\"T_6d8cf_row3_col5\" class=\"data row3 col5\" >0.7004</td>\n",
       "      <td id=\"T_6d8cf_row3_col6\" class=\"data row3 col6\" >0.6567</td>\n",
       "      <td id=\"T_6d8cf_row3_col7\" class=\"data row3 col7\" >0.6712</td>\n",
       "      <td id=\"T_6d8cf_row3_col8\" class=\"data row3 col8\" >11.9000</td>\n",
       "    </tr>\n",
       "    <tr>\n",
       "      <th id=\"T_6d8cf_level0_row4\" class=\"row_heading level0 row4\" >rf</th>\n",
       "      <td id=\"T_6d8cf_row4_col0\" class=\"data row4 col0\" >Random Forest Classifier</td>\n",
       "      <td id=\"T_6d8cf_row4_col1\" class=\"data row4 col1\" >0.5967</td>\n",
       "      <td id=\"T_6d8cf_row4_col2\" class=\"data row4 col2\" >0.8803</td>\n",
       "      <td id=\"T_6d8cf_row4_col3\" class=\"data row4 col3\" >0.5967</td>\n",
       "      <td id=\"T_6d8cf_row4_col4\" class=\"data row4 col4\" >0.7029</td>\n",
       "      <td id=\"T_6d8cf_row4_col5\" class=\"data row4 col5\" >0.5447</td>\n",
       "      <td id=\"T_6d8cf_row4_col6\" class=\"data row4 col6\" >0.4212</td>\n",
       "      <td id=\"T_6d8cf_row4_col7\" class=\"data row4 col7\" >0.4540</td>\n",
       "      <td id=\"T_6d8cf_row4_col8\" class=\"data row4 col8\" >40.4633</td>\n",
       "    </tr>\n",
       "    <tr>\n",
       "      <th id=\"T_6d8cf_level0_row5\" class=\"row_heading level0 row5\" >knn</th>\n",
       "      <td id=\"T_6d8cf_row5_col0\" class=\"data row5 col0\" >K Neighbors Classifier</td>\n",
       "      <td id=\"T_6d8cf_row5_col1\" class=\"data row5 col1\" >0.5401</td>\n",
       "      <td id=\"T_6d8cf_row5_col2\" class=\"data row5 col2\" >0.7971</td>\n",
       "      <td id=\"T_6d8cf_row5_col3\" class=\"data row5 col3\" >0.5401</td>\n",
       "      <td id=\"T_6d8cf_row5_col4\" class=\"data row5 col4\" >0.6303</td>\n",
       "      <td id=\"T_6d8cf_row5_col5\" class=\"data row5 col5\" >0.5536</td>\n",
       "      <td id=\"T_6d8cf_row5_col6\" class=\"data row5 col6\" >0.4116</td>\n",
       "      <td id=\"T_6d8cf_row5_col7\" class=\"data row5 col7\" >0.4238</td>\n",
       "      <td id=\"T_6d8cf_row5_col8\" class=\"data row5 col8\" >24.3767</td>\n",
       "    </tr>\n",
       "    <tr>\n",
       "      <th id=\"T_6d8cf_level0_row6\" class=\"row_heading level0 row6\" >nb</th>\n",
       "      <td id=\"T_6d8cf_row6_col0\" class=\"data row6 col0\" >Naive Bayes</td>\n",
       "      <td id=\"T_6d8cf_row6_col1\" class=\"data row6 col1\" >0.4494</td>\n",
       "      <td id=\"T_6d8cf_row6_col2\" class=\"data row6 col2\" >0.7344</td>\n",
       "      <td id=\"T_6d8cf_row6_col3\" class=\"data row6 col3\" >0.4494</td>\n",
       "      <td id=\"T_6d8cf_row6_col4\" class=\"data row6 col4\" >0.5177</td>\n",
       "      <td id=\"T_6d8cf_row6_col5\" class=\"data row6 col5\" >0.4572</td>\n",
       "      <td id=\"T_6d8cf_row6_col6\" class=\"data row6 col6\" >0.2955</td>\n",
       "      <td id=\"T_6d8cf_row6_col7\" class=\"data row6 col7\" >0.3010</td>\n",
       "      <td id=\"T_6d8cf_row6_col8\" class=\"data row6 col8\" >2.6633</td>\n",
       "    </tr>\n",
       "    <tr>\n",
       "      <th id=\"T_6d8cf_level0_row7\" class=\"row_heading level0 row7\" >dt</th>\n",
       "      <td id=\"T_6d8cf_row7_col0\" class=\"data row7 col0\" >Decision Tree Classifier</td>\n",
       "      <td id=\"T_6d8cf_row7_col1\" class=\"data row7 col1\" >0.4141</td>\n",
       "      <td id=\"T_6d8cf_row7_col2\" class=\"data row7 col2\" >0.6176</td>\n",
       "      <td id=\"T_6d8cf_row7_col3\" class=\"data row7 col3\" >0.4141</td>\n",
       "      <td id=\"T_6d8cf_row7_col4\" class=\"data row7 col4\" >0.4163</td>\n",
       "      <td id=\"T_6d8cf_row7_col5\" class=\"data row7 col5\" >0.4150</td>\n",
       "      <td id=\"T_6d8cf_row7_col6\" class=\"data row7 col6\" >0.2322</td>\n",
       "      <td id=\"T_6d8cf_row7_col7\" class=\"data row7 col7\" >0.2323</td>\n",
       "      <td id=\"T_6d8cf_row7_col8\" class=\"data row7 col8\" >25.6400</td>\n",
       "    </tr>\n",
       "    <tr>\n",
       "      <th id=\"T_6d8cf_level0_row8\" class=\"row_heading level0 row8\" >ada</th>\n",
       "      <td id=\"T_6d8cf_row8_col0\" class=\"data row8 col0\" >Ada Boost Classifier</td>\n",
       "      <td id=\"T_6d8cf_row8_col1\" class=\"data row8 col1\" >0.3849</td>\n",
       "      <td id=\"T_6d8cf_row8_col2\" class=\"data row8 col2\" >0.5919</td>\n",
       "      <td id=\"T_6d8cf_row8_col3\" class=\"data row8 col3\" >0.3849</td>\n",
       "      <td id=\"T_6d8cf_row8_col4\" class=\"data row8 col4\" >0.3594</td>\n",
       "      <td id=\"T_6d8cf_row8_col5\" class=\"data row8 col5\" >0.3224</td>\n",
       "      <td id=\"T_6d8cf_row8_col6\" class=\"data row8 col6\" >0.1189</td>\n",
       "      <td id=\"T_6d8cf_row8_col7\" class=\"data row8 col7\" >0.1361</td>\n",
       "      <td id=\"T_6d8cf_row8_col8\" class=\"data row8 col8\" >65.3633</td>\n",
       "    </tr>\n",
       "  </tbody>\n",
       "</table>\n"
      ],
      "text/plain": [
       "<pandas.io.formats.style.Styler at 0x1d4f812ac70>"
      ]
     },
     "metadata": {},
     "output_type": "display_data"
    },
    {
     "data": {
      "application/vnd.jupyter.widget-view+json": {
       "model_id": "e657d0d1decf46d7bda98f631f156342",
       "version_major": 2,
       "version_minor": 0
      },
      "text/plain": [
       "Processing:   0%|          | 0/65 [00:00<?, ?it/s]"
      ]
     },
     "metadata": {},
     "output_type": "display_data"
    }
   ],
   "source": [
    "#compare_models(include = ['ridge', 'svm', 'lr', 'qda', 'rf', 'knn', 'nb', 'dt', 'ada'])\n",
    "# TT(Sec) это время на один фолд\n",
    "\n",
    "best = compare_models()"
   ]
  },
  {
   "cell_type": "code",
   "execution_count": null,
   "id": "dd53f58d",
   "metadata": {
    "hidden": true
   },
   "outputs": [],
   "source": [
    "# Logistic Regression is the best baseline model"
   ]
  },
  {
   "cell_type": "code",
   "execution_count": null,
   "id": "7a769c00",
   "metadata": {
    "hidden": true
   },
   "outputs": [],
   "source": []
  }
 ],
 "metadata": {
  "kernelspec": {
   "display_name": "Python 3 (ipykernel)",
   "language": "python",
   "name": "python3"
  },
  "language_info": {
   "codemirror_mode": {
    "name": "ipython",
    "version": 3
   },
   "file_extension": ".py",
   "mimetype": "text/x-python",
   "name": "python",
   "nbconvert_exporter": "python",
   "pygments_lexer": "ipython3",
   "version": "3.9.13"
  },
  "toc": {
   "base_numbering": 1,
   "nav_menu": {},
   "number_sections": true,
   "sideBar": true,
   "skip_h1_title": false,
   "title_cell": "Table of Contents",
   "title_sidebar": "Contents",
   "toc_cell": false,
   "toc_position": {},
   "toc_section_display": true,
   "toc_window_display": false
  },
  "varInspector": {
   "cols": {
    "lenName": 16,
    "lenType": 16,
    "lenVar": 40
   },
   "kernels_config": {
    "python": {
     "delete_cmd_postfix": "",
     "delete_cmd_prefix": "del ",
     "library": "var_list.py",
     "varRefreshCmd": "print(var_dic_list())"
    },
    "r": {
     "delete_cmd_postfix": ") ",
     "delete_cmd_prefix": "rm(",
     "library": "var_list.r",
     "varRefreshCmd": "cat(var_dic_list()) "
    }
   },
   "types_to_exclude": [
    "module",
    "function",
    "builtin_function_or_method",
    "instance",
    "_Feature"
   ],
   "window_display": false
  }
 },
 "nbformat": 4,
 "nbformat_minor": 5
}
