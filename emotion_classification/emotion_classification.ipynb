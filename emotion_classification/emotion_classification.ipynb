{
 "cells": [
  {
   "cell_type": "markdown",
   "id": "f0c770be",
   "metadata": {
    "heading_collapsed": true
   },
   "source": [
    "# libs"
   ]
  },
  {
   "cell_type": "code",
   "execution_count": 83,
   "id": "fdc21beb",
   "metadata": {
    "ExecuteTime": {
     "end_time": "2023-05-23T17:22:23.053150Z",
     "start_time": "2023-05-23T17:22:23.014553Z"
    },
    "hidden": true
   },
   "outputs": [],
   "source": [
    "import pandas as pd\n",
    "import numpy as np\n",
    "import matplotlib.pyplot as plt\n",
    "\n",
    "from sklearn.feature_extraction.text import TfidfVectorizer\n",
    "from sklearn.decomposition import TruncatedSVD\n",
    "from pycaret.classification import *\n",
    "from wordcloud import WordCloud\n",
    "\n",
    "from sklearn.discriminant_analysis import LinearDiscriminantAnalysis\n",
    "from joblib import dump, load\n",
    "from sklearn.model_selection import StratifiedKFold\n",
    "from sklearn.model_selection import cross_validate\n",
    "from sklearn.metrics import make_scorer\n",
    "from sklearn.metrics import roc_auc_score\n",
    "from sklearn.metrics import f1_score"
   ]
  },
  {
   "cell_type": "markdown",
   "id": "78413fbd",
   "metadata": {
    "heading_collapsed": true
   },
   "source": [
    "# product metric"
   ]
  },
  {
   "cell_type": "markdown",
   "id": "3c1f952b",
   "metadata": {
    "hidden": true
   },
   "source": [
    "- **продукт**: чат-бот для психологической поддержки\n",
    "- **задача ML**: многоклассовая классификация\n",
    "- **целевая переменная**: метки эмоций\n",
    "- **бизнесовая метрика**: выдвигаем гипотезу, что на RR влияет процент \"хороших\" эмоций к концу диалога с ботом относительно начала диалога\n",
    "- **ML-метрики**: средние F-мера, AUC-ROC\n",
    "\n",
    "**Подробнее:**\n",
    "\n",
    "В качестве модели за основу возьмем модель ChatGPT 3.5 turbo (OpenAI), с которой будем работать через библиотеку langchain. В данной библиотеке есть класс ConversationChain который позволяет общаться с моделью имитируя общение с человеком.\n",
    "\n",
    "Дополнительно надо добавить обработку моделью классификации, которая будет определять, в каком настроении человек, ведущий диалог с ботом. В будущем можно проводить дообучение модели на основе эмоций, которые показывали люди в текстовом виде после ответов модели.\n",
    "\n",
    "MVP: тг-чат, который выдает ответы модели ChatGPT 3.5 + модель классификации (лучшая из autoML по F-мере и AUC-ROC), которая определяет настроение в каждой реплике человека, и сохраняет информацию по каждому юзеру в sqllite базу данных.\n",
    "\n",
    "Термин “улучшение настроения”.\n",
    "Любой разговор (коммуникация, перерывы в которой не превышают 1 час) будем делить на 4 равные части из сообщений, по первой замерять преобладающее настроение человека в момент обращения к боту, а по последней - настроение после диалога с ботом. Если процент \"хороших\" эмоций повышается, то значит что бот помогает справляться с тяжелым состоянием, и ожидается, что такие люди будут с большей вероятностью возвращаться к использованию продукта. \n",
    "\n",
    "POC: выдвигаем гипотезу, что на RR влияет “улучшение настроения”. Если в конце эксперимента пользователи с “улучшением настроения” будут иметь более высокий RR, то гипотеза подтверждена и имеет смысл дообучить модель на основе классифицированных эмоций, таким образом повысив будущее использование данного сервиса."
   ]
  },
  {
   "cell_type": "markdown",
   "id": "be09a540",
   "metadata": {
    "heading_collapsed": true
   },
   "source": [
    "# data"
   ]
  },
  {
   "cell_type": "markdown",
   "id": "95f395dc",
   "metadata": {
    "hidden": true
   },
   "source": [
    "labels:\n",
    " - 0 > sadness\n",
    " - 1 > joy\n",
    " - 2 > love\n",
    " - 3 > anger\n",
    " - 4 > fear\n",
    " - 5 > surprise"
   ]
  },
  {
   "cell_type": "code",
   "execution_count": 76,
   "id": "a3a272e4",
   "metadata": {
    "ExecuteTime": {
     "end_time": "2023-05-23T17:20:54.622705Z",
     "start_time": "2023-05-23T17:20:54.603755Z"
    },
    "hidden": true
   },
   "outputs": [],
   "source": [
    "emotions_dict = {0:'sadness', \n",
    "                1:'joy',\n",
    "                2:'love',\n",
    "                3:'anger',\n",
    "                4:'fear',\n",
    "                5:'surprise'}"
   ]
  },
  {
   "cell_type": "code",
   "execution_count": 77,
   "id": "ec3ae925",
   "metadata": {
    "ExecuteTime": {
     "end_time": "2023-05-23T17:20:56.272192Z",
     "start_time": "2023-05-23T17:20:56.084334Z"
    },
    "hidden": true
   },
   "outputs": [],
   "source": [
    "df_train = pd.read_csv('data/training.csv')\n",
    "df_test = pd.read_csv('data/test.csv')\n",
    "df_val = pd.read_csv('data/validation.csv')"
   ]
  },
  {
   "cell_type": "code",
   "execution_count": 3,
   "id": "6c1446b0",
   "metadata": {
    "ExecuteTime": {
     "end_time": "2023-05-22T21:31:50.843234Z",
     "start_time": "2023-05-22T21:31:50.809333Z"
    },
    "hidden": true
   },
   "outputs": [
    {
     "data": {
      "text/plain": [
       "1    5362\n",
       "0    4666\n",
       "3    2159\n",
       "4    1937\n",
       "2    1304\n",
       "5     572\n",
       "Name: label, dtype: int64"
      ]
     },
     "execution_count": 3,
     "metadata": {},
     "output_type": "execute_result"
    }
   ],
   "source": [
    "df_train.label.value_counts()"
   ]
  },
  {
   "cell_type": "code",
   "execution_count": 70,
   "id": "1f0d485b",
   "metadata": {
    "ExecuteTime": {
     "end_time": "2023-05-23T12:10:53.021618Z",
     "start_time": "2023-05-23T12:10:52.996687Z"
    },
    "hidden": true
   },
   "outputs": [
    {
     "data": {
      "text/plain": [
       "array(['im feeling rather rotten so im not very ambitious right now',\n",
       "       'im updating my blog because i feel shitty',\n",
       "       'i never make her separate from me because i don t ever want her to feel like i m ashamed with her',\n",
       "       ...,\n",
       "       'i feel that i am useful to my people and that gives me a great feeling of achievement',\n",
       "       'im feeling more comfortable with derby i feel as though i can start to step out my shell',\n",
       "       'i feel all weird when i have to meet w people i text but like dont talk face to face w'],\n",
       "      dtype=object)"
      ]
     },
     "execution_count": 70,
     "metadata": {},
     "output_type": "execute_result"
    }
   ],
   "source": [
    "df_test.text.values"
   ]
  },
  {
   "cell_type": "code",
   "execution_count": 78,
   "id": "5a1242b5",
   "metadata": {
    "ExecuteTime": {
     "end_time": "2023-05-23T17:21:01.850330Z",
     "start_time": "2023-05-23T17:21:01.283111Z"
    },
    "hidden": true
   },
   "outputs": [],
   "source": [
    "vect = TfidfVectorizer(sublinear_tf=True, use_idf=True)\n",
    "\n",
    "X_train = vect.fit_transform(df_train.text.values)\n",
    "X_test = vect.transform(df_test.text.values)\n",
    "X_val = vect.transform(df_val.text.values)"
   ]
  },
  {
   "cell_type": "code",
   "execution_count": 5,
   "id": "61edf4fb",
   "metadata": {
    "ExecuteTime": {
     "end_time": "2023-05-22T21:31:55.485469Z",
     "start_time": "2023-05-22T21:31:55.468517Z"
    },
    "hidden": true
   },
   "outputs": [
    {
     "data": {
      "text/plain": [
       "(16000, 15186)"
      ]
     },
     "execution_count": 5,
     "metadata": {},
     "output_type": "execute_result"
    }
   ],
   "source": [
    "X_train.shape"
   ]
  },
  {
   "cell_type": "code",
   "execution_count": 79,
   "id": "e475f3c4",
   "metadata": {
    "ExecuteTime": {
     "end_time": "2023-05-23T17:22:05.151831Z",
     "start_time": "2023-05-23T17:21:03.129319Z"
    },
    "hidden": true
   },
   "outputs": [],
   "source": [
    "tsvd = TruncatedSVD(n_components=1000)\n",
    "\n",
    "X_train_pca = tsvd.fit_transform(X_train)\n",
    "X_test_pca = tsvd.transform(X_test)\n",
    "X_val_pca = tsvd.transform(X_val)"
   ]
  },
  {
   "cell_type": "code",
   "execution_count": 80,
   "id": "95107f46",
   "metadata": {
    "ExecuteTime": {
     "end_time": "2023-05-23T17:22:06.062306Z",
     "start_time": "2023-05-23T17:22:05.714730Z"
    },
    "hidden": true
   },
   "outputs": [],
   "source": [
    "train = pd.concat([pd.DataFrame(X_train_pca),df_train.label],axis=1)\n",
    "test = pd.concat([pd.DataFrame(X_test_pca),df_test.label],axis=1)\n",
    "val = pd.concat([pd.DataFrame(X_val_pca),df_val.label],axis=1)"
   ]
  },
  {
   "cell_type": "code",
   "execution_count": null,
   "id": "6fd1c267",
   "metadata": {
    "hidden": true
   },
   "outputs": [],
   "source": []
  },
  {
   "cell_type": "code",
   "execution_count": 8,
   "id": "e7366256",
   "metadata": {
    "ExecuteTime": {
     "end_time": "2023-05-22T21:32:42.665972Z",
     "start_time": "2023-05-22T21:32:42.548414Z"
    },
    "hidden": true
   },
   "outputs": [],
   "source": [
    "# для начала обучим бейзлайн только на части данных train, чтобы быстрее понять, какую модель дальше оптимизировать\n",
    "\n",
    "ind_0 = np.random.choice(list(df_train[df_train['label']==0].index), 2000, replace=False)\n",
    "ind_1 = np.random.choice(list(df_train[df_train['label']==1].index), 2000, replace=False)\n",
    "ind_3 = np.random.choice(list(df_train[df_train['label']==3].index), 2000, replace=False)\n",
    "\n",
    "ind = list(pd.concat([df_train.iloc[ind_0],\n",
    "                        df_train.iloc[ind_1],\n",
    "                        df_train.iloc[ind_3],\n",
    "                        df_train.query('label==4 or label==2 or label==5')]).index)\n",
    "\n",
    "np.random.shuffle(ind)"
   ]
  },
  {
   "cell_type": "code",
   "execution_count": 10,
   "id": "7e85227d",
   "metadata": {
    "ExecuteTime": {
     "end_time": "2023-05-22T21:34:07.667672Z",
     "start_time": "2023-05-22T21:33:43.173684Z"
    },
    "hidden": true
   },
   "outputs": [],
   "source": [
    "new_df = df_train.iloc[ind].reset_index(drop=True)\n",
    "\n",
    "new_vect = TfidfVectorizer(sublinear_tf=True, use_idf=True)\n",
    "new_X_train = new_vect.fit_transform(new_df.text.values)\n",
    "\n",
    "new_tsvd = TruncatedSVD(n_components=1000)\n",
    "new_X_train_pca = new_tsvd.fit_transform(new_X_train)\n",
    "\n",
    "new_train = pd.concat([pd.DataFrame(new_X_train_pca),new_df.label],axis=1)"
   ]
  },
  {
   "cell_type": "markdown",
   "id": "6976df4d",
   "metadata": {
    "heading_collapsed": true
   },
   "source": [
    "# baseline"
   ]
  },
  {
   "cell_type": "code",
   "execution_count": 38,
   "id": "b98e0624",
   "metadata": {
    "ExecuteTime": {
     "end_time": "2023-05-22T20:07:44.018791Z",
     "start_time": "2023-05-22T20:07:43.707959Z"
    },
    "hidden": true
   },
   "outputs": [
    {
     "data": {
      "text/html": [
       "<div>\n",
       "<style scoped>\n",
       "    .dataframe tbody tr th:only-of-type {\n",
       "        vertical-align: middle;\n",
       "    }\n",
       "\n",
       "    .dataframe tbody tr th {\n",
       "        vertical-align: top;\n",
       "    }\n",
       "\n",
       "    .dataframe thead th {\n",
       "        text-align: right;\n",
       "    }\n",
       "</style>\n",
       "<table border=\"1\" class=\"dataframe\">\n",
       "  <thead>\n",
       "    <tr style=\"text-align: right;\">\n",
       "      <th></th>\n",
       "      <th>Name</th>\n",
       "      <th>Reference</th>\n",
       "      <th>Turbo</th>\n",
       "    </tr>\n",
       "    <tr>\n",
       "      <th>ID</th>\n",
       "      <th></th>\n",
       "      <th></th>\n",
       "      <th></th>\n",
       "    </tr>\n",
       "  </thead>\n",
       "  <tbody>\n",
       "    <tr>\n",
       "      <th>lr</th>\n",
       "      <td>Logistic Regression</td>\n",
       "      <td>sklearn.linear_model._logistic.LogisticRegression</td>\n",
       "      <td>True</td>\n",
       "    </tr>\n",
       "    <tr>\n",
       "      <th>knn</th>\n",
       "      <td>K Neighbors Classifier</td>\n",
       "      <td>sklearn.neighbors._classification.KNeighborsCl...</td>\n",
       "      <td>True</td>\n",
       "    </tr>\n",
       "    <tr>\n",
       "      <th>nb</th>\n",
       "      <td>Naive Bayes</td>\n",
       "      <td>sklearn.naive_bayes.GaussianNB</td>\n",
       "      <td>True</td>\n",
       "    </tr>\n",
       "    <tr>\n",
       "      <th>dt</th>\n",
       "      <td>Decision Tree Classifier</td>\n",
       "      <td>sklearn.tree._classes.DecisionTreeClassifier</td>\n",
       "      <td>True</td>\n",
       "    </tr>\n",
       "    <tr>\n",
       "      <th>svm</th>\n",
       "      <td>SVM - Linear Kernel</td>\n",
       "      <td>sklearn.linear_model._stochastic_gradient.SGDC...</td>\n",
       "      <td>True</td>\n",
       "    </tr>\n",
       "    <tr>\n",
       "      <th>rbfsvm</th>\n",
       "      <td>SVM - Radial Kernel</td>\n",
       "      <td>sklearn.svm._classes.SVC</td>\n",
       "      <td>False</td>\n",
       "    </tr>\n",
       "    <tr>\n",
       "      <th>gpc</th>\n",
       "      <td>Gaussian Process Classifier</td>\n",
       "      <td>sklearn.gaussian_process._gpc.GaussianProcessC...</td>\n",
       "      <td>False</td>\n",
       "    </tr>\n",
       "    <tr>\n",
       "      <th>mlp</th>\n",
       "      <td>MLP Classifier</td>\n",
       "      <td>sklearn.neural_network._multilayer_perceptron....</td>\n",
       "      <td>False</td>\n",
       "    </tr>\n",
       "    <tr>\n",
       "      <th>ridge</th>\n",
       "      <td>Ridge Classifier</td>\n",
       "      <td>sklearn.linear_model._ridge.RidgeClassifier</td>\n",
       "      <td>True</td>\n",
       "    </tr>\n",
       "    <tr>\n",
       "      <th>rf</th>\n",
       "      <td>Random Forest Classifier</td>\n",
       "      <td>sklearn.ensemble._forest.RandomForestClassifier</td>\n",
       "      <td>True</td>\n",
       "    </tr>\n",
       "    <tr>\n",
       "      <th>qda</th>\n",
       "      <td>Quadratic Discriminant Analysis</td>\n",
       "      <td>sklearn.discriminant_analysis.QuadraticDiscrim...</td>\n",
       "      <td>True</td>\n",
       "    </tr>\n",
       "    <tr>\n",
       "      <th>ada</th>\n",
       "      <td>Ada Boost Classifier</td>\n",
       "      <td>sklearn.ensemble._weight_boosting.AdaBoostClas...</td>\n",
       "      <td>True</td>\n",
       "    </tr>\n",
       "    <tr>\n",
       "      <th>gbc</th>\n",
       "      <td>Gradient Boosting Classifier</td>\n",
       "      <td>sklearn.ensemble._gb.GradientBoostingClassifier</td>\n",
       "      <td>True</td>\n",
       "    </tr>\n",
       "    <tr>\n",
       "      <th>lda</th>\n",
       "      <td>Linear Discriminant Analysis</td>\n",
       "      <td>sklearn.discriminant_analysis.LinearDiscrimina...</td>\n",
       "      <td>True</td>\n",
       "    </tr>\n",
       "    <tr>\n",
       "      <th>et</th>\n",
       "      <td>Extra Trees Classifier</td>\n",
       "      <td>sklearn.ensemble._forest.ExtraTreesClassifier</td>\n",
       "      <td>True</td>\n",
       "    </tr>\n",
       "    <tr>\n",
       "      <th>xgboost</th>\n",
       "      <td>Extreme Gradient Boosting</td>\n",
       "      <td>xgboost.sklearn.XGBClassifier</td>\n",
       "      <td>True</td>\n",
       "    </tr>\n",
       "    <tr>\n",
       "      <th>lightgbm</th>\n",
       "      <td>Light Gradient Boosting Machine</td>\n",
       "      <td>lightgbm.sklearn.LGBMClassifier</td>\n",
       "      <td>True</td>\n",
       "    </tr>\n",
       "    <tr>\n",
       "      <th>dummy</th>\n",
       "      <td>Dummy Classifier</td>\n",
       "      <td>sklearn.dummy.DummyClassifier</td>\n",
       "      <td>True</td>\n",
       "    </tr>\n",
       "  </tbody>\n",
       "</table>\n",
       "</div>"
      ],
      "text/plain": [
       "                                     Name  \\\n",
       "ID                                          \n",
       "lr                    Logistic Regression   \n",
       "knn                K Neighbors Classifier   \n",
       "nb                            Naive Bayes   \n",
       "dt               Decision Tree Classifier   \n",
       "svm                   SVM - Linear Kernel   \n",
       "rbfsvm                SVM - Radial Kernel   \n",
       "gpc           Gaussian Process Classifier   \n",
       "mlp                        MLP Classifier   \n",
       "ridge                    Ridge Classifier   \n",
       "rf               Random Forest Classifier   \n",
       "qda       Quadratic Discriminant Analysis   \n",
       "ada                  Ada Boost Classifier   \n",
       "gbc          Gradient Boosting Classifier   \n",
       "lda          Linear Discriminant Analysis   \n",
       "et                 Extra Trees Classifier   \n",
       "xgboost         Extreme Gradient Boosting   \n",
       "lightgbm  Light Gradient Boosting Machine   \n",
       "dummy                    Dummy Classifier   \n",
       "\n",
       "                                                  Reference  Turbo  \n",
       "ID                                                                  \n",
       "lr        sklearn.linear_model._logistic.LogisticRegression   True  \n",
       "knn       sklearn.neighbors._classification.KNeighborsCl...   True  \n",
       "nb                           sklearn.naive_bayes.GaussianNB   True  \n",
       "dt             sklearn.tree._classes.DecisionTreeClassifier   True  \n",
       "svm       sklearn.linear_model._stochastic_gradient.SGDC...   True  \n",
       "rbfsvm                             sklearn.svm._classes.SVC  False  \n",
       "gpc       sklearn.gaussian_process._gpc.GaussianProcessC...  False  \n",
       "mlp       sklearn.neural_network._multilayer_perceptron....  False  \n",
       "ridge           sklearn.linear_model._ridge.RidgeClassifier   True  \n",
       "rf          sklearn.ensemble._forest.RandomForestClassifier   True  \n",
       "qda       sklearn.discriminant_analysis.QuadraticDiscrim...   True  \n",
       "ada       sklearn.ensemble._weight_boosting.AdaBoostClas...   True  \n",
       "gbc         sklearn.ensemble._gb.GradientBoostingClassifier   True  \n",
       "lda       sklearn.discriminant_analysis.LinearDiscrimina...   True  \n",
       "et            sklearn.ensemble._forest.ExtraTreesClassifier   True  \n",
       "xgboost                       xgboost.sklearn.XGBClassifier   True  \n",
       "lightgbm                    lightgbm.sklearn.LGBMClassifier   True  \n",
       "dummy                         sklearn.dummy.DummyClassifier   True  "
      ]
     },
     "execution_count": 38,
     "metadata": {},
     "output_type": "execute_result"
    }
   ],
   "source": [
    "models()"
   ]
  },
  {
   "cell_type": "code",
   "execution_count": 11,
   "id": "530598ee",
   "metadata": {
    "ExecuteTime": {
     "end_time": "2023-05-22T21:34:23.878559Z",
     "start_time": "2023-05-22T21:34:17.072182Z"
    },
    "hidden": true
   },
   "outputs": [
    {
     "data": {
      "text/html": [
       "<style type=\"text/css\">\n",
       "#T_1b4a8_row8_col1 {\n",
       "  background-color: lightgreen;\n",
       "}\n",
       "</style>\n",
       "<table id=\"T_1b4a8\">\n",
       "  <thead>\n",
       "    <tr>\n",
       "      <th class=\"blank level0\" >&nbsp;</th>\n",
       "      <th id=\"T_1b4a8_level0_col0\" class=\"col_heading level0 col0\" >Description</th>\n",
       "      <th id=\"T_1b4a8_level0_col1\" class=\"col_heading level0 col1\" >Value</th>\n",
       "    </tr>\n",
       "  </thead>\n",
       "  <tbody>\n",
       "    <tr>\n",
       "      <th id=\"T_1b4a8_level0_row0\" class=\"row_heading level0 row0\" >0</th>\n",
       "      <td id=\"T_1b4a8_row0_col0\" class=\"data row0 col0\" >Session id</td>\n",
       "      <td id=\"T_1b4a8_row0_col1\" class=\"data row0 col1\" >5075</td>\n",
       "    </tr>\n",
       "    <tr>\n",
       "      <th id=\"T_1b4a8_level0_row1\" class=\"row_heading level0 row1\" >1</th>\n",
       "      <td id=\"T_1b4a8_row1_col0\" class=\"data row1 col0\" >Target</td>\n",
       "      <td id=\"T_1b4a8_row1_col1\" class=\"data row1 col1\" >label</td>\n",
       "    </tr>\n",
       "    <tr>\n",
       "      <th id=\"T_1b4a8_level0_row2\" class=\"row_heading level0 row2\" >2</th>\n",
       "      <td id=\"T_1b4a8_row2_col0\" class=\"data row2 col0\" >Target type</td>\n",
       "      <td id=\"T_1b4a8_row2_col1\" class=\"data row2 col1\" >Multiclass</td>\n",
       "    </tr>\n",
       "    <tr>\n",
       "      <th id=\"T_1b4a8_level0_row3\" class=\"row_heading level0 row3\" >3</th>\n",
       "      <td id=\"T_1b4a8_row3_col0\" class=\"data row3 col0\" >Original data shape</td>\n",
       "      <td id=\"T_1b4a8_row3_col1\" class=\"data row3 col1\" >(9813, 1001)</td>\n",
       "    </tr>\n",
       "    <tr>\n",
       "      <th id=\"T_1b4a8_level0_row4\" class=\"row_heading level0 row4\" >4</th>\n",
       "      <td id=\"T_1b4a8_row4_col0\" class=\"data row4 col0\" >Transformed data shape</td>\n",
       "      <td id=\"T_1b4a8_row4_col1\" class=\"data row4 col1\" >(9813, 1001)</td>\n",
       "    </tr>\n",
       "    <tr>\n",
       "      <th id=\"T_1b4a8_level0_row5\" class=\"row_heading level0 row5\" >5</th>\n",
       "      <td id=\"T_1b4a8_row5_col0\" class=\"data row5 col0\" >Transformed train set shape</td>\n",
       "      <td id=\"T_1b4a8_row5_col1\" class=\"data row5 col1\" >(6869, 1001)</td>\n",
       "    </tr>\n",
       "    <tr>\n",
       "      <th id=\"T_1b4a8_level0_row6\" class=\"row_heading level0 row6\" >6</th>\n",
       "      <td id=\"T_1b4a8_row6_col0\" class=\"data row6 col0\" >Transformed test set shape</td>\n",
       "      <td id=\"T_1b4a8_row6_col1\" class=\"data row6 col1\" >(2944, 1001)</td>\n",
       "    </tr>\n",
       "    <tr>\n",
       "      <th id=\"T_1b4a8_level0_row7\" class=\"row_heading level0 row7\" >7</th>\n",
       "      <td id=\"T_1b4a8_row7_col0\" class=\"data row7 col0\" >Numeric features</td>\n",
       "      <td id=\"T_1b4a8_row7_col1\" class=\"data row7 col1\" >1000</td>\n",
       "    </tr>\n",
       "    <tr>\n",
       "      <th id=\"T_1b4a8_level0_row8\" class=\"row_heading level0 row8\" >8</th>\n",
       "      <td id=\"T_1b4a8_row8_col0\" class=\"data row8 col0\" >Preprocess</td>\n",
       "      <td id=\"T_1b4a8_row8_col1\" class=\"data row8 col1\" >True</td>\n",
       "    </tr>\n",
       "    <tr>\n",
       "      <th id=\"T_1b4a8_level0_row9\" class=\"row_heading level0 row9\" >9</th>\n",
       "      <td id=\"T_1b4a8_row9_col0\" class=\"data row9 col0\" >Imputation type</td>\n",
       "      <td id=\"T_1b4a8_row9_col1\" class=\"data row9 col1\" >simple</td>\n",
       "    </tr>\n",
       "    <tr>\n",
       "      <th id=\"T_1b4a8_level0_row10\" class=\"row_heading level0 row10\" >10</th>\n",
       "      <td id=\"T_1b4a8_row10_col0\" class=\"data row10 col0\" >Numeric imputation</td>\n",
       "      <td id=\"T_1b4a8_row10_col1\" class=\"data row10 col1\" >mean</td>\n",
       "    </tr>\n",
       "    <tr>\n",
       "      <th id=\"T_1b4a8_level0_row11\" class=\"row_heading level0 row11\" >11</th>\n",
       "      <td id=\"T_1b4a8_row11_col0\" class=\"data row11 col0\" >Categorical imputation</td>\n",
       "      <td id=\"T_1b4a8_row11_col1\" class=\"data row11 col1\" >mode</td>\n",
       "    </tr>\n",
       "    <tr>\n",
       "      <th id=\"T_1b4a8_level0_row12\" class=\"row_heading level0 row12\" >12</th>\n",
       "      <td id=\"T_1b4a8_row12_col0\" class=\"data row12 col0\" >Fold Generator</td>\n",
       "      <td id=\"T_1b4a8_row12_col1\" class=\"data row12 col1\" >StratifiedKFold</td>\n",
       "    </tr>\n",
       "    <tr>\n",
       "      <th id=\"T_1b4a8_level0_row13\" class=\"row_heading level0 row13\" >13</th>\n",
       "      <td id=\"T_1b4a8_row13_col0\" class=\"data row13 col0\" >Fold Number</td>\n",
       "      <td id=\"T_1b4a8_row13_col1\" class=\"data row13 col1\" >3</td>\n",
       "    </tr>\n",
       "    <tr>\n",
       "      <th id=\"T_1b4a8_level0_row14\" class=\"row_heading level0 row14\" >14</th>\n",
       "      <td id=\"T_1b4a8_row14_col0\" class=\"data row14 col0\" >CPU Jobs</td>\n",
       "      <td id=\"T_1b4a8_row14_col1\" class=\"data row14 col1\" >-1</td>\n",
       "    </tr>\n",
       "    <tr>\n",
       "      <th id=\"T_1b4a8_level0_row15\" class=\"row_heading level0 row15\" >15</th>\n",
       "      <td id=\"T_1b4a8_row15_col0\" class=\"data row15 col0\" >Use GPU</td>\n",
       "      <td id=\"T_1b4a8_row15_col1\" class=\"data row15 col1\" >False</td>\n",
       "    </tr>\n",
       "    <tr>\n",
       "      <th id=\"T_1b4a8_level0_row16\" class=\"row_heading level0 row16\" >16</th>\n",
       "      <td id=\"T_1b4a8_row16_col0\" class=\"data row16 col0\" >Log Experiment</td>\n",
       "      <td id=\"T_1b4a8_row16_col1\" class=\"data row16 col1\" >False</td>\n",
       "    </tr>\n",
       "    <tr>\n",
       "      <th id=\"T_1b4a8_level0_row17\" class=\"row_heading level0 row17\" >17</th>\n",
       "      <td id=\"T_1b4a8_row17_col0\" class=\"data row17 col0\" >Experiment Name</td>\n",
       "      <td id=\"T_1b4a8_row17_col1\" class=\"data row17 col1\" >clf-default-name</td>\n",
       "    </tr>\n",
       "    <tr>\n",
       "      <th id=\"T_1b4a8_level0_row18\" class=\"row_heading level0 row18\" >18</th>\n",
       "      <td id=\"T_1b4a8_row18_col0\" class=\"data row18 col0\" >USI</td>\n",
       "      <td id=\"T_1b4a8_row18_col1\" class=\"data row18 col1\" >4dca</td>\n",
       "    </tr>\n",
       "  </tbody>\n",
       "</table>\n"
      ],
      "text/plain": [
       "<pandas.io.formats.style.Styler at 0x17d8993af40>"
      ]
     },
     "metadata": {},
     "output_type": "display_data"
    }
   ],
   "source": [
    "# если хотим самостоятельно задать датасеты для трейна и теста, то необходимо обеспечить чтобы у них были разные индексы строк!\n",
    "# в рамках одного трейна тоже\n",
    "\n",
    "clf = setup(data=new_train, target='label', fold=3)"
   ]
  },
  {
   "cell_type": "code",
   "execution_count": 12,
   "id": "424406f8",
   "metadata": {
    "ExecuteTime": {
     "end_time": "2023-05-22T22:45:29.650801Z",
     "start_time": "2023-05-22T21:38:16.598672Z"
    },
    "hidden": true
   },
   "outputs": [
    {
     "data": {
      "text/html": [],
      "text/plain": [
       "<IPython.core.display.HTML object>"
      ]
     },
     "metadata": {},
     "output_type": "display_data"
    },
    {
     "data": {
      "text/html": [
       "<style type=\"text/css\">\n",
       "#T_d3f6c th {\n",
       "  text-align: left;\n",
       "}\n",
       "#T_d3f6c_row0_col0, #T_d3f6c_row0_col2, #T_d3f6c_row1_col0, #T_d3f6c_row1_col1, #T_d3f6c_row1_col2, #T_d3f6c_row1_col3, #T_d3f6c_row1_col4, #T_d3f6c_row1_col5, #T_d3f6c_row1_col6, #T_d3f6c_row1_col7, #T_d3f6c_row2_col0, #T_d3f6c_row2_col1, #T_d3f6c_row2_col3, #T_d3f6c_row2_col4, #T_d3f6c_row2_col5, #T_d3f6c_row2_col6, #T_d3f6c_row2_col7, #T_d3f6c_row3_col0, #T_d3f6c_row3_col1, #T_d3f6c_row3_col2, #T_d3f6c_row3_col3, #T_d3f6c_row3_col4, #T_d3f6c_row3_col5, #T_d3f6c_row3_col6, #T_d3f6c_row3_col7, #T_d3f6c_row4_col0, #T_d3f6c_row4_col1, #T_d3f6c_row4_col2, #T_d3f6c_row4_col3, #T_d3f6c_row4_col4, #T_d3f6c_row4_col5, #T_d3f6c_row4_col6, #T_d3f6c_row4_col7, #T_d3f6c_row5_col0, #T_d3f6c_row5_col1, #T_d3f6c_row5_col2, #T_d3f6c_row5_col3, #T_d3f6c_row5_col4, #T_d3f6c_row5_col5, #T_d3f6c_row5_col6, #T_d3f6c_row5_col7, #T_d3f6c_row6_col0, #T_d3f6c_row6_col1, #T_d3f6c_row6_col2, #T_d3f6c_row6_col3, #T_d3f6c_row6_col4, #T_d3f6c_row6_col5, #T_d3f6c_row6_col6, #T_d3f6c_row6_col7, #T_d3f6c_row7_col0, #T_d3f6c_row7_col1, #T_d3f6c_row7_col2, #T_d3f6c_row7_col3, #T_d3f6c_row7_col4, #T_d3f6c_row7_col5, #T_d3f6c_row7_col6, #T_d3f6c_row7_col7, #T_d3f6c_row8_col0, #T_d3f6c_row8_col1, #T_d3f6c_row8_col2, #T_d3f6c_row8_col3, #T_d3f6c_row8_col4, #T_d3f6c_row8_col5, #T_d3f6c_row8_col6, #T_d3f6c_row8_col7, #T_d3f6c_row9_col0, #T_d3f6c_row9_col1, #T_d3f6c_row9_col2, #T_d3f6c_row9_col3, #T_d3f6c_row9_col4, #T_d3f6c_row9_col5, #T_d3f6c_row9_col6, #T_d3f6c_row9_col7, #T_d3f6c_row10_col0, #T_d3f6c_row10_col1, #T_d3f6c_row10_col2, #T_d3f6c_row10_col3, #T_d3f6c_row10_col4, #T_d3f6c_row10_col5, #T_d3f6c_row10_col6, #T_d3f6c_row10_col7, #T_d3f6c_row11_col0, #T_d3f6c_row11_col1, #T_d3f6c_row11_col2, #T_d3f6c_row11_col3, #T_d3f6c_row11_col4, #T_d3f6c_row11_col5, #T_d3f6c_row11_col6, #T_d3f6c_row11_col7, #T_d3f6c_row12_col0, #T_d3f6c_row12_col1, #T_d3f6c_row12_col2, #T_d3f6c_row12_col3, #T_d3f6c_row12_col4, #T_d3f6c_row12_col5, #T_d3f6c_row12_col6, #T_d3f6c_row12_col7, #T_d3f6c_row13_col0, #T_d3f6c_row13_col1, #T_d3f6c_row13_col2, #T_d3f6c_row13_col3, #T_d3f6c_row13_col4, #T_d3f6c_row13_col5, #T_d3f6c_row13_col6, #T_d3f6c_row13_col7, #T_d3f6c_row14_col0, #T_d3f6c_row14_col1, #T_d3f6c_row14_col2, #T_d3f6c_row14_col3, #T_d3f6c_row14_col4, #T_d3f6c_row14_col5, #T_d3f6c_row14_col6, #T_d3f6c_row14_col7 {\n",
       "  text-align: left;\n",
       "}\n",
       "#T_d3f6c_row0_col1, #T_d3f6c_row0_col3, #T_d3f6c_row0_col4, #T_d3f6c_row0_col5, #T_d3f6c_row0_col6, #T_d3f6c_row0_col7, #T_d3f6c_row2_col2 {\n",
       "  text-align: left;\n",
       "  background-color: yellow;\n",
       "}\n",
       "#T_d3f6c_row0_col8 {\n",
       "  text-align: left;\n",
       "  background-color: yellow;\n",
       "  background-color: lightgrey;\n",
       "}\n",
       "#T_d3f6c_row1_col8, #T_d3f6c_row2_col8, #T_d3f6c_row3_col8, #T_d3f6c_row4_col8, #T_d3f6c_row5_col8, #T_d3f6c_row6_col8, #T_d3f6c_row7_col8, #T_d3f6c_row8_col8, #T_d3f6c_row9_col8, #T_d3f6c_row10_col8, #T_d3f6c_row11_col8, #T_d3f6c_row12_col8, #T_d3f6c_row13_col8, #T_d3f6c_row14_col8 {\n",
       "  text-align: left;\n",
       "  background-color: lightgrey;\n",
       "}\n",
       "</style>\n",
       "<table id=\"T_d3f6c\">\n",
       "  <thead>\n",
       "    <tr>\n",
       "      <th class=\"blank level0\" >&nbsp;</th>\n",
       "      <th id=\"T_d3f6c_level0_col0\" class=\"col_heading level0 col0\" >Model</th>\n",
       "      <th id=\"T_d3f6c_level0_col1\" class=\"col_heading level0 col1\" >Accuracy</th>\n",
       "      <th id=\"T_d3f6c_level0_col2\" class=\"col_heading level0 col2\" >AUC</th>\n",
       "      <th id=\"T_d3f6c_level0_col3\" class=\"col_heading level0 col3\" >Recall</th>\n",
       "      <th id=\"T_d3f6c_level0_col4\" class=\"col_heading level0 col4\" >Prec.</th>\n",
       "      <th id=\"T_d3f6c_level0_col5\" class=\"col_heading level0 col5\" >F1</th>\n",
       "      <th id=\"T_d3f6c_level0_col6\" class=\"col_heading level0 col6\" >Kappa</th>\n",
       "      <th id=\"T_d3f6c_level0_col7\" class=\"col_heading level0 col7\" >MCC</th>\n",
       "      <th id=\"T_d3f6c_level0_col8\" class=\"col_heading level0 col8\" >TT (Sec)</th>\n",
       "    </tr>\n",
       "  </thead>\n",
       "  <tbody>\n",
       "    <tr>\n",
       "      <th id=\"T_d3f6c_level0_row0\" class=\"row_heading level0 row0\" >ridge</th>\n",
       "      <td id=\"T_d3f6c_row0_col0\" class=\"data row0 col0\" >Ridge Classifier</td>\n",
       "      <td id=\"T_d3f6c_row0_col1\" class=\"data row0 col1\" >0.8610</td>\n",
       "      <td id=\"T_d3f6c_row0_col2\" class=\"data row0 col2\" >0.0000</td>\n",
       "      <td id=\"T_d3f6c_row0_col3\" class=\"data row0 col3\" >0.8610</td>\n",
       "      <td id=\"T_d3f6c_row0_col4\" class=\"data row0 col4\" >0.8619</td>\n",
       "      <td id=\"T_d3f6c_row0_col5\" class=\"data row0 col5\" >0.8605</td>\n",
       "      <td id=\"T_d3f6c_row0_col6\" class=\"data row0 col6\" >0.8292</td>\n",
       "      <td id=\"T_d3f6c_row0_col7\" class=\"data row0 col7\" >0.8294</td>\n",
       "      <td id=\"T_d3f6c_row0_col8\" class=\"data row0 col8\" >1.5733</td>\n",
       "    </tr>\n",
       "    <tr>\n",
       "      <th id=\"T_d3f6c_level0_row1\" class=\"row_heading level0 row1\" >svm</th>\n",
       "      <td id=\"T_d3f6c_row1_col0\" class=\"data row1 col0\" >SVM - Linear Kernel</td>\n",
       "      <td id=\"T_d3f6c_row1_col1\" class=\"data row1 col1\" >0.8559</td>\n",
       "      <td id=\"T_d3f6c_row1_col2\" class=\"data row1 col2\" >0.0000</td>\n",
       "      <td id=\"T_d3f6c_row1_col3\" class=\"data row1 col3\" >0.8559</td>\n",
       "      <td id=\"T_d3f6c_row1_col4\" class=\"data row1 col4\" >0.8592</td>\n",
       "      <td id=\"T_d3f6c_row1_col5\" class=\"data row1 col5\" >0.8553</td>\n",
       "      <td id=\"T_d3f6c_row1_col6\" class=\"data row1 col6\" >0.8231</td>\n",
       "      <td id=\"T_d3f6c_row1_col7\" class=\"data row1 col7\" >0.8239</td>\n",
       "      <td id=\"T_d3f6c_row1_col8\" class=\"data row1 col8\" >2.5233</td>\n",
       "    </tr>\n",
       "    <tr>\n",
       "      <th id=\"T_d3f6c_level0_row2\" class=\"row_heading level0 row2\" >lda</th>\n",
       "      <td id=\"T_d3f6c_row2_col0\" class=\"data row2 col0\" >Linear Discriminant Analysis</td>\n",
       "      <td id=\"T_d3f6c_row2_col1\" class=\"data row2 col1\" >0.8557</td>\n",
       "      <td id=\"T_d3f6c_row2_col2\" class=\"data row2 col2\" >0.9759</td>\n",
       "      <td id=\"T_d3f6c_row2_col3\" class=\"data row2 col3\" >0.8557</td>\n",
       "      <td id=\"T_d3f6c_row2_col4\" class=\"data row2 col4\" >0.8564</td>\n",
       "      <td id=\"T_d3f6c_row2_col5\" class=\"data row2 col5\" >0.8556</td>\n",
       "      <td id=\"T_d3f6c_row2_col6\" class=\"data row2 col6\" >0.8230</td>\n",
       "      <td id=\"T_d3f6c_row2_col7\" class=\"data row2 col7\" >0.8232</td>\n",
       "      <td id=\"T_d3f6c_row2_col8\" class=\"data row2 col8\" >6.3967</td>\n",
       "    </tr>\n",
       "    <tr>\n",
       "      <th id=\"T_d3f6c_level0_row3\" class=\"row_heading level0 row3\" >lr</th>\n",
       "      <td id=\"T_d3f6c_row3_col0\" class=\"data row3 col0\" >Logistic Regression</td>\n",
       "      <td id=\"T_d3f6c_row3_col1\" class=\"data row3 col1\" >0.7943</td>\n",
       "      <td id=\"T_d3f6c_row3_col2\" class=\"data row3 col2\" >0.9628</td>\n",
       "      <td id=\"T_d3f6c_row3_col3\" class=\"data row3 col3\" >0.7943</td>\n",
       "      <td id=\"T_d3f6c_row3_col4\" class=\"data row3 col4\" >0.8038</td>\n",
       "      <td id=\"T_d3f6c_row3_col5\" class=\"data row3 col5\" >0.7907</td>\n",
       "      <td id=\"T_d3f6c_row3_col6\" class=\"data row3 col6\" >0.7458</td>\n",
       "      <td id=\"T_d3f6c_row3_col7\" class=\"data row3 col7\" >0.7472</td>\n",
       "      <td id=\"T_d3f6c_row3_col8\" class=\"data row3 col8\" >12.2933</td>\n",
       "    </tr>\n",
       "    <tr>\n",
       "      <th id=\"T_d3f6c_level0_row4\" class=\"row_heading level0 row4\" >lightgbm</th>\n",
       "      <td id=\"T_d3f6c_row4_col0\" class=\"data row4 col0\" >Light Gradient Boosting Machine</td>\n",
       "      <td id=\"T_d3f6c_row4_col1\" class=\"data row4 col1\" >0.6778</td>\n",
       "      <td id=\"T_d3f6c_row4_col2\" class=\"data row4 col2\" >0.9184</td>\n",
       "      <td id=\"T_d3f6c_row4_col3\" class=\"data row4 col3\" >0.6778</td>\n",
       "      <td id=\"T_d3f6c_row4_col4\" class=\"data row4 col4\" >0.6978</td>\n",
       "      <td id=\"T_d3f6c_row4_col5\" class=\"data row4 col5\" >0.6746</td>\n",
       "      <td id=\"T_d3f6c_row4_col6\" class=\"data row4 col6\" >0.6008</td>\n",
       "      <td id=\"T_d3f6c_row4_col7\" class=\"data row4 col7\" >0.6031</td>\n",
       "      <td id=\"T_d3f6c_row4_col8\" class=\"data row4 col8\" >89.9433</td>\n",
       "    </tr>\n",
       "    <tr>\n",
       "      <th id=\"T_d3f6c_level0_row5\" class=\"row_heading level0 row5\" >xgboost</th>\n",
       "      <td id=\"T_d3f6c_row5_col0\" class=\"data row5 col0\" >Extreme Gradient Boosting</td>\n",
       "      <td id=\"T_d3f6c_row5_col1\" class=\"data row5 col1\" >0.6735</td>\n",
       "      <td id=\"T_d3f6c_row5_col2\" class=\"data row5 col2\" >0.9109</td>\n",
       "      <td id=\"T_d3f6c_row5_col3\" class=\"data row5 col3\" >0.6735</td>\n",
       "      <td id=\"T_d3f6c_row5_col4\" class=\"data row5 col4\" >0.6886</td>\n",
       "      <td id=\"T_d3f6c_row5_col5\" class=\"data row5 col5\" >0.6724</td>\n",
       "      <td id=\"T_d3f6c_row5_col6\" class=\"data row5 col6\" >0.5961</td>\n",
       "      <td id=\"T_d3f6c_row5_col7\" class=\"data row5 col7\" >0.5976</td>\n",
       "      <td id=\"T_d3f6c_row5_col8\" class=\"data row5 col8\" >498.4700</td>\n",
       "    </tr>\n",
       "    <tr>\n",
       "      <th id=\"T_d3f6c_level0_row6\" class=\"row_heading level0 row6\" >gbc</th>\n",
       "      <td id=\"T_d3f6c_row6_col0\" class=\"data row6 col0\" >Gradient Boosting Classifier</td>\n",
       "      <td id=\"T_d3f6c_row6_col1\" class=\"data row6 col1\" >0.6296</td>\n",
       "      <td id=\"T_d3f6c_row6_col2\" class=\"data row6 col2\" >0.8839</td>\n",
       "      <td id=\"T_d3f6c_row6_col3\" class=\"data row6 col3\" >0.6296</td>\n",
       "      <td id=\"T_d3f6c_row6_col4\" class=\"data row6 col4\" >0.6402</td>\n",
       "      <td id=\"T_d3f6c_row6_col5\" class=\"data row6 col5\" >0.6276</td>\n",
       "      <td id=\"T_d3f6c_row6_col6\" class=\"data row6 col6\" >0.5419</td>\n",
       "      <td id=\"T_d3f6c_row6_col7\" class=\"data row6 col7\" >0.5435</td>\n",
       "      <td id=\"T_d3f6c_row6_col8\" class=\"data row6 col8\" >650.4233</td>\n",
       "    </tr>\n",
       "    <tr>\n",
       "      <th id=\"T_d3f6c_level0_row7\" class=\"row_heading level0 row7\" >et</th>\n",
       "      <td id=\"T_d3f6c_row7_col0\" class=\"data row7 col0\" >Extra Trees Classifier</td>\n",
       "      <td id=\"T_d3f6c_row7_col1\" class=\"data row7 col1\" >0.5276</td>\n",
       "      <td id=\"T_d3f6c_row7_col2\" class=\"data row7 col2\" >0.8175</td>\n",
       "      <td id=\"T_d3f6c_row7_col3\" class=\"data row7 col3\" >0.5276</td>\n",
       "      <td id=\"T_d3f6c_row7_col4\" class=\"data row7 col4\" >0.5818</td>\n",
       "      <td id=\"T_d3f6c_row7_col5\" class=\"data row7 col5\" >0.5088</td>\n",
       "      <td id=\"T_d3f6c_row7_col6\" class=\"data row7 col6\" >0.4103</td>\n",
       "      <td id=\"T_d3f6c_row7_col7\" class=\"data row7 col7\" >0.4155</td>\n",
       "      <td id=\"T_d3f6c_row7_col8\" class=\"data row7 col8\" >7.5567</td>\n",
       "    </tr>\n",
       "    <tr>\n",
       "      <th id=\"T_d3f6c_level0_row8\" class=\"row_heading level0 row8\" >rf</th>\n",
       "      <td id=\"T_d3f6c_row8_col0\" class=\"data row8 col0\" >Random Forest Classifier</td>\n",
       "      <td id=\"T_d3f6c_row8_col1\" class=\"data row8 col1\" >0.5168</td>\n",
       "      <td id=\"T_d3f6c_row8_col2\" class=\"data row8 col2\" >0.8082</td>\n",
       "      <td id=\"T_d3f6c_row8_col3\" class=\"data row8 col3\" >0.5168</td>\n",
       "      <td id=\"T_d3f6c_row8_col4\" class=\"data row8 col4\" >0.5701</td>\n",
       "      <td id=\"T_d3f6c_row8_col5\" class=\"data row8 col5\" >0.4996</td>\n",
       "      <td id=\"T_d3f6c_row8_col6\" class=\"data row8 col6\" >0.3969</td>\n",
       "      <td id=\"T_d3f6c_row8_col7\" class=\"data row8 col7\" >0.4017</td>\n",
       "      <td id=\"T_d3f6c_row8_col8\" class=\"data row8 col8\" >14.3100</td>\n",
       "    </tr>\n",
       "    <tr>\n",
       "      <th id=\"T_d3f6c_level0_row9\" class=\"row_heading level0 row9\" >nb</th>\n",
       "      <td id=\"T_d3f6c_row9_col0\" class=\"data row9 col0\" >Naive Bayes</td>\n",
       "      <td id=\"T_d3f6c_row9_col1\" class=\"data row9 col1\" >0.4168</td>\n",
       "      <td id=\"T_d3f6c_row9_col2\" class=\"data row9 col2\" >0.7162</td>\n",
       "      <td id=\"T_d3f6c_row9_col3\" class=\"data row9 col3\" >0.4168</td>\n",
       "      <td id=\"T_d3f6c_row9_col4\" class=\"data row9 col4\" >0.4351</td>\n",
       "      <td id=\"T_d3f6c_row9_col5\" class=\"data row9 col5\" >0.4166</td>\n",
       "      <td id=\"T_d3f6c_row9_col6\" class=\"data row9 col6\" >0.2856</td>\n",
       "      <td id=\"T_d3f6c_row9_col7\" class=\"data row9 col7\" >0.2885</td>\n",
       "      <td id=\"T_d3f6c_row9_col8\" class=\"data row9 col8\" >1.6967</td>\n",
       "    </tr>\n",
       "    <tr>\n",
       "      <th id=\"T_d3f6c_level0_row10\" class=\"row_heading level0 row10\" >knn</th>\n",
       "      <td id=\"T_d3f6c_row10_col0\" class=\"data row10 col0\" >K Neighbors Classifier</td>\n",
       "      <td id=\"T_d3f6c_row10_col1\" class=\"data row10 col1\" >0.3919</td>\n",
       "      <td id=\"T_d3f6c_row10_col2\" class=\"data row10 col2\" >0.7280</td>\n",
       "      <td id=\"T_d3f6c_row10_col3\" class=\"data row10 col3\" >0.3919</td>\n",
       "      <td id=\"T_d3f6c_row10_col4\" class=\"data row10 col4\" >0.6143</td>\n",
       "      <td id=\"T_d3f6c_row10_col5\" class=\"data row10 col5\" >0.3698</td>\n",
       "      <td id=\"T_d3f6c_row10_col6\" class=\"data row10 col6\" >0.2423</td>\n",
       "      <td id=\"T_d3f6c_row10_col7\" class=\"data row10 col7\" >0.2994</td>\n",
       "      <td id=\"T_d3f6c_row10_col8\" class=\"data row10 col8\" >5.8967</td>\n",
       "    </tr>\n",
       "    <tr>\n",
       "      <th id=\"T_d3f6c_level0_row11\" class=\"row_heading level0 row11\" >dt</th>\n",
       "      <td id=\"T_d3f6c_row11_col0\" class=\"data row11 col0\" >Decision Tree Classifier</td>\n",
       "      <td id=\"T_d3f6c_row11_col1\" class=\"data row11 col1\" >0.3254</td>\n",
       "      <td id=\"T_d3f6c_row11_col2\" class=\"data row11 col2\" >0.5868</td>\n",
       "      <td id=\"T_d3f6c_row11_col3\" class=\"data row11 col3\" >0.3254</td>\n",
       "      <td id=\"T_d3f6c_row11_col4\" class=\"data row11 col4\" >0.3263</td>\n",
       "      <td id=\"T_d3f6c_row11_col5\" class=\"data row11 col5\" >0.3254</td>\n",
       "      <td id=\"T_d3f6c_row11_col6\" class=\"data row11 col6\" >0.1732</td>\n",
       "      <td id=\"T_d3f6c_row11_col7\" class=\"data row11 col7\" >0.1733</td>\n",
       "      <td id=\"T_d3f6c_row11_col8\" class=\"data row11 col8\" >9.3267</td>\n",
       "    </tr>\n",
       "    <tr>\n",
       "      <th id=\"T_d3f6c_level0_row12\" class=\"row_heading level0 row12\" >ada</th>\n",
       "      <td id=\"T_d3f6c_row12_col0\" class=\"data row12 col0\" >Ada Boost Classifier</td>\n",
       "      <td id=\"T_d3f6c_row12_col1\" class=\"data row12 col1\" >0.3248</td>\n",
       "      <td id=\"T_d3f6c_row12_col2\" class=\"data row12 col2\" >0.6405</td>\n",
       "      <td id=\"T_d3f6c_row12_col3\" class=\"data row12 col3\" >0.3248</td>\n",
       "      <td id=\"T_d3f6c_row12_col4\" class=\"data row12 col4\" >0.3277</td>\n",
       "      <td id=\"T_d3f6c_row12_col5\" class=\"data row12 col5\" >0.3210</td>\n",
       "      <td id=\"T_d3f6c_row12_col6\" class=\"data row12 col6\" >0.1654</td>\n",
       "      <td id=\"T_d3f6c_row12_col7\" class=\"data row12 col7\" >0.1664</td>\n",
       "      <td id=\"T_d3f6c_row12_col8\" class=\"data row12 col8\" >24.5467</td>\n",
       "    </tr>\n",
       "    <tr>\n",
       "      <th id=\"T_d3f6c_level0_row13\" class=\"row_heading level0 row13\" >qda</th>\n",
       "      <td id=\"T_d3f6c_row13_col0\" class=\"data row13 col0\" >Quadratic Discriminant Analysis</td>\n",
       "      <td id=\"T_d3f6c_row13_col1\" class=\"data row13 col1\" >0.3226</td>\n",
       "      <td id=\"T_d3f6c_row13_col2\" class=\"data row13 col2\" >0.6016</td>\n",
       "      <td id=\"T_d3f6c_row13_col3\" class=\"data row13 col3\" >0.3226</td>\n",
       "      <td id=\"T_d3f6c_row13_col4\" class=\"data row13 col4\" >0.3919</td>\n",
       "      <td id=\"T_d3f6c_row13_col5\" class=\"data row13 col5\" >0.3437</td>\n",
       "      <td id=\"T_d3f6c_row13_col6\" class=\"data row13 col6\" >0.1952</td>\n",
       "      <td id=\"T_d3f6c_row13_col7\" class=\"data row13 col7\" >0.2002</td>\n",
       "      <td id=\"T_d3f6c_row13_col8\" class=\"data row13 col8\" >6.3567</td>\n",
       "    </tr>\n",
       "    <tr>\n",
       "      <th id=\"T_d3f6c_level0_row14\" class=\"row_heading level0 row14\" >dummy</th>\n",
       "      <td id=\"T_d3f6c_row14_col0\" class=\"data row14 col0\" >Dummy Classifier</td>\n",
       "      <td id=\"T_d3f6c_row14_col1\" class=\"data row14 col1\" >0.2037</td>\n",
       "      <td id=\"T_d3f6c_row14_col2\" class=\"data row14 col2\" >0.5000</td>\n",
       "      <td id=\"T_d3f6c_row14_col3\" class=\"data row14 col3\" >0.2037</td>\n",
       "      <td id=\"T_d3f6c_row14_col4\" class=\"data row14 col4\" >0.0415</td>\n",
       "      <td id=\"T_d3f6c_row14_col5\" class=\"data row14 col5\" >0.0689</td>\n",
       "      <td id=\"T_d3f6c_row14_col6\" class=\"data row14 col6\" >0.0000</td>\n",
       "      <td id=\"T_d3f6c_row14_col7\" class=\"data row14 col7\" >0.0000</td>\n",
       "      <td id=\"T_d3f6c_row14_col8\" class=\"data row14 col8\" >3.5167</td>\n",
       "    </tr>\n",
       "  </tbody>\n",
       "</table>\n"
      ],
      "text/plain": [
       "<pandas.io.formats.style.Styler at 0x17d89972df0>"
      ]
     },
     "metadata": {},
     "output_type": "display_data"
    },
    {
     "data": {
      "application/vnd.jupyter.widget-view+json": {
       "model_id": "3e8b679336c14c0082a45032125638eb",
       "version_major": 2,
       "version_minor": 0
      },
      "text/plain": [
       "Processing:   0%|          | 0/65 [00:00<?, ?it/s]"
      ]
     },
     "metadata": {},
     "output_type": "display_data"
    }
   ],
   "source": [
    "#compare_models(include = ['ridge', 'svm', 'lr', 'qda', 'rf', 'knn', 'nb', 'dt', 'ada'])\n",
    "# TT(Sec) это время на один фолд\n",
    "\n",
    "best = compare_models()"
   ]
  },
  {
   "cell_type": "markdown",
   "id": "5e265678",
   "metadata": {
    "hidden": true
   },
   "source": [
    "Ridge Classifier is the best baseline model, but it doesn't have predict_proba attribute (that's why AUC-ROC=0)\n",
    "\n",
    "So we should use Linear Discriminant Analysis model instead\n",
    "\n",
    "Or we can add probabilities to [Ridge](https://stackoverflow.com/questions/22538080/scikit-learn-ridge-classifier-extracting-class-probabilities) or [SVM](https://koalatea.io/sklearn-svm-predicted-probabilites/)"
   ]
  },
  {
   "cell_type": "code",
   "execution_count": 13,
   "id": "7a769c00",
   "metadata": {
    "ExecuteTime": {
     "end_time": "2023-05-22T22:56:41.274510Z",
     "start_time": "2023-05-22T22:56:41.101541Z"
    },
    "hidden": true
   },
   "outputs": [
    {
     "data": {
      "text/plain": [
       "RidgeClassifier(alpha=1.0, class_weight=None, copy_X=True, fit_intercept=True,\n",
       "                max_iter=None, normalize='deprecated', positive=False,\n",
       "                random_state=5075, solver='auto', tol=0.001)"
      ]
     },
     "execution_count": 13,
     "metadata": {},
     "output_type": "execute_result"
    }
   ],
   "source": [
    "best"
   ]
  },
  {
   "cell_type": "code",
   "execution_count": 14,
   "id": "f5432b91",
   "metadata": {
    "ExecuteTime": {
     "end_time": "2023-05-22T22:57:46.886175Z",
     "start_time": "2023-05-22T22:57:40.833947Z"
    },
    "hidden": true
   },
   "outputs": [
    {
     "data": {
      "text/html": [],
      "text/plain": [
       "<IPython.core.display.HTML object>"
      ]
     },
     "metadata": {},
     "output_type": "display_data"
    },
    {
     "data": {
      "image/png": "[encoded data removed]",
      "text/plain": [
       "<Figure size 800x550 with 1 Axes>"
      ]
     },
     "metadata": {},
     "output_type": "display_data"
    }
   ],
   "source": [
    "plot_model(best, plot = 'confusion_matrix')"
   ]
  },
  {
   "cell_type": "markdown",
   "id": "15274e3a",
   "metadata": {
    "heading_collapsed": true
   },
   "source": [
    "# LDA"
   ]
  },
  {
   "cell_type": "code",
   "execution_count": 56,
   "id": "0f148ea3",
   "metadata": {
    "ExecuteTime": {
     "end_time": "2023-05-23T11:41:28.784953Z",
     "start_time": "2023-05-23T11:41:09.204168Z"
    },
    "hidden": true
   },
   "outputs": [
    {
     "name": "stdout",
     "output_type": "stream",
     "text": [
      "Mean AUC-ROC: 0.98 (0.001) \n",
      "Mean F1: 0.84 (0.002)\n"
     ]
    }
   ],
   "source": [
    "model = LinearDiscriminantAnalysis()\n",
    "cv = StratifiedKFold(n_splits=3, shuffle=True, random_state=1)\n",
    "\n",
    "roc_auc = make_scorer(roc_auc_score, multi_class='ovo', average='macro', needs_proba=True)\n",
    "f1 = make_scorer(f1_score, average='macro')\n",
    "\n",
    "scoring = {'auc': roc_auc,\n",
    "           'f1': f1}\n",
    "\n",
    "scores = cross_validate(model, X_train_pca, df_train.label, scoring=scoring, cv=cv, n_jobs=-1)\n",
    "print('Mean AUC-ROC: %.2f (%.3f)\\nMean F1: %.2f (%.3f)' % (np.mean(scores['test_auc']), np.std(scores['test_auc']),\n",
    "                                                np.mean(scores['test_f1']), np.std(scores['test_f1'])))"
   ]
  },
  {
   "cell_type": "markdown",
   "id": "d795a153",
   "metadata": {
    "hidden": true
   },
   "source": [
    "т.к. нам важны все классы, в том числе в которых меньше объектов, то возьмем макро усреднение (макроусреднение более чувствительно к качеству классификации маломощных классов)\n",
    "\n",
    "по метрикам качества видно, что все классы предсказываются довольно хорошо\n",
    "\n",
    "обучим теперь модель по всем данным train, и измерим качество на test (val пригодится потом, т.к. по test будем измерять качество между разными моделями, а по val определять итоговое качество выбранной модели)"
   ]
  },
  {
   "cell_type": "code",
   "execution_count": 81,
   "id": "48c69509",
   "metadata": {
    "ExecuteTime": {
     "end_time": "2023-05-23T17:22:20.752473Z",
     "start_time": "2023-05-23T17:22:06.726520Z"
    },
    "hidden": true
   },
   "outputs": [
    {
     "name": "stdout",
     "output_type": "stream",
     "text": [
      "Test AUC-ROC: 0.98\n",
      "Test F1: 0.83\n"
     ]
    }
   ],
   "source": [
    "model = LinearDiscriminantAnalysis()\n",
    "model.fit(X_train_pca, df_train.label)\n",
    "\n",
    "print('Test AUC-ROC: %.2f\\nTest F1: %.2f' % \n",
    "      (roc_auc_score(y_true=df_test.label, y_score=model.predict_proba(X_test_pca), multi_class='ovo', average='macro'), \n",
    "       f1_score(y_true=df_test.label, y_pred=model.predict(X_test_pca), average='macro') \n",
    "      ))"
   ]
  },
  {
   "cell_type": "code",
   "execution_count": 84,
   "id": "2b5531fa",
   "metadata": {
    "ExecuteTime": {
     "end_time": "2023-05-23T17:22:27.898502Z",
     "start_time": "2023-05-23T17:22:27.823461Z"
    },
    "hidden": true
   },
   "outputs": [
    {
     "data": {
      "text/plain": [
       "['LDA_clf.joblib']"
      ]
     },
     "execution_count": 84,
     "metadata": {},
     "output_type": "execute_result"
    }
   ],
   "source": [
    "dump(model, 'models/LDA_clf.joblib') "
   ]
  },
  {
   "cell_type": "code",
   "execution_count": 82,
   "id": "a6da8fe2",
   "metadata": {
    "ExecuteTime": {
     "end_time": "2023-05-23T17:22:22.475214Z",
     "start_time": "2023-05-23T17:22:21.709660Z"
    },
    "hidden": true
   },
   "outputs": [
    {
     "data": {
      "text/plain": [
       "['joy', 'sadness', 'joy', 'fear']"
      ]
     },
     "execution_count": 82,
     "metadata": {},
     "output_type": "execute_result"
    }
   ],
   "source": [
    "[emotions_dict[x] for x in model.predict(tsvd.transform(vect.transform(\n",
    "            np.array(['i feel quite optimistic about it', \n",
    "                      'i am hurt and lost',\n",
    "                      'what if everyone would be better without me',\n",
    "                     'im afraid of the future'])\n",
    "             )))]"
   ]
  },
  {
   "cell_type": "code",
   "execution_count": 113,
   "id": "3960b055",
   "metadata": {
    "ExecuteTime": {
     "end_time": "2023-05-23T17:48:54.774890Z",
     "start_time": "2023-05-23T17:48:53.638448Z"
    },
    "hidden": true
   },
   "outputs": [
    {
     "data": {
      "text/plain": [
       "['joy', 'sadness', 'joy', 'fear']"
      ]
     },
     "execution_count": 113,
     "metadata": {},
     "output_type": "execute_result"
    }
   ],
   "source": [
    "clf = load('models/LDA_clf.joblib') \n",
    "\n",
    "[emotions_dict[x] for x in clf.predict(tsvd.transform(vect.transform(\n",
    "            np.array(['i feel quite optimistic about it', \n",
    "                      'i am hurt and lost',\n",
    "                      'what if everyone would be better without me',\n",
    "                     'im afraid of the future'])\n",
    "             )))]"
   ]
  },
  {
   "cell_type": "markdown",
   "id": "8cc574d6",
   "metadata": {
    "hidden": true
   },
   "source": [
    "хоть качество и высокое, но определенно надо добавить n-граммы (хотя бы из 2-3 слов)"
   ]
  },
  {
   "cell_type": "code",
   "execution_count": 9,
   "id": "1b35e90e",
   "metadata": {
    "ExecuteTime": {
     "end_time": "2023-05-23T12:49:39.274122Z",
     "start_time": "2023-05-23T12:49:38.003124Z"
    },
    "hidden": true
   },
   "outputs": [
    {
     "data": {
      "text/html": [
       "<div>\n",
       "<style scoped>\n",
       "    .dataframe tbody tr th:only-of-type {\n",
       "        vertical-align: middle;\n",
       "    }\n",
       "\n",
       "    .dataframe tbody tr th {\n",
       "        vertical-align: top;\n",
       "    }\n",
       "\n",
       "    .dataframe thead th {\n",
       "        text-align: right;\n",
       "    }\n",
       "</style>\n",
       "<table border=\"1\" class=\"dataframe\">\n",
       "  <thead>\n",
       "    <tr style=\"text-align: right;\">\n",
       "      <th></th>\n",
       "      <th>aa</th>\n",
       "      <th>aaaaaaand</th>\n",
       "      <th>aaaaand</th>\n",
       "      <th>aaaand</th>\n",
       "      <th>aac</th>\n",
       "      <th>aahhh</th>\n",
       "      <th>aaron</th>\n",
       "      <th>ab</th>\n",
       "      <th>abandon</th>\n",
       "      <th>abandoned</th>\n",
       "      <th>...</th>\n",
       "      <th>zonisamide</th>\n",
       "      <th>zoo</th>\n",
       "      <th>zoom</th>\n",
       "      <th>zooming</th>\n",
       "      <th>zooms</th>\n",
       "      <th>zq</th>\n",
       "      <th>zucchini</th>\n",
       "      <th>zum</th>\n",
       "      <th>zumba</th>\n",
       "      <th>zz</th>\n",
       "    </tr>\n",
       "  </thead>\n",
       "  <tbody>\n",
       "    <tr>\n",
       "      <th>0</th>\n",
       "      <td>0.0</td>\n",
       "      <td>0.0</td>\n",
       "      <td>0.0</td>\n",
       "      <td>0.0</td>\n",
       "      <td>0.0</td>\n",
       "      <td>0.0</td>\n",
       "      <td>0.0</td>\n",
       "      <td>0.0</td>\n",
       "      <td>0.0</td>\n",
       "      <td>0.0</td>\n",
       "      <td>...</td>\n",
       "      <td>0.0</td>\n",
       "      <td>0.0</td>\n",
       "      <td>0.0</td>\n",
       "      <td>0.0</td>\n",
       "      <td>0.0</td>\n",
       "      <td>0.0</td>\n",
       "      <td>0.0</td>\n",
       "      <td>0.0</td>\n",
       "      <td>0.0</td>\n",
       "      <td>0.0</td>\n",
       "    </tr>\n",
       "    <tr>\n",
       "      <th>1</th>\n",
       "      <td>0.0</td>\n",
       "      <td>0.0</td>\n",
       "      <td>0.0</td>\n",
       "      <td>0.0</td>\n",
       "      <td>0.0</td>\n",
       "      <td>0.0</td>\n",
       "      <td>0.0</td>\n",
       "      <td>0.0</td>\n",
       "      <td>0.0</td>\n",
       "      <td>0.0</td>\n",
       "      <td>...</td>\n",
       "      <td>0.0</td>\n",
       "      <td>0.0</td>\n",
       "      <td>0.0</td>\n",
       "      <td>0.0</td>\n",
       "      <td>0.0</td>\n",
       "      <td>0.0</td>\n",
       "      <td>0.0</td>\n",
       "      <td>0.0</td>\n",
       "      <td>0.0</td>\n",
       "      <td>0.0</td>\n",
       "    </tr>\n",
       "    <tr>\n",
       "      <th>2</th>\n",
       "      <td>0.0</td>\n",
       "      <td>0.0</td>\n",
       "      <td>0.0</td>\n",
       "      <td>0.0</td>\n",
       "      <td>0.0</td>\n",
       "      <td>0.0</td>\n",
       "      <td>0.0</td>\n",
       "      <td>0.0</td>\n",
       "      <td>0.0</td>\n",
       "      <td>0.0</td>\n",
       "      <td>...</td>\n",
       "      <td>0.0</td>\n",
       "      <td>0.0</td>\n",
       "      <td>0.0</td>\n",
       "      <td>0.0</td>\n",
       "      <td>0.0</td>\n",
       "      <td>0.0</td>\n",
       "      <td>0.0</td>\n",
       "      <td>0.0</td>\n",
       "      <td>0.0</td>\n",
       "      <td>0.0</td>\n",
       "    </tr>\n",
       "    <tr>\n",
       "      <th>3</th>\n",
       "      <td>0.0</td>\n",
       "      <td>0.0</td>\n",
       "      <td>0.0</td>\n",
       "      <td>0.0</td>\n",
       "      <td>0.0</td>\n",
       "      <td>0.0</td>\n",
       "      <td>0.0</td>\n",
       "      <td>0.0</td>\n",
       "      <td>0.0</td>\n",
       "      <td>0.0</td>\n",
       "      <td>...</td>\n",
       "      <td>0.0</td>\n",
       "      <td>0.0</td>\n",
       "      <td>0.0</td>\n",
       "      <td>0.0</td>\n",
       "      <td>0.0</td>\n",
       "      <td>0.0</td>\n",
       "      <td>0.0</td>\n",
       "      <td>0.0</td>\n",
       "      <td>0.0</td>\n",
       "      <td>0.0</td>\n",
       "    </tr>\n",
       "    <tr>\n",
       "      <th>4</th>\n",
       "      <td>0.0</td>\n",
       "      <td>0.0</td>\n",
       "      <td>0.0</td>\n",
       "      <td>0.0</td>\n",
       "      <td>0.0</td>\n",
       "      <td>0.0</td>\n",
       "      <td>0.0</td>\n",
       "      <td>0.0</td>\n",
       "      <td>0.0</td>\n",
       "      <td>0.0</td>\n",
       "      <td>...</td>\n",
       "      <td>0.0</td>\n",
       "      <td>0.0</td>\n",
       "      <td>0.0</td>\n",
       "      <td>0.0</td>\n",
       "      <td>0.0</td>\n",
       "      <td>0.0</td>\n",
       "      <td>0.0</td>\n",
       "      <td>0.0</td>\n",
       "      <td>0.0</td>\n",
       "      <td>0.0</td>\n",
       "    </tr>\n",
       "  </tbody>\n",
       "</table>\n",
       "<p>5 rows × 15186 columns</p>\n",
       "</div>"
      ],
      "text/plain": [
       "    aa  aaaaaaand  aaaaand  aaaand  aac  aahhh  aaron   ab  abandon  \\\n",
       "0  0.0        0.0      0.0     0.0  0.0    0.0    0.0  0.0      0.0   \n",
       "1  0.0        0.0      0.0     0.0  0.0    0.0    0.0  0.0      0.0   \n",
       "2  0.0        0.0      0.0     0.0  0.0    0.0    0.0  0.0      0.0   \n",
       "3  0.0        0.0      0.0     0.0  0.0    0.0    0.0  0.0      0.0   \n",
       "4  0.0        0.0      0.0     0.0  0.0    0.0    0.0  0.0      0.0   \n",
       "\n",
       "   abandoned  ...  zonisamide  zoo  zoom  zooming  zooms   zq  zucchini  zum  \\\n",
       "0        0.0  ...         0.0  0.0   0.0      0.0    0.0  0.0       0.0  0.0   \n",
       "1        0.0  ...         0.0  0.0   0.0      0.0    0.0  0.0       0.0  0.0   \n",
       "2        0.0  ...         0.0  0.0   0.0      0.0    0.0  0.0       0.0  0.0   \n",
       "3        0.0  ...         0.0  0.0   0.0      0.0    0.0  0.0       0.0  0.0   \n",
       "4        0.0  ...         0.0  0.0   0.0      0.0    0.0  0.0       0.0  0.0   \n",
       "\n",
       "   zumba   zz  \n",
       "0    0.0  0.0  \n",
       "1    0.0  0.0  \n",
       "2    0.0  0.0  \n",
       "3    0.0  0.0  \n",
       "4    0.0  0.0  \n",
       "\n",
       "[5 rows x 15186 columns]"
      ]
     },
     "execution_count": 9,
     "metadata": {},
     "output_type": "execute_result"
    }
   ],
   "source": [
    "pd.DataFrame(X_train.toarray(), \n",
    "                 columns=vect.get_feature_names()).head()"
   ]
  },
  {
   "cell_type": "markdown",
   "id": "6f4aaed7",
   "metadata": {
    "hidden": true
   },
   "source": [
    "также стоит добавить стоп-слова, и попробовать преобразовать оставшиеся в корни слов, или хотя бы добавить их как доп признаки (Стеммизация/Лемматизация)"
   ]
  },
  {
   "cell_type": "markdown",
   "id": "ceb0bd37",
   "metadata": {
    "heading_collapsed": true,
    "hidden": true
   },
   "source": [
    "## visualize WordCloud"
   ]
  },
  {
   "cell_type": "code",
   "execution_count": 10,
   "id": "725b8304",
   "metadata": {
    "ExecuteTime": {
     "end_time": "2023-05-23T12:50:26.307183Z",
     "start_time": "2023-05-23T12:50:25.340863Z"
    },
    "hidden": true
   },
   "outputs": [
    {
     "data": {
      "image/png": "[encoded data removed]",
      "text/plain": [
       "<Figure size 800x550 with 1 Axes>"
      ]
     },
     "metadata": {},
     "output_type": "display_data"
    }
   ],
   "source": [
    "# пример изображения облака слов\n",
    "\n",
    "corpus = ['Hi what are you accepting here do you accept me',\n",
    "'What are you thinking about getting today',\n",
    "'Give me your password to get accepted into this school',\n",
    "'The man went to the tree to get his sword back',\n",
    "'go away to a far away place in a foreign land']\n",
    "\n",
    "vectorizer = TfidfVectorizer(stop_words='english')\n",
    "vecs = vectorizer.fit_transform(corpus)\n",
    "feature_names = vectorizer.get_feature_names()\n",
    "dense = vecs.todense()\n",
    "lst1 = dense.tolist()\n",
    "df = pd.DataFrame(lst1, columns=feature_names)\n",
    "\n",
    "Cloud = WordCloud(background_color=\"white\", max_words=50).generate_from_frequencies(df.T.sum(axis=1))\n",
    "\n",
    "plt.imshow(Cloud, interpolation=\"bilinear\")\n",
    "plt.axis(\"off\")\n",
    "\n",
    "# store to file\n",
    "#plt.savefig(\"img/por_wine.png\", format=\"png\")\n",
    "\n",
    "plt.show()"
   ]
  },
  {
   "cell_type": "code",
   "execution_count": null,
   "id": "5e0b4f17",
   "metadata": {
    "hidden": true
   },
   "outputs": [],
   "source": [
    "# нужно много времени, но позволит вывести красиво самые влияющие 50 токенов \n",
    "# логичнее запускать когда будут разные модели, также для сравнения\n",
    "\n",
    "\n",
    "df_tokens = pd.DataFrame(X_train.todense().tolist(), \n",
    "                 columns=vect.get_feature_names())\n",
    "\n",
    "Cloud = WordCloud(background_color=\"white\", max_words=50).generate_from_frequencies(df_tokens.T.sum(axis=1))\n",
    "plt.imshow(Cloud, interpolation=\"bilinear\")\n",
    "plt.axis(\"off\")\n",
    "plt.show()"
   ]
  },
  {
   "cell_type": "markdown",
   "id": "9e98b668",
   "metadata": {
    "heading_collapsed": true
   },
   "source": [
    "# chat models test"
   ]
  },
  {
   "cell_type": "markdown",
   "id": "dc16c356",
   "metadata": {
    "heading_collapsed": true,
    "hidden": true
   },
   "source": [
    "## BLOOMZ"
   ]
  },
  {
   "cell_type": "code",
   "execution_count": 1,
   "id": "6a32a2ef",
   "metadata": {
    "ExecuteTime": {
     "end_time": "2023-05-23T13:07:57.687551Z",
     "start_time": "2023-05-23T13:07:35.084227Z"
    },
    "hidden": true
   },
   "outputs": [
    {
     "ename": "ModuleNotFoundError",
     "evalue": "No module named 'petals'",
     "output_type": "error",
     "traceback": [
      "\u001b[1;31m---------------------------------------------------------------------------\u001b[0m",
      "\u001b[1;31mModuleNotFoundError\u001b[0m                       Traceback (most recent call last)",
      "\u001b[1;32m~\\AppData\\Local\\Temp\\ipykernel_10560\\1145239703.py\u001b[0m in \u001b[0;36m<module>\u001b[1;34m\u001b[0m\n\u001b[0;32m      1\u001b[0m \u001b[1;32mimport\u001b[0m \u001b[0mtorch\u001b[0m\u001b[1;33m\u001b[0m\u001b[1;33m\u001b[0m\u001b[0m\n\u001b[0;32m      2\u001b[0m \u001b[1;32mfrom\u001b[0m \u001b[0mtransformers\u001b[0m \u001b[1;32mimport\u001b[0m \u001b[0mBloomTokenizerFast\u001b[0m\u001b[1;33m\u001b[0m\u001b[1;33m\u001b[0m\u001b[0m\n\u001b[1;32m----> 3\u001b[1;33m \u001b[1;32mfrom\u001b[0m \u001b[0mpetals\u001b[0m \u001b[1;32mimport\u001b[0m \u001b[0mDistributedBloomForCausalLM\u001b[0m\u001b[1;33m\u001b[0m\u001b[1;33m\u001b[0m\u001b[0m\n\u001b[0m",
      "\u001b[1;31mModuleNotFoundError\u001b[0m: No module named 'petals'"
     ]
    }
   ],
   "source": [
    "import torch\n",
    "from transformers import BloomTokenizerFast \n",
    "from petals import DistributedBloomForCausalLM"
   ]
  },
  {
   "cell_type": "code",
   "execution_count": 14,
   "id": "f039f790",
   "metadata": {
    "ExecuteTime": {
     "end_time": "2023-05-23T13:06:32.889843Z",
     "start_time": "2023-05-23T13:06:01.025307Z"
    },
    "hidden": true
   },
   "outputs": [
    {
     "name": "stdout",
     "output_type": "stream",
     "text": [
      "Collecting petals\n",
      "  Downloading petals-1.1.5-py3-none-any.whl (87 kB)\n",
      "     -------------------------------------- 87.1/87.1 kB 492.8 kB/s eta 0:00:00\n",
      "Collecting tensor-parallel==1.0.23\n",
      "  Using cached tensor_parallel-1.0.23-py3-none-any.whl (25 kB)\n",
      "Requirement already satisfied: transformers<5.0.0,>=4.25.1 in d:\\programs\\anaconda\\lib\\site-packages (from petals) (4.29.2)\n",
      "Collecting humanfriendly\n",
      "  Using cached humanfriendly-10.0-py2.py3-none-any.whl (86 kB)\n",
      "Collecting async-timeout>=4.0.2\n",
      "  Using cached async_timeout-4.0.2-py3-none-any.whl (5.8 kB)\n",
      "Collecting accelerate<1.0.0,>=0.16.0\n",
      "  Downloading accelerate-0.19.0-py3-none-any.whl (219 kB)\n",
      "     ------------------------------------ 219.1/219.1 kB 478.0 kB/s eta 0:00:00\n",
      "Requirement already satisfied: huggingface-hub<1.0.0,>=0.11.1 in d:\\programs\\anaconda\\lib\\site-packages (from petals) (0.14.1)\n",
      "Requirement already satisfied: torch>=1.12 in d:\\programs\\anaconda\\lib\\site-packages (from petals) (2.0.0)\n",
      "Requirement already satisfied: packaging>=20.9 in d:\\programs\\anaconda\\lib\\site-packages (from petals) (21.3)\n",
      "Collecting bitsandbytes==0.38.0.post2\n",
      "  Using cached bitsandbytes-0.38.0.post2-py3-none-any.whl (98.2 MB)\n",
      "Collecting cpufeature>=0.2.0\n",
      "  Using cached cpufeature-0.2.1-cp39-cp39-win_amd64.whl (15 kB)\n",
      "Collecting hivemind==1.1.8\n",
      "  Downloading hivemind-1.1.8-py3-none-any.whl (9.2 MB)\n",
      "     ---------------------------------------- 9.2/9.2 MB 1.6 MB/s eta 0:00:00\n",
      "Collecting speedtest-cli==2.1.3\n",
      "  Using cached speedtest_cli-2.1.3-py2.py3-none-any.whl (23 kB)\n",
      "Requirement already satisfied: numpy>=1.17 in d:\\programs\\anaconda\\lib\\site-packages (from hivemind==1.1.8->petals) (1.21.6)\n",
      "Requirement already satisfied: sortedcontainers in d:\\programs\\anaconda\\lib\\site-packages (from hivemind==1.1.8->petals) (2.4.0)\n",
      "Collecting protobuf<4.0.0,>=3.12.2\n",
      "  Using cached protobuf-3.20.3-cp39-cp39-win_amd64.whl (904 kB)\n",
      "Collecting grpcio-tools>=1.33.2\n",
      "  Downloading grpcio_tools-1.55.0-cp39-cp39-win_amd64.whl (2.0 MB)\n",
      "     ---------------------------------------- 2.0/2.0 MB 1.4 MB/s eta 0:00:00\n",
      "Collecting configargparse>=1.2.3\n",
      "  Using cached ConfigArgParse-1.5.3-py3-none-any.whl (20 kB)\n",
      "Collecting pydantic>=1.8.1\n",
      "  Using cached pydantic-1.10.7-cp39-cp39-win_amd64.whl (2.2 MB)\n",
      "Requirement already satisfied: cryptography>=3.4.6 in d:\\programs\\anaconda\\lib\\site-packages (from hivemind==1.1.8->petals) (37.0.1)\n",
      "Requirement already satisfied: PyYAML in d:\\programs\\anaconda\\lib\\site-packages (from hivemind==1.1.8->petals) (6.0)\n",
      "Collecting pymultihash>=0.8.2\n",
      "  Downloading pymultihash-0.8.2-py3-none-any.whl (13 kB)\n",
      "Requirement already satisfied: msgpack>=0.5.6 in d:\\programs\\anaconda\\lib\\site-packages (from hivemind==1.1.8->petals) (1.0.3)\n",
      "Collecting prefetch-generator>=1.0.1\n",
      "  Using cached prefetch_generator-1.0.3.tar.gz (4.6 kB)\n",
      "  Preparing metadata (setup.py): started\n",
      "  Preparing metadata (setup.py): finished with status 'done'\n",
      "Collecting uvloop>=0.14.0\n",
      "  Using cached uvloop-0.17.0.tar.gz (2.3 MB)\n",
      "  Preparing metadata (setup.py): started\n",
      "  Preparing metadata (setup.py): finished with status 'error'\n",
      "Note: you may need to restart the kernel to use updated packages.\n"
     ]
    },
    {
     "name": "stderr",
     "output_type": "stream",
     "text": [
      "  error: subprocess-exited-with-error\n",
      "  \n",
      "  python setup.py egg_info did not run successfully.\n",
      "  exit code: 1\n",
      "  \n",
      "  [6 lines of output]\n",
      "  Traceback (most recent call last):\n",
      "    File \"<string>\", line 2, in <module>\n",
      "    File \"<pip-setuptools-caller>\", line 34, in <module>\n",
      "    File \"C:\\Users\\anya9\\AppData\\Local\\Temp\\pip-install-vu4xe3pe\\uvloop_6febc9f39c7e44d093fc007aca8b2681\\setup.py\", line 8, in <module>\n",
      "      raise RuntimeError('uvloop does not support Windows at the moment')\n",
      "  RuntimeError: uvloop does not support Windows at the moment\n",
      "  [end of output]\n",
      "  \n",
      "  note: This error originates from a subprocess, and is likely not a problem with pip.\n",
      "error: metadata-generation-failed\n",
      "\n",
      "Encountered error while generating package metadata.\n",
      "\n",
      "See above for output.\n",
      "\n",
      "note: This is an issue with the package mentioned above, not pip.\n",
      "hint: See above for details.\n"
     ]
    }
   ],
   "source": [
    "pip install petals"
   ]
  },
  {
   "cell_type": "code",
   "execution_count": null,
   "id": "c27e738b",
   "metadata": {
    "hidden": true
   },
   "outputs": [],
   "source": [
    "MODEL_NAME = \"bigscience/bloom-petals\"\n",
    "tokenizer = BloomTokenizerFast.from_pretrained(MODEL_NAME)\n",
    "model = DistributedBloomForCausalLM.from_pretrained(MODEL_NAME)\n",
    "model = model.cuda()"
   ]
  },
  {
   "cell_type": "code",
   "execution_count": null,
   "id": "f814299d",
   "metadata": {
    "hidden": true
   },
   "outputs": [],
   "source": []
  },
  {
   "cell_type": "code",
   "execution_count": 2,
   "id": "602f15d0",
   "metadata": {
    "ExecuteTime": {
     "end_time": "2023-05-23T13:16:37.151156Z",
     "start_time": "2023-05-23T13:16:36.883922Z"
    },
    "hidden": true
   },
   "outputs": [
    {
     "name": "stderr",
     "output_type": "stream",
     "text": [
      "\"nvidia-smi\" ­Ґ пў«пҐвбп ў­гваҐ­­Ґ© Ё«Ё ў­Ґи­Ґ©\n",
      "Є®¬ ­¤®©, ЁбЇ®«­пҐ¬®© Їа®Ја ¬¬®© Ё«Ё Ї ЄҐв­л¬ д ©«®¬.\n"
     ]
    }
   ],
   "source": [
    "!nvidia-smi"
   ]
  },
  {
   "cell_type": "markdown",
   "id": "bd0d53ae",
   "metadata": {
    "heading_collapsed": true,
    "hidden": true
   },
   "source": [
    "## ChatGPT 3.5 turbo (OpenAI)"
   ]
  },
  {
   "cell_type": "code",
   "execution_count": null,
   "id": "363df746",
   "metadata": {
    "hidden": true
   },
   "outputs": [],
   "source": [
    "# Однако у данной модели ограничение для бесплатного пользования 3 запроса в минуту!\n",
    "# Так что в перспективе лучше перейти на линукс/коллаб и поставить BLOOMZ"
   ]
  },
  {
   "cell_type": "code",
   "execution_count": 9,
   "id": "324fbf9f",
   "metadata": {
    "ExecuteTime": {
     "end_time": "2023-05-24T11:55:22.262837Z",
     "start_time": "2023-05-24T11:55:22.225938Z"
    },
    "hidden": true
   },
   "outputs": [],
   "source": [
    "from langchain.chains import ConversationChain\n",
    "from langchain.chains.conversation.memory import ConversationEntityMemory\n",
    "from langchain.chains.conversation.prompt import ENTITY_MEMORY_CONVERSATION_TEMPLATE\n",
    "from langchain.chat_models import ChatOpenAI\n",
    "\n",
    "import sys\n",
    "sys.path.append('../../../jupyter/')\n",
    "\n",
    "# my credentials\n",
    "from CREDS import *"
   ]
  },
  {
   "cell_type": "code",
   "execution_count": null,
   "id": "a71e3b3b",
   "metadata": {
    "hidden": true
   },
   "outputs": [],
   "source": []
  },
  {
   "cell_type": "code",
   "execution_count": 14,
   "id": "c0f24863",
   "metadata": {
    "ExecuteTime": {
     "end_time": "2023-05-24T11:58:25.692955Z",
     "start_time": "2023-05-24T11:58:25.644335Z"
    },
    "hidden": true
   },
   "outputs": [],
   "source": [
    "API_O = api()\n",
    "\n",
    "#['gpt-3.5-turbo','text-davinci-003','text-davinci-002','code-davinci-002']\n",
    "MODEL = 'gpt-3.5-turbo'\n",
    "\n",
    "# Summary of prompts to consider (min_value=3,max_value=1000)\n",
    "K = 1000"
   ]
  },
  {
   "cell_type": "code",
   "execution_count": 15,
   "id": "f0a563e9",
   "metadata": {
    "ExecuteTime": {
     "end_time": "2023-05-24T11:58:26.768360Z",
     "start_time": "2023-05-24T11:58:26.734452Z"
    },
    "hidden": true
   },
   "outputs": [],
   "source": [
    "llm = ChatOpenAI(temperature=0,\n",
    "            openai_api_key=API_O, \n",
    "            model_name=MODEL, \n",
    "            verbose=False) "
   ]
  },
  {
   "cell_type": "code",
   "execution_count": 16,
   "id": "e299f2fe",
   "metadata": {
    "ExecuteTime": {
     "end_time": "2023-05-24T11:58:27.814846Z",
     "start_time": "2023-05-24T11:58:27.787925Z"
    },
    "hidden": true
   },
   "outputs": [],
   "source": [
    "# Create the ConversationChain object with the specified configuration\n",
    "Conversation = ConversationChain(\n",
    "        llm=llm, \n",
    "        prompt=ENTITY_MEMORY_CONVERSATION_TEMPLATE,\n",
    "        memory=ConversationEntityMemory(llm=llm, k=K)\n",
    "    )  "
   ]
  },
  {
   "cell_type": "code",
   "execution_count": null,
   "id": "5bce4a19",
   "metadata": {
    "hidden": true
   },
   "outputs": [],
   "source": []
  },
  {
   "cell_type": "code",
   "execution_count": 166,
   "id": "b8baa901",
   "metadata": {
    "ExecuteTime": {
     "end_time": "2023-05-25T08:07:23.229354Z",
     "start_time": "2023-05-25T08:07:20.503127Z"
    },
    "hidden": true
   },
   "outputs": [
    {
     "data": {
      "text/plain": [
       "\"There are many things you can do to feel better, depending on what specifically is bothering you. Can you provide me with more information about what's going on so I can provide more specific advice?\""
      ]
     },
     "execution_count": 166,
     "metadata": {},
     "output_type": "execute_result"
    }
   ],
   "source": [
    "output = Conversation.run(input='what can I do to feel better') \n",
    "output"
   ]
  },
  {
   "cell_type": "code",
   "execution_count": null,
   "id": "0e194b19",
   "metadata": {
    "hidden": true
   },
   "outputs": [],
   "source": []
  },
  {
   "cell_type": "code",
   "execution_count": 168,
   "id": "891eeac9",
   "metadata": {
    "ExecuteTime": {
     "end_time": "2023-05-25T08:07:53.247747Z",
     "start_time": "2023-05-25T08:07:53.215836Z"
    },
    "hidden": true
   },
   "outputs": [],
   "source": [
    "all_convos={}\n",
    "\n",
    "all_convos[112] = ConversationChain(\n",
    "                                    llm=llm, \n",
    "                                    prompt=ENTITY_MEMORY_CONVERSATION_TEMPLATE,\n",
    "                                    memory=ConversationEntityMemory(llm=llm, k=K)\n",
    "                                    )  \n",
    "\n",
    "all_convos[345] = ConversationChain(\n",
    "                                    llm=llm, \n",
    "                                    prompt=ENTITY_MEMORY_CONVERSATION_TEMPLATE,\n",
    "                                    memory=ConversationEntityMemory(llm=llm, k=K)\n",
    "                                    )  "
   ]
  },
  {
   "cell_type": "code",
   "execution_count": 175,
   "id": "e502583d",
   "metadata": {
    "ExecuteTime": {
     "end_time": "2023-05-25T08:11:09.879789Z",
     "start_time": "2023-05-25T08:11:09.859846Z"
    },
    "hidden": true
   },
   "outputs": [],
   "source": [
    "import time"
   ]
  },
  {
   "cell_type": "code",
   "execution_count": 185,
   "id": "d1c01886",
   "metadata": {
    "ExecuteTime": {
     "end_time": "2023-05-25T08:18:28.533391Z",
     "start_time": "2023-05-25T08:15:16.933136Z"
    },
    "hidden": true
   },
   "outputs": [
    {
     "name": "stdout",
     "output_type": "stream",
     "text": [
      "Yes, your name is Katya. Is there anything else you would like me to help you with?\n",
      "Yes, your name is Sveta. Is there anything else I can help you with?\n"
     ]
    }
   ],
   "source": [
    "all_convos[112].run(input='my name is Katya')\n",
    "time.sleep(60)\n",
    "all_convos[345].run(input='my name is Sveta')\n",
    "time.sleep(60)\n",
    "\n",
    "print(all_convos[112].run(input='do you know my name?')) \n",
    "time.sleep(60)\n",
    "print(all_convos[345].run(input='do you know my name?'))"
   ]
  },
  {
   "cell_type": "code",
   "execution_count": null,
   "id": "7d3d9ba1",
   "metadata": {
    "hidden": true
   },
   "outputs": [],
   "source": [
    "# видим что таким образом сохраняется история общения с каждым юзером по отдельности"
   ]
  },
  {
   "cell_type": "markdown",
   "id": "cd4ffb19",
   "metadata": {
    "heading_collapsed": true,
    "hidden": true
   },
   "source": [
    "## bot real-time analytics"
   ]
  },
  {
   "cell_type": "code",
   "execution_count": 199,
   "id": "ba367bee",
   "metadata": {
    "ExecuteTime": {
     "end_time": "2023-05-25T08:36:34.716830Z",
     "start_time": "2023-05-25T08:36:34.606126Z"
    },
    "hidden": true
   },
   "outputs": [
    {
     "data": {
      "text/html": [
       "<div>\n",
       "<style scoped>\n",
       "    .dataframe tbody tr th:only-of-type {\n",
       "        vertical-align: middle;\n",
       "    }\n",
       "\n",
       "    .dataframe tbody tr th {\n",
       "        vertical-align: top;\n",
       "    }\n",
       "\n",
       "    .dataframe thead th {\n",
       "        text-align: right;\n",
       "    }\n",
       "</style>\n",
       "<table border=\"1\" class=\"dataframe\">\n",
       "  <thead>\n",
       "    <tr style=\"text-align: right;\">\n",
       "      <th></th>\n",
       "      <th>2023-05-24</th>\n",
       "      <th>2023-05-25</th>\n",
       "      <th>All</th>\n",
       "    </tr>\n",
       "    <tr>\n",
       "      <th>users</th>\n",
       "      <th></th>\n",
       "      <th></th>\n",
       "      <th></th>\n",
       "    </tr>\n",
       "  </thead>\n",
       "  <tbody>\n",
       "    <tr>\n",
       "      <th>All</th>\n",
       "      <td>7</td>\n",
       "      <td>18</td>\n",
       "      <td>25</td>\n",
       "    </tr>\n",
       "    <tr>\n",
       "      <th>403129119</th>\n",
       "      <td></td>\n",
       "      <td>8.0</td>\n",
       "      <td>8</td>\n",
       "    </tr>\n",
       "    <tr>\n",
       "      <th>350622783</th>\n",
       "      <td></td>\n",
       "      <td>5.0</td>\n",
       "      <td>5</td>\n",
       "    </tr>\n",
       "    <tr>\n",
       "      <th>399243118</th>\n",
       "      <td>5.0</td>\n",
       "      <td></td>\n",
       "      <td>5</td>\n",
       "    </tr>\n",
       "    <tr>\n",
       "      <th>245621453</th>\n",
       "      <td></td>\n",
       "      <td>4.0</td>\n",
       "      <td>4</td>\n",
       "    </tr>\n",
       "    <tr>\n",
       "      <th>142891339</th>\n",
       "      <td>2.0</td>\n",
       "      <td></td>\n",
       "      <td>2</td>\n",
       "    </tr>\n",
       "    <tr>\n",
       "      <th>509652800</th>\n",
       "      <td></td>\n",
       "      <td>1.0</td>\n",
       "      <td>1</td>\n",
       "    </tr>\n",
       "    <tr>\n",
       "      <th>344809905</th>\n",
       "      <td></td>\n",
       "      <td>0.0</td>\n",
       "      <td>0</td>\n",
       "    </tr>\n",
       "  </tbody>\n",
       "</table>\n",
       "</div>"
      ],
      "text/plain": [
       "          2023-05-24 2023-05-25  All\n",
       "users                               \n",
       "All                7         18   25\n",
       "403129119                   8.0    8\n",
       "350622783                   5.0    5\n",
       "399243118        5.0               5\n",
       "245621453                   4.0    4\n",
       "142891339        2.0               2\n",
       "509652800                   1.0    1\n",
       "344809905                   0.0    0"
      ]
     },
     "execution_count": 199,
     "metadata": {},
     "output_type": "execute_result"
    }
   ],
   "source": [
    "# users per day\n",
    "\n",
    "import json\n",
    "with open('bot_data/arr_discs.json') as user_file:\n",
    "    dict_discs = json.load(user_file)\n",
    "\n",
    "import pandas as pd\n",
    "all_comm = pd.DataFrame([sum([x.split('_'), [len(dict_discs[x])]],[]) for x in list(dict_discs.keys())], columns=['users','time','num_mess'])\n",
    "all_comm['time'] = all_comm.apply(lambda x: datetime.datetime.fromtimestamp(int(x['time'])), axis=1)\n",
    "all_comm = all_comm.query('users!=\"316527246\"')\n",
    "df_pivot = all_comm.pivot_table('num_mess', index='users', columns='time', aggfunc='sum', fill_value='', margins=True)\n",
    "df_pivot = df_pivot.reindex(df_pivot['All'].sort_values(ascending=False).index)\n",
    "df_pivot.columns = [str(x).split(\" \")[0] for x in df_pivot.columns]\n",
    "df_pivot"
   ]
  },
  {
   "cell_type": "code",
   "execution_count": 200,
   "id": "7aef47d8",
   "metadata": {
    "ExecuteTime": {
     "end_time": "2023-05-25T08:36:47.849250Z",
     "start_time": "2023-05-25T08:36:47.824318Z"
    },
    "hidden": true
   },
   "outputs": [
    {
     "data": {
      "text/plain": [
       "'2023-05-25 11:35:23'"
      ]
     },
     "execution_count": 200,
     "metadata": {},
     "output_type": "execute_result"
    }
   ],
   "source": [
    "# какое самое недавнее сообщение по МСК (чтоб не прерывать диалоги, если надо перезагрузить)\n",
    "\n",
    "import json\n",
    "with open('bot_data/arr_discs.json') as user_file:\n",
    "    dict_discs = json.load(user_file)\n",
    "\n",
    "import datetime\n",
    "max_datetime = 0\n",
    "for key in dict_discs.keys():\n",
    "    try: \n",
    "        curr_max = np.max([x[2] for x in dict_discs[key]])\n",
    "    except:\n",
    "        curr_max = 0\n",
    "    max_datetime = curr_max if max_datetime < curr_max else max_datetime\n",
    "str(datetime.datetime.fromtimestamp(max_datetime) + datetime.timedelta(hours=3))"
   ]
  },
  {
   "cell_type": "code",
   "execution_count": null,
   "id": "dad8a53e",
   "metadata": {
    "hidden": true
   },
   "outputs": [],
   "source": []
  }
 ],
 "metadata": {
  "kernelspec": {
   "display_name": "Python 3 (ipykernel)",
   "language": "python",
   "name": "python3"
  },
  "language_info": {
   "codemirror_mode": {
    "name": "ipython",
    "version": 3
   },
   "file_extension": ".py",
   "mimetype": "text/x-python",
   "name": "python",
   "nbconvert_exporter": "python",
   "pygments_lexer": "ipython3",
   "version": "3.9.13"
  },
  "toc": {
   "base_numbering": 1,
   "nav_menu": {},
   "number_sections": true,
   "sideBar": true,
   "skip_h1_title": false,
   "title_cell": "Table of Contents",
   "title_sidebar": "Contents",
   "toc_cell": false,
   "toc_position": {},
   "toc_section_display": true,
   "toc_window_display": false
  },
  "varInspector": {
   "cols": {
    "lenName": 16,
    "lenType": 16,
    "lenVar": 40
   },
   "kernels_config": {
    "python": {
     "delete_cmd_postfix": "",
     "delete_cmd_prefix": "del ",
     "library": "var_list.py",
     "varRefreshCmd": "print(var_dic_list())"
    },
    "r": {
     "delete_cmd_postfix": ") ",
     "delete_cmd_prefix": "rm(",
     "library": "var_list.r",
     "varRefreshCmd": "cat(var_dic_list()) "
    }
   },
   "types_to_exclude": [
    "module",
    "function",
    "builtin_function_or_method",
    "instance",
    "_Feature"
   ],
   "window_display": false
  }
 },
 "nbformat": 4,
 "nbformat_minor": 5
}
