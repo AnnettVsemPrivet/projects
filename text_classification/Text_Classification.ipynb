{
 "cells": [
  {
   "cell_type": "markdown",
   "id": "00828bcb",
   "metadata": {
    "heading_collapsed": true
   },
   "source": [
    "# Загрузка данных"
   ]
  },
  {
   "cell_type": "markdown",
   "id": "d2025d02",
   "metadata": {
    "hidden": true
   },
   "source": [
    "Задача: спрогнозировать тональность отзыва по его тексту (1 - позитивная, 0 - негативная)"
   ]
  },
  {
   "cell_type": "code",
   "execution_count": 27,
   "id": "92cf6f5a",
   "metadata": {
    "ExecuteTime": {
     "end_time": "2023-03-30T15:56:02.298417Z",
     "start_time": "2023-03-30T15:56:02.261516Z"
    },
    "hidden": true
   },
   "outputs": [],
   "source": [
    "import warnings\n",
    "warnings.filterwarnings('ignore')\n",
    "\n",
    "import pandas as pd\n",
    "import numpy as np\n",
    "\n",
    "from sklearn import metrics\n",
    "from sklearn.utils import shuffle\n",
    "from sklearn.base import TransformerMixin\n",
    "import nltk\n",
    "from nltk.corpus import stopwords\n",
    "from sklearn.model_selection import GridSearchCV, cross_val_score\n",
    "from sklearn.pipeline import Pipeline\n",
    "from sklearn.feature_extraction.text import TfidfTransformer, CountVectorizer, TfidfVectorizer\n",
    "from sklearn.linear_model import LogisticRegression, SGDClassifier\n",
    "from sklearn.svm import LinearSVC\n",
    "from sklearn.naive_bayes import MultinomialNB, BernoulliNB, GaussianNB\n",
    "from sklearn.tree import DecisionTreeClassifier\n",
    "from sklearn.ensemble import RandomForestClassifier, BaggingClassifier, GradientBoostingClassifier\n",
    "import lightgbm as lgb\n",
    "import xgboost as xgb\n",
    "import matplotlib.pyplot as plt\n",
    "import seaborn as sns\n",
    "import copy\n",
    "import time\n",
    "\n",
    "%matplotlib inline\n",
    "sns.set_style('whitegrid')\n",
    "sns.set_palette('Set2')"
   ]
  },
  {
   "cell_type": "code",
   "execution_count": 2,
   "id": "aeb77d8b",
   "metadata": {
    "ExecuteTime": {
     "end_time": "2023-03-30T15:50:28.584415Z",
     "start_time": "2023-03-30T15:50:28.534541Z"
    },
    "hidden": true
   },
   "outputs": [
    {
     "data": {
      "text/html": [
       "<div>\n",
       "<style scoped>\n",
       "    .dataframe tbody tr th:only-of-type {\n",
       "        vertical-align: middle;\n",
       "    }\n",
       "\n",
       "    .dataframe tbody tr th {\n",
       "        vertical-align: top;\n",
       "    }\n",
       "\n",
       "    .dataframe thead th {\n",
       "        text-align: right;\n",
       "    }\n",
       "</style>\n",
       "<table border=\"1\" class=\"dataframe\">\n",
       "  <thead>\n",
       "    <tr style=\"text-align: right;\">\n",
       "      <th></th>\n",
       "      <th>text</th>\n",
       "      <th>label</th>\n",
       "    </tr>\n",
       "  </thead>\n",
       "  <tbody>\n",
       "    <tr>\n",
       "      <th>0</th>\n",
       "      <td>i downloaded a trial version of computer assoc...</td>\n",
       "      <td>1</td>\n",
       "    </tr>\n",
       "    <tr>\n",
       "      <th>1</th>\n",
       "      <td>the wrt54g plus the hga7t is a perfect solutio...</td>\n",
       "      <td>1</td>\n",
       "    </tr>\n",
       "    <tr>\n",
       "      <th>2</th>\n",
       "      <td>i dont especially like how music files are uns...</td>\n",
       "      <td>0</td>\n",
       "    </tr>\n",
       "    <tr>\n",
       "      <th>3</th>\n",
       "      <td>i was using the cheapie pail ... and it worked...</td>\n",
       "      <td>1</td>\n",
       "    </tr>\n",
       "    <tr>\n",
       "      <th>4</th>\n",
       "      <td>you can manage your profile , change the contr...</td>\n",
       "      <td>1</td>\n",
       "    </tr>\n",
       "  </tbody>\n",
       "</table>\n",
       "</div>"
      ],
      "text/plain": [
       "                                                text  label\n",
       "0  i downloaded a trial version of computer assoc...      1\n",
       "1  the wrt54g plus the hga7t is a perfect solutio...      1\n",
       "2  i dont especially like how music files are uns...      0\n",
       "3  i was using the cheapie pail ... and it worked...      1\n",
       "4  you can manage your profile , change the contr...      1"
      ]
     },
     "execution_count": 2,
     "metadata": {},
     "output_type": "execute_result"
    }
   ],
   "source": [
    "train = pd.read_csv('data/products_sentiment_train.tsv', names=['text', 'label'], header=0, sep='\\t')\n",
    "train.head()"
   ]
  },
  {
   "cell_type": "code",
   "execution_count": 3,
   "id": "83aa068a",
   "metadata": {
    "ExecuteTime": {
     "end_time": "2023-03-30T15:50:31.416390Z",
     "start_time": "2023-03-30T15:50:31.393463Z"
    },
    "hidden": true
   },
   "outputs": [
    {
     "data": {
      "text/plain": [
       "(1999, 2)"
      ]
     },
     "execution_count": 3,
     "metadata": {},
     "output_type": "execute_result"
    }
   ],
   "source": [
    "train.shape"
   ]
  },
  {
   "cell_type": "code",
   "execution_count": 4,
   "id": "0f439531",
   "metadata": {
    "ExecuteTime": {
     "end_time": "2023-03-30T15:50:32.660685Z",
     "start_time": "2023-03-30T15:50:32.629603Z"
    },
    "hidden": true
   },
   "outputs": [
    {
     "data": {
      "text/html": [
       "<div>\n",
       "<style scoped>\n",
       "    .dataframe tbody tr th:only-of-type {\n",
       "        vertical-align: middle;\n",
       "    }\n",
       "\n",
       "    .dataframe tbody tr th {\n",
       "        vertical-align: top;\n",
       "    }\n",
       "\n",
       "    .dataframe thead th {\n",
       "        text-align: right;\n",
       "    }\n",
       "</style>\n",
       "<table border=\"1\" class=\"dataframe\">\n",
       "  <thead>\n",
       "    <tr style=\"text-align: right;\">\n",
       "      <th></th>\n",
       "      <th>text</th>\n",
       "    </tr>\n",
       "  </thead>\n",
       "  <tbody>\n",
       "    <tr>\n",
       "      <th>0</th>\n",
       "      <td>so , why the small digital elph , rather than ...</td>\n",
       "    </tr>\n",
       "    <tr>\n",
       "      <th>1</th>\n",
       "      <td>3/4 way through the first disk we played on it...</td>\n",
       "    </tr>\n",
       "    <tr>\n",
       "      <th>2</th>\n",
       "      <td>better for the zen micro is outlook compatibil...</td>\n",
       "    </tr>\n",
       "    <tr>\n",
       "      <th>3</th>\n",
       "      <td>6 . play gameboy color games on it with goboy .</td>\n",
       "    </tr>\n",
       "    <tr>\n",
       "      <th>4</th>\n",
       "      <td>likewise , i 've heard norton 2004 professiona...</td>\n",
       "    </tr>\n",
       "  </tbody>\n",
       "</table>\n",
       "</div>"
      ],
      "text/plain": [
       "                                                text\n",
       "0  so , why the small digital elph , rather than ...\n",
       "1  3/4 way through the first disk we played on it...\n",
       "2  better for the zen micro is outlook compatibil...\n",
       "3    6 . play gameboy color games on it with goboy .\n",
       "4  likewise , i 've heard norton 2004 professiona..."
      ]
     },
     "execution_count": 4,
     "metadata": {},
     "output_type": "execute_result"
    }
   ],
   "source": [
    "test = pd.read_csv('data/products_sentiment_test.tsv', header=0, sep='\\t').drop('Id', axis=1)\n",
    "test.head()"
   ]
  },
  {
   "cell_type": "code",
   "execution_count": 5,
   "id": "648b1d08",
   "metadata": {
    "ExecuteTime": {
     "end_time": "2023-03-30T15:50:34.624909Z",
     "start_time": "2023-03-30T15:50:34.593924Z"
    },
    "hidden": true
   },
   "outputs": [
    {
     "data": {
      "text/plain": [
       "(500, 1)"
      ]
     },
     "execution_count": 5,
     "metadata": {},
     "output_type": "execute_result"
    }
   ],
   "source": [
    "test.shape"
   ]
  },
  {
   "cell_type": "markdown",
   "id": "30d31be9",
   "metadata": {
    "heading_collapsed": true
   },
   "source": [
    "# Описательный анализ данных"
   ]
  },
  {
   "cell_type": "code",
   "execution_count": 6,
   "id": "a54bbc76",
   "metadata": {
    "ExecuteTime": {
     "end_time": "2023-03-30T15:50:44.357720Z",
     "start_time": "2023-03-30T15:50:44.326925Z"
    },
    "hidden": true
   },
   "outputs": [
    {
     "data": {
      "text/html": [
       "<div>\n",
       "<style scoped>\n",
       "    .dataframe tbody tr th:only-of-type {\n",
       "        vertical-align: middle;\n",
       "    }\n",
       "\n",
       "    .dataframe tbody tr th {\n",
       "        vertical-align: top;\n",
       "    }\n",
       "\n",
       "    .dataframe thead th {\n",
       "        text-align: right;\n",
       "    }\n",
       "</style>\n",
       "<table border=\"1\" class=\"dataframe\">\n",
       "  <thead>\n",
       "    <tr style=\"text-align: right;\">\n",
       "      <th></th>\n",
       "      <th>label</th>\n",
       "    </tr>\n",
       "  </thead>\n",
       "  <tbody>\n",
       "    <tr>\n",
       "      <th>count</th>\n",
       "      <td>1999.000000</td>\n",
       "    </tr>\n",
       "    <tr>\n",
       "      <th>mean</th>\n",
       "      <td>0.636818</td>\n",
       "    </tr>\n",
       "    <tr>\n",
       "      <th>std</th>\n",
       "      <td>0.481037</td>\n",
       "    </tr>\n",
       "    <tr>\n",
       "      <th>min</th>\n",
       "      <td>0.000000</td>\n",
       "    </tr>\n",
       "    <tr>\n",
       "      <th>25%</th>\n",
       "      <td>0.000000</td>\n",
       "    </tr>\n",
       "    <tr>\n",
       "      <th>50%</th>\n",
       "      <td>1.000000</td>\n",
       "    </tr>\n",
       "    <tr>\n",
       "      <th>75%</th>\n",
       "      <td>1.000000</td>\n",
       "    </tr>\n",
       "    <tr>\n",
       "      <th>max</th>\n",
       "      <td>1.000000</td>\n",
       "    </tr>\n",
       "  </tbody>\n",
       "</table>\n",
       "</div>"
      ],
      "text/plain": [
       "             label\n",
       "count  1999.000000\n",
       "mean      0.636818\n",
       "std       0.481037\n",
       "min       0.000000\n",
       "25%       0.000000\n",
       "50%       1.000000\n",
       "75%       1.000000\n",
       "max       1.000000"
      ]
     },
     "execution_count": 6,
     "metadata": {},
     "output_type": "execute_result"
    }
   ],
   "source": [
    "train.describe()"
   ]
  },
  {
   "cell_type": "code",
   "execution_count": 12,
   "id": "c239fb40",
   "metadata": {
    "ExecuteTime": {
     "end_time": "2023-03-30T15:51:53.887007Z",
     "start_time": "2023-03-30T15:51:53.692421Z"
    },
    "hidden": true
   },
   "outputs": [
    {
     "data": {
      "image/png": "[encoded data removed]",
      "text/plain": [
       "<Figure size 500x400 with 1 Axes>"
      ]
     },
     "metadata": {},
     "output_type": "display_data"
    }
   ],
   "source": [
    "fig = plt.figure(figsize=(5, 4))\n",
    "train['label'].value_counts(normalize=True).plot(kind='bar')\n",
    "plt.title(\"Распределение целевой переменной\")\n",
    "plt.xlabel(\"Label\")\n",
    "plt.ylabel(\"Percent\")\n",
    "plt.show()"
   ]
  },
  {
   "cell_type": "code",
   "execution_count": 13,
   "id": "ced20b9c",
   "metadata": {
    "ExecuteTime": {
     "end_time": "2023-03-30T15:52:07.885672Z",
     "start_time": "2023-03-30T15:52:07.660227Z"
    },
    "hidden": true
   },
   "outputs": [
    {
     "data": {
      "image/png": "[encoded data removed]",
      "text/plain": [
       "<Figure size 500x400 with 1 Axes>"
      ]
     },
     "metadata": {},
     "output_type": "display_data"
    }
   ],
   "source": [
    "df = train.copy()\n",
    "df['length'] = pd.cut(train['text'].apply(lambda x: len(x)), bins=[0, 50, 100, 200, float('inf')], \n",
    "       labels=['0-50', '50-100', '100-200', '200+'])\n",
    "\n",
    "fig = plt.figure(figsize=(5, 4))\n",
    "sns.countplot(x='length', hue='label', data=df)\n",
    "plt.title(\"Распределение длин текстов отзывов\")\n",
    "plt.xlabel(\"Длина текста\")\n",
    "plt.ylabel(\"Количество текстов\")\n",
    "plt.show()"
   ]
  },
  {
   "cell_type": "markdown",
   "id": "e9872094",
   "metadata": {
    "ExecuteTime": {
     "end_time": "2023-03-30T03:08:19.814676Z",
     "start_time": "2023-03-30T03:08:19.807696Z"
    },
    "heading_collapsed": true
   },
   "source": [
    "# Моделирование"
   ]
  },
  {
   "cell_type": "markdown",
   "id": "d9fa3d9c",
   "metadata": {
    "hidden": true
   },
   "source": [
    "Так как целевая переменная не сбалансирована, добавим 500 негативных отзывов в обучающую выборку"
   ]
  },
  {
   "cell_type": "code",
   "execution_count": 16,
   "id": "59b6e068",
   "metadata": {
    "ExecuteTime": {
     "end_time": "2023-03-30T15:52:43.514789Z",
     "start_time": "2023-03-30T15:52:43.493880Z"
    },
    "hidden": true
   },
   "outputs": [],
   "source": [
    "train = shuffle(train.append(train.iloc[list(train[train['label'] == 0].index[:500])]), random_state=10)"
   ]
  },
  {
   "cell_type": "code",
   "execution_count": 17,
   "id": "f358c3fe",
   "metadata": {
    "ExecuteTime": {
     "end_time": "2023-03-30T15:52:45.106326Z",
     "start_time": "2023-03-30T15:52:45.088346Z"
    },
    "hidden": true
   },
   "outputs": [
    {
     "data": {
      "text/plain": [
       "1    1273\n",
       "0    1226\n",
       "Name: label, dtype: int64"
      ]
     },
     "execution_count": 17,
     "metadata": {},
     "output_type": "execute_result"
    }
   ],
   "source": [
    "train['label'].value_counts()"
   ]
  },
  {
   "cell_type": "code",
   "execution_count": 18,
   "id": "b607c4c7",
   "metadata": {
    "ExecuteTime": {
     "end_time": "2023-03-30T15:52:47.241974Z",
     "start_time": "2023-03-30T15:52:47.224023Z"
    },
    "hidden": true
   },
   "outputs": [],
   "source": [
    "X = train['text'].values\n",
    "y = train['label'].values"
   ]
  },
  {
   "cell_type": "code",
   "execution_count": 19,
   "id": "09902aa7",
   "metadata": {
    "ExecuteTime": {
     "end_time": "2023-03-30T15:52:48.508601Z",
     "start_time": "2023-03-30T15:52:48.489653Z"
    },
    "hidden": true
   },
   "outputs": [],
   "source": [
    "X_test = test['text'].values"
   ]
  },
  {
   "cell_type": "code",
   "execution_count": 22,
   "id": "df907bec",
   "metadata": {
    "ExecuteTime": {
     "end_time": "2023-03-30T15:53:13.039270Z",
     "start_time": "2023-03-30T15:53:13.026304Z"
    },
    "hidden": true
   },
   "outputs": [],
   "source": [
    "stop_words =  stopwords.words('english')"
   ]
  },
  {
   "cell_type": "code",
   "execution_count": 23,
   "id": "a2b59f5d",
   "metadata": {
    "ExecuteTime": {
     "end_time": "2023-03-30T15:53:15.298060Z",
     "start_time": "2023-03-30T15:53:15.281107Z"
    },
    "hidden": true
   },
   "outputs": [],
   "source": [
    "params_grid_vectorizer = {\n",
    "    'vectorizer__max_df' : [0.85, 0.9, 0.95, 1.0],\n",
    "    'vectorizer__min_df' : [1, 10, 20], \n",
    "    'vectorizer__ngram_range' : [(1, 1), (1, 2), (1, 3)],\n",
    "    'vectorizer__stop_words' : [stop_words, None, 'english']\n",
    "}"
   ]
  },
  {
   "cell_type": "markdown",
   "id": "27ea73b0",
   "metadata": {
    "heading_collapsed": true,
    "hidden": true
   },
   "source": [
    "## Вспомогательные функции"
   ]
  },
  {
   "cell_type": "code",
   "execution_count": 24,
   "id": "3182032a",
   "metadata": {
    "ExecuteTime": {
     "end_time": "2023-03-30T15:53:47.735384Z",
     "start_time": "2023-03-30T15:53:47.713417Z"
    },
    "hidden": true
   },
   "outputs": [],
   "source": [
    "def make_pipeline(vectorizer, transformer, classifier):\n",
    "    return Pipeline([\n",
    "            ('vectorizer', vectorizer),\n",
    "            ('transformer', transformer),\n",
    "            ('classifier', classifier)\n",
    "        ])"
   ]
  },
  {
   "cell_type": "code",
   "execution_count": 25,
   "id": "e3dc22b5",
   "metadata": {
    "ExecuteTime": {
     "end_time": "2023-03-30T15:54:26.208470Z",
     "start_time": "2023-03-30T15:54:26.192514Z"
    },
    "hidden": true
   },
   "outputs": [],
   "source": [
    "def make_estimator(classifier, params_grid, scorer, data, labels):\n",
    "    pipeline = make_pipeline(CountVectorizer(), TfidfTransformer(), classifier)\n",
    "    grid_cv = RandomizedSearchCV(pipeline, params_grid, scoring=scorer, cv=5, random_state=777, n_iter=100)\n",
    "    grid_cv.fit(data, labels)\n",
    "    return grid_cv"
   ]
  },
  {
   "cell_type": "code",
   "execution_count": 28,
   "id": "bc146849",
   "metadata": {
    "ExecuteTime": {
     "end_time": "2023-03-30T15:56:08.295896Z",
     "start_time": "2023-03-30T15:56:08.267973Z"
    },
    "hidden": true
   },
   "outputs": [],
   "source": [
    "class DenseTransformer(TransformerMixin):\n",
    "    def transform(self, X, y=None, **fit_params):\n",
    "        return X.todense()\n",
    "\n",
    "    def fit_transform(self, X, y=None, **fit_params):\n",
    "        self.fit(X, y, **fit_params)\n",
    "        return self.transform(X)\n",
    "\n",
    "    def fit(self, X, y=None, **fit_params):\n",
    "        return self"
   ]
  },
  {
   "cell_type": "markdown",
   "id": "9c610a10",
   "metadata": {
    "ExecuteTime": {
     "end_time": "2023-03-30T03:13:40.595746Z",
     "start_time": "2023-03-30T03:13:40.581786Z"
    },
    "heading_collapsed": true,
    "hidden": true
   },
   "source": [
    "## Линейные классификаторы"
   ]
  },
  {
   "cell_type": "code",
   "execution_count": 191,
   "id": "e2e0b579",
   "metadata": {
    "ExecuteTime": {
     "end_time": "2023-03-30T03:17:09.969953Z",
     "start_time": "2023-03-30T03:17:08.310267Z"
    },
    "hidden": true
   },
   "outputs": [
    {
     "name": "stdout",
     "output_type": "stream",
     "text": [
      "LogisticRegression - 0.818\n",
      "LinearSVC - 0.841\n",
      "SGDClassifier - 0.834\n",
      "RidgeClassifier - 0.833\n"
     ]
    }
   ],
   "source": [
    "for name, clf in {'LogisticRegression': LogisticRegression, 'LinearSVC': LinearSVC, \n",
    "               'SGDClassifier': SGDClassifier, 'RidgeClassifier': RidgeClassifier}.items():\n",
    "    score = cross_val_score(make_pipeline(CountVectorizer(), TfidfTransformer(), clf(random_state=777)), X, y, cv=5).mean()\n",
    "    print(f\"{name} - {score:.3}\")"
   ]
  },
  {
   "cell_type": "markdown",
   "id": "4f4c55d9",
   "metadata": {
    "hidden": true
   },
   "source": [
    "### Настройка параметров"
   ]
  },
  {
   "cell_type": "code",
   "execution_count": 213,
   "id": "13ffd81f",
   "metadata": {
    "ExecuteTime": {
     "end_time": "2023-03-30T04:10:41.248392Z",
     "start_time": "2023-03-30T04:03:19.112189Z"
    },
    "hidden": true
   },
   "outputs": [
    {
     "data": {
      "text/html": [
       "<div>\n",
       "<style scoped>\n",
       "    .dataframe tbody tr th:only-of-type {\n",
       "        vertical-align: middle;\n",
       "    }\n",
       "\n",
       "    .dataframe tbody tr th {\n",
       "        vertical-align: top;\n",
       "    }\n",
       "\n",
       "    .dataframe thead th {\n",
       "        text-align: right;\n",
       "    }\n",
       "</style>\n",
       "<table border=\"1\" class=\"dataframe\">\n",
       "  <thead>\n",
       "    <tr style=\"text-align: right;\">\n",
       "      <th></th>\n",
       "      <th>clf</th>\n",
       "      <th>score</th>\n",
       "      <th>time</th>\n",
       "      <th>params</th>\n",
       "    </tr>\n",
       "  </thead>\n",
       "  <tbody>\n",
       "    <tr>\n",
       "      <th>1</th>\n",
       "      <td>LinearSVC</td>\n",
       "      <td>0.863</td>\n",
       "      <td>00:01:42</td>\n",
       "      <td>{'vectorizer__stop_words': None, 'vectorizer__ngram_range': (1, 3), 'vectorizer__min_df': 1, 'vectorizer__max_df': 0.9, 'classifier__tol': 0.0001, 'classifier__max_iter': 700, 'classifier__loss': ...</td>\n",
       "    </tr>\n",
       "    <tr>\n",
       "      <th>2</th>\n",
       "      <td>SGDClassifier</td>\n",
       "      <td>0.860</td>\n",
       "      <td>00:02:03</td>\n",
       "      <td>{'vectorizer__stop_words': None, 'vectorizer__ngram_range': (1, 2), 'vectorizer__min_df': 1, 'vectorizer__max_df': 0.95, 'classifier__tol': 0.0004000000000000001, 'classifier__penalty': 'l2', 'cla...</td>\n",
       "    </tr>\n",
       "    <tr>\n",
       "      <th>3</th>\n",
       "      <td>RidgeClassifier</td>\n",
       "      <td>0.859</td>\n",
       "      <td>00:01:32</td>\n",
       "      <td>{'vectorizer__stop_words': None, 'vectorizer__ngram_range': (1, 2), 'vectorizer__min_df': 1, 'vectorizer__max_df': 0.9, 'classifier__tol': 0.0047, 'classifier__solver': 'auto', 'classifier__normal...</td>\n",
       "    </tr>\n",
       "    <tr>\n",
       "      <th>0</th>\n",
       "      <td>LogisticRegression</td>\n",
       "      <td>0.852</td>\n",
       "      <td>00:02:04</td>\n",
       "      <td>{'vectorizer__stop_words': None, 'vectorizer__ngram_range': (1, 3), 'vectorizer__min_df': 1, 'vectorizer__max_df': 0.95, 'classifier__solver': 'lbfgs', 'classifier__max_iter': 250, 'classifier__C'...</td>\n",
       "    </tr>\n",
       "  </tbody>\n",
       "</table>\n",
       "</div>"
      ],
      "text/plain": [
       "                  clf  score      time  \\\n",
       "1           LinearSVC  0.863  00:01:42   \n",
       "2       SGDClassifier  0.860  00:02:03   \n",
       "3     RidgeClassifier  0.859  00:01:32   \n",
       "0  LogisticRegression  0.852  00:02:04   \n",
       "\n",
       "                                                                                                                                                                                                    params  \n",
       "1  {'vectorizer__stop_words': None, 'vectorizer__ngram_range': (1, 3), 'vectorizer__min_df': 1, 'vectorizer__max_df': 0.9, 'classifier__tol': 0.0001, 'classifier__max_iter': 700, 'classifier__loss': ...  \n",
       "2  {'vectorizer__stop_words': None, 'vectorizer__ngram_range': (1, 2), 'vectorizer__min_df': 1, 'vectorizer__max_df': 0.95, 'classifier__tol': 0.0004000000000000001, 'classifier__penalty': 'l2', 'cla...  \n",
       "3  {'vectorizer__stop_words': None, 'vectorizer__ngram_range': (1, 2), 'vectorizer__min_df': 1, 'vectorizer__max_df': 0.9, 'classifier__tol': 0.0047, 'classifier__solver': 'auto', 'classifier__normal...  \n",
       "0  {'vectorizer__stop_words': None, 'vectorizer__ngram_range': (1, 3), 'vectorizer__min_df': 1, 'vectorizer__max_df': 0.95, 'classifier__solver': 'lbfgs', 'classifier__max_iter': 250, 'classifier__C'...  "
      ]
     },
     "execution_count": 213,
     "metadata": {},
     "output_type": "execute_result"
    }
   ],
   "source": [
    "results = pd.DataFrame(columns=['clf', 'score', 'time', 'params'])\n",
    "for name, clf, params_grid in [('LogisticRegression', LogisticRegression,\n",
    "                {'classifier__C': np.arange(0.1, 2, 0.1),\n",
    "                'classifier__max_iter': np.arange(50, 500, 50),\n",
    "                'classifier__solver': ['lbfgs', 'liblinear', 'sag']}), \n",
    "                               \n",
    "                    ('LinearSVC', LinearSVC,\n",
    "                {'classifier__loss': ['hinge', 'squared_hinge'], \n",
    "                'classifier__max_iter': np.arange(100, 1000, 50),\n",
    "                'classifier__tol': [1e-5, 1e-4, 1e-3],\n",
    "                'classifier__C': np.arange(0.1, 2, 0.1)}), \n",
    "                               \n",
    "                    ('SGDClassifier', SGDClassifier,\n",
    "                {'classifier__loss': ['log', 'hinge', 'modified_huber'], \n",
    "                'classifier__penalty':  ['l1', 'l2', 'elasticnet'], \n",
    "                'classifier__max_iter': np.arange(100, 1000, 50),\n",
    "                'classifier__tol': np.arange(1e-5, 1e-3, 1e-5)}), \n",
    "                               \n",
    "                    ('RidgeClassifier', RidgeClassifier,\n",
    "                {'classifier__alpha': np.arange(0.1, 5, 0.1),\n",
    "                'classifier__normalize': [True, False], \n",
    "                'classifier__tol': np.arange(1e-4, 1e-2, 1e-4),\n",
    "                'classifier__solver': ['auto', 'svd', 'cholesky', 'lsqr', 'sparse_cg', 'sag']})]:\n",
    "    \n",
    "    \n",
    "    \n",
    "\n",
    "    start_time = time.time()\n",
    "    \n",
    "    grid_search = make_estimator(clf(random_state=777), \n",
    "                                    {**params_grid_vectorizer, **params_grid}, 'accuracy', X, y)\n",
    "    \n",
    "    elapsed_time = time.time() - start_time\n",
    "\n",
    "    results.loc[len(results)] = [name, \n",
    "                                 grid_search.best_score_, \n",
    "                                 time.strftime(\"%H:%M:%S\", time.gmtime(elapsed_time)), \n",
    "                                 grid_search.best_params_]\n",
    "    \n",
    "results['score'] = results['score'].map('{:,.3f}'.format)\n",
    "results_linear = copy.deepcopy(results)\n",
    "results_linear.sort_values(by='score', ascending=False)"
   ]
  },
  {
   "cell_type": "code",
   "execution_count": 202,
   "id": "c005ae90",
   "metadata": {
    "ExecuteTime": {
     "end_time": "2023-03-30T03:44:28.089873Z",
     "start_time": "2023-03-30T03:44:28.074348Z"
    },
    "hidden": true
   },
   "outputs": [],
   "source": [
    "pd.set_option('max_colwidth', 200)"
   ]
  },
  {
   "cell_type": "markdown",
   "id": "33a7d969",
   "metadata": {
    "ExecuteTime": {
     "end_time": "2023-03-30T03:42:30.088594Z",
     "start_time": "2023-03-30T03:42:30.071930Z"
    },
    "heading_collapsed": true,
    "hidden": true
   },
   "source": [
    "## Байесовские классификаторы"
   ]
  },
  {
   "cell_type": "code",
   "execution_count": 206,
   "id": "bde488c6",
   "metadata": {
    "ExecuteTime": {
     "end_time": "2023-03-30T03:46:33.114675Z",
     "start_time": "2023-03-30T03:46:29.444671Z"
    },
    "hidden": true
   },
   "outputs": [
    {
     "name": "stdout",
     "output_type": "stream",
     "text": [
      "MultinomialNB - 0.818\n",
      "BernoulliNB - 0.821\n",
      "GaussianNB - 0.705\n"
     ]
    }
   ],
   "source": [
    "for name, clf in {'MultinomialNB': MultinomialNB, 'BernoulliNB': BernoulliNB, \n",
    "               'GaussianNB': GaussianNB}.items():\n",
    "    if name == 'GaussianNB':\n",
    "        score = cross_val_score(Pipeline([('vectorizer', CountVectorizer()), ('transformer', TfidfTransformer()),\n",
    "                                  ('dense', DenseTransformer()), ('classifier', GaussianNB())]), X, y, cv=5).mean()\n",
    "    else:\n",
    "        score = cross_val_score(make_pipeline(CountVectorizer(), TfidfTransformer(), clf()), X, y, cv=5).mean()\n",
    "    print(f\"{name} - {score:.3}\")"
   ]
  },
  {
   "cell_type": "markdown",
   "id": "19536263",
   "metadata": {
    "hidden": true
   },
   "source": [
    "### Настройка параметров"
   ]
  },
  {
   "cell_type": "code",
   "execution_count": 214,
   "id": "43ca2a0b",
   "metadata": {
    "ExecuteTime": {
     "end_time": "2023-03-30T04:14:08.821338Z",
     "start_time": "2023-03-30T04:10:42.885482Z"
    },
    "hidden": true
   },
   "outputs": [
    {
     "data": {
      "text/html": [
       "<div>\n",
       "<style scoped>\n",
       "    .dataframe tbody tr th:only-of-type {\n",
       "        vertical-align: middle;\n",
       "    }\n",
       "\n",
       "    .dataframe tbody tr th {\n",
       "        vertical-align: top;\n",
       "    }\n",
       "\n",
       "    .dataframe thead th {\n",
       "        text-align: right;\n",
       "    }\n",
       "</style>\n",
       "<table border=\"1\" class=\"dataframe\">\n",
       "  <thead>\n",
       "    <tr style=\"text-align: right;\">\n",
       "      <th></th>\n",
       "      <th>clf</th>\n",
       "      <th>score</th>\n",
       "      <th>time</th>\n",
       "      <th>params</th>\n",
       "    </tr>\n",
       "  </thead>\n",
       "  <tbody>\n",
       "    <tr>\n",
       "      <th>1</th>\n",
       "      <td>BernoulliNB</td>\n",
       "      <td>0.858</td>\n",
       "      <td>00:01:41</td>\n",
       "      <td>{'vectorizer__stop_words': None, 'vectorizer__ngram_range': (1, 2), 'vectorizer__min_df': 1, 'vectorizer__max_df': 1.0, 'classifier__fit_prior': True, 'classifier__alpha': 1.0}</td>\n",
       "    </tr>\n",
       "    <tr>\n",
       "      <th>0</th>\n",
       "      <td>MultinomialNB</td>\n",
       "      <td>0.856</td>\n",
       "      <td>00:01:44</td>\n",
       "      <td>{'vectorizer__stop_words': None, 'vectorizer__ngram_range': (1, 2), 'vectorizer__min_df': 1, 'vectorizer__max_df': 1.0, 'classifier__fit_prior': True, 'classifier__alpha': 1.0}</td>\n",
       "    </tr>\n",
       "  </tbody>\n",
       "</table>\n",
       "</div>"
      ],
      "text/plain": [
       "             clf  score      time  \\\n",
       "1    BernoulliNB  0.858  00:01:41   \n",
       "0  MultinomialNB  0.856  00:01:44   \n",
       "\n",
       "                                                                                                                                                                             params  \n",
       "1  {'vectorizer__stop_words': None, 'vectorizer__ngram_range': (1, 2), 'vectorizer__min_df': 1, 'vectorizer__max_df': 1.0, 'classifier__fit_prior': True, 'classifier__alpha': 1.0}  \n",
       "0  {'vectorizer__stop_words': None, 'vectorizer__ngram_range': (1, 2), 'vectorizer__min_df': 1, 'vectorizer__max_df': 1.0, 'classifier__fit_prior': True, 'classifier__alpha': 1.0}  "
      ]
     },
     "execution_count": 214,
     "metadata": {},
     "output_type": "execute_result"
    }
   ],
   "source": [
    "results = pd.DataFrame(columns=['clf', 'score', 'time', 'params'])\n",
    "for name, clf, params_grid in [('MultinomialNB', MultinomialNB,\n",
    "                {'classifier__alpha': np.logspace(0, 5, 100), \n",
    "                'classifier__fit_prior': [True, False]}), \n",
    "                               \n",
    "                    ('BernoulliNB', BernoulliNB,\n",
    "                {'classifier__alpha': np.logspace(0, 5, 100),\n",
    "                'classifier__fit_prior': [True, False]})]:\n",
    "\n",
    "    start_time = time.time()\n",
    "    \n",
    "    grid_search = make_estimator(clf(), \n",
    "                                    {**params_grid_vectorizer, **params_grid}, 'accuracy', X, y)\n",
    "    \n",
    "    elapsed_time = time.time() - start_time\n",
    "\n",
    "    results.loc[len(results)] = [name, \n",
    "                                 grid_search.best_score_, \n",
    "                                 time.strftime(\"%H:%M:%S\", time.gmtime(elapsed_time)), \n",
    "                                 grid_search.best_params_]\n",
    "    \n",
    "results['score'] = results['score'].map('{:,.3f}'.format)\n",
    "results_bayes = copy.deepcopy(results)\n",
    "results_bayes.sort_values(by='score', ascending=False)"
   ]
  },
  {
   "cell_type": "markdown",
   "id": "2a61f10d",
   "metadata": {
    "heading_collapsed": true,
    "hidden": true
   },
   "source": [
    "## Решающие деревья"
   ]
  },
  {
   "cell_type": "code",
   "execution_count": 210,
   "id": "36a3dd05",
   "metadata": {
    "ExecuteTime": {
     "end_time": "2023-03-30T03:53:18.789122Z",
     "start_time": "2023-03-30T03:52:45.989761Z"
    },
    "hidden": true
   },
   "outputs": [
    {
     "name": "stdout",
     "output_type": "stream",
     "text": [
      "DecisionTreeClassifier - 0.77\n",
      "RandomForestClassifier - 0.84\n",
      "BaggingClassifier - 0.78\n",
      "GradientBoostingClassifier - 0.76\n"
     ]
    }
   ],
   "source": [
    "for name, clf in {'DecisionTreeClassifier': DecisionTreeClassifier, 'RandomForestClassifier': RandomForestClassifier, \n",
    "               'BaggingClassifier': BaggingClassifier, 'GradientBoostingClassifier': GradientBoostingClassifier}.items():\n",
    "    score = cross_val_score(make_pipeline(CountVectorizer(), TfidfTransformer(), clf(random_state=777)), X, y, cv=5).mean()\n",
    "    print(f\"{name} - {score:.2}\")"
   ]
  },
  {
   "cell_type": "markdown",
   "id": "4e20112e",
   "metadata": {
    "hidden": true
   },
   "source": [
    "### Настройка параметров"
   ]
  },
  {
   "cell_type": "code",
   "execution_count": 223,
   "id": "029b0e6b",
   "metadata": {
    "ExecuteTime": {
     "end_time": "2023-03-30T08:15:51.112104Z",
     "start_time": "2023-03-30T04:25:39.712493Z"
    },
    "hidden": true
   },
   "outputs": [
    {
     "data": {
      "text/html": [
       "<div>\n",
       "<style scoped>\n",
       "    .dataframe tbody tr th:only-of-type {\n",
       "        vertical-align: middle;\n",
       "    }\n",
       "\n",
       "    .dataframe tbody tr th {\n",
       "        vertical-align: top;\n",
       "    }\n",
       "\n",
       "    .dataframe thead th {\n",
       "        text-align: right;\n",
       "    }\n",
       "</style>\n",
       "<table border=\"1\" class=\"dataframe\">\n",
       "  <thead>\n",
       "    <tr style=\"text-align: right;\">\n",
       "      <th></th>\n",
       "      <th>clf</th>\n",
       "      <th>score</th>\n",
       "      <th>time</th>\n",
       "      <th>params</th>\n",
       "    </tr>\n",
       "  </thead>\n",
       "  <tbody>\n",
       "    <tr>\n",
       "      <th>3</th>\n",
       "      <td>GradientBoostingClassifier</td>\n",
       "      <td>0.860</td>\n",
       "      <td>00:29:29</td>\n",
       "      <td>{'vectorizer__stop_words': None, 'vectorizer__ngram_range': (1, 1), 'vectorizer__min_df': 1, 'vectorizer__max_df': 1.0, 'classifier__subsample': 0.7, 'classifier__n_estimators': 150, 'classifier__...</td>\n",
       "    </tr>\n",
       "    <tr>\n",
       "      <th>2</th>\n",
       "      <td>BaggingClassifier</td>\n",
       "      <td>0.848</td>\n",
       "      <td>03:16:37</td>\n",
       "      <td>{'vectorizer__stop_words': ['i', 'me', 'my', 'myself', 'we', 'our', 'ours', 'ourselves', 'you', 'you're', 'you've', 'you'll', 'you'd', 'your', 'yours', 'yourself', 'yourselves', 'he', 'him', 'his'...</td>\n",
       "    </tr>\n",
       "    <tr>\n",
       "      <th>1</th>\n",
       "      <td>RandomForestClassifier</td>\n",
       "      <td>0.826</td>\n",
       "      <td>00:02:00</td>\n",
       "      <td>{'vectorizer__stop_words': None, 'vectorizer__ngram_range': (1, 2), 'vectorizer__min_df': 10, 'vectorizer__max_df': 0.95, 'classifier__n_estimators': 21, 'classifier__min_samples_split': 3, 'class...</td>\n",
       "    </tr>\n",
       "    <tr>\n",
       "      <th>0</th>\n",
       "      <td>DecisionTreeClassifier</td>\n",
       "      <td>0.780</td>\n",
       "      <td>00:02:02</td>\n",
       "      <td>{'vectorizer__stop_words': None, 'vectorizer__ngram_range': (1, 2), 'vectorizer__min_df': 10, 'vectorizer__max_df': 0.9, 'classifier__min_samples_split': 5, 'classifier__min_samples_leaf': 1, 'cla...</td>\n",
       "    </tr>\n",
       "  </tbody>\n",
       "</table>\n",
       "</div>"
      ],
      "text/plain": [
       "                          clf  score      time  \\\n",
       "3  GradientBoostingClassifier  0.860  00:29:29   \n",
       "2           BaggingClassifier  0.848  03:16:37   \n",
       "1      RandomForestClassifier  0.826  00:02:00   \n",
       "0      DecisionTreeClassifier  0.780  00:02:02   \n",
       "\n",
       "                                                                                                                                                                                                    params  \n",
       "3  {'vectorizer__stop_words': None, 'vectorizer__ngram_range': (1, 1), 'vectorizer__min_df': 1, 'vectorizer__max_df': 1.0, 'classifier__subsample': 0.7, 'classifier__n_estimators': 150, 'classifier__...  \n",
       "2  {'vectorizer__stop_words': ['i', 'me', 'my', 'myself', 'we', 'our', 'ours', 'ourselves', 'you', 'you're', 'you've', 'you'll', 'you'd', 'your', 'yours', 'yourself', 'yourselves', 'he', 'him', 'his'...  \n",
       "1  {'vectorizer__stop_words': None, 'vectorizer__ngram_range': (1, 2), 'vectorizer__min_df': 10, 'vectorizer__max_df': 0.95, 'classifier__n_estimators': 21, 'classifier__min_samples_split': 3, 'class...  \n",
       "0  {'vectorizer__stop_words': None, 'vectorizer__ngram_range': (1, 2), 'vectorizer__min_df': 10, 'vectorizer__max_df': 0.9, 'classifier__min_samples_split': 5, 'classifier__min_samples_leaf': 1, 'cla...  "
      ]
     },
     "execution_count": 223,
     "metadata": {},
     "output_type": "execute_result"
    }
   ],
   "source": [
    "results = pd.DataFrame(columns=['clf', 'score', 'time', 'params'])\n",
    "for name, clf, params_grid in [('DecisionTreeClassifier', DecisionTreeClassifier,\n",
    "                {'classifier__max_depth': np.arange(1, 30, 1).tolist()+[None],\n",
    "                'classifier__min_samples_split': np.arange(2, 6, 1),\n",
    "                'classifier__min_samples_leaf': [1, 2, 3],\n",
    "                'classifier__min_impurity_decrease': np.logspace(-10, -6, 5).tolist()+[0]}), \n",
    "                               \n",
    "                    ('RandomForestClassifier', RandomForestClassifier,\n",
    "                {'classifier__n_estimators': np.arange(1, 30, 1),\n",
    "                'classifier__max_depth': np.arange(1, 30, 1).tolist()+[None],\n",
    "                'classifier__min_samples_split': np.arange(2, 6, 1),\n",
    "                'classifier__min_samples_leaf': [1, 2, 3],\n",
    "                'classifier__max_features': ['auto', 'sqrt', 'log2'],\n",
    "                'classifier__min_impurity_decrease': np.logspace(-10, -6, 5).tolist()+[0]}),\n",
    "                              \n",
    "                    ('BaggingClassifier', BaggingClassifier,\n",
    "                {'classifier__n_estimators': np.arange(50, 300, 100),\n",
    "                'classifier__warm_start': [False, True], \n",
    "                'classifier__bootstrap_features': [False, True]}),\n",
    "                              \n",
    "                    ('GradientBoostingClassifier', GradientBoostingClassifier,\n",
    "                {'classifier__n_estimators': np.arange(50, 300, 100),\n",
    "                'classifier__max_depth': np.arange(1, 30, 1).tolist()+[None],\n",
    "                'classifier__min_samples_split': np.arange(2, 6, 1),\n",
    "                'classifier__max_features': ['auto', 'sqrt', 'log2'],\n",
    "                'classifier__subsample': np.arange(0.6, 1, 0.1)})]:\n",
    "    \n",
    "    \n",
    "    \n",
    "    start_time = time.time()\n",
    "    \n",
    "    grid_search = make_estimator(clf(random_state=777), \n",
    "                                    {**params_grid_vectorizer, **params_grid}, 'accuracy', X, y)\n",
    "    \n",
    "    elapsed_time = time.time() - start_time\n",
    "\n",
    "    results.loc[len(results)] = [name, \n",
    "                                 grid_search.best_score_, \n",
    "                                 time.strftime(\"%H:%M:%S\", time.gmtime(elapsed_time)), \n",
    "                                 grid_search.best_params_]\n",
    "    \n",
    "results['score'] = results['score'].map('{:,.3f}'.format)\n",
    "results_trees = copy.deepcopy(results)\n",
    "results_trees.sort_values(by='score', ascending=False)"
   ]
  },
  {
   "cell_type": "markdown",
   "id": "106fd041",
   "metadata": {
    "heading_collapsed": true,
    "hidden": true
   },
   "source": [
    "## LightGBM, XGBoost"
   ]
  },
  {
   "cell_type": "code",
   "execution_count": 225,
   "id": "ecb116a0",
   "metadata": {
    "ExecuteTime": {
     "end_time": "2023-03-30T08:16:09.297403Z",
     "start_time": "2023-03-30T08:15:56.492121Z"
    },
    "hidden": true
   },
   "outputs": [
    {
     "name": "stdout",
     "output_type": "stream",
     "text": [
      "LightGBM - 0.81\n",
      "XGBoost - 0.81\n"
     ]
    }
   ],
   "source": [
    "for name, clf in {'LightGBM': lgb.LGBMClassifier, 'XGBoost': xgb.XGBClassifier}.items():\n",
    "    score = cross_val_score(make_pipeline(CountVectorizer(), TfidfTransformer(), clf(random_state=777)), X, y, cv=5).mean()\n",
    "    print(f\"{name} - {score:.2}\")"
   ]
  },
  {
   "cell_type": "markdown",
   "id": "29492f1b",
   "metadata": {
    "hidden": true
   },
   "source": [
    "### Настройка параметров"
   ]
  },
  {
   "cell_type": "code",
   "execution_count": 288,
   "id": "c058bdde",
   "metadata": {
    "ExecuteTime": {
     "end_time": "2023-03-30T12:15:55.547189Z",
     "start_time": "2023-03-30T12:03:08.127018Z"
    },
    "hidden": true
   },
   "outputs": [
    {
     "data": {
      "text/html": [
       "<div>\n",
       "<style scoped>\n",
       "    .dataframe tbody tr th:only-of-type {\n",
       "        vertical-align: middle;\n",
       "    }\n",
       "\n",
       "    .dataframe tbody tr th {\n",
       "        vertical-align: top;\n",
       "    }\n",
       "\n",
       "    .dataframe thead th {\n",
       "        text-align: right;\n",
       "    }\n",
       "</style>\n",
       "<table border=\"1\" class=\"dataframe\">\n",
       "  <thead>\n",
       "    <tr style=\"text-align: right;\">\n",
       "      <th></th>\n",
       "      <th>clf</th>\n",
       "      <th>score</th>\n",
       "      <th>time</th>\n",
       "      <th>params</th>\n",
       "    </tr>\n",
       "  </thead>\n",
       "  <tbody>\n",
       "    <tr>\n",
       "      <th>1</th>\n",
       "      <td>LightGBM</td>\n",
       "      <td>0.815</td>\n",
       "      <td>00:05:55</td>\n",
       "      <td>{'vectorizer__stop_words': None, 'vectorizer__ngram_range': (1, 2), 'vectorizer__min_df': 10, 'vectorizer__max_df': 0.85, 'classifier__max_depth': 0, 'classifier__learning_rate': 0.3, 'classifier_...</td>\n",
       "    </tr>\n",
       "    <tr>\n",
       "      <th>0</th>\n",
       "      <td>XGBoost</td>\n",
       "      <td>0.800</td>\n",
       "      <td>00:06:51</td>\n",
       "      <td>{'vectorizer__stop_words': None, 'vectorizer__ngram_range': (1, 3), 'vectorizer__min_df': 1, 'vectorizer__max_df': 0.85, 'classifier__n_estimators': 81, 'classifier__min_child_weight': 2, 'classif...</td>\n",
       "    </tr>\n",
       "  </tbody>\n",
       "</table>\n",
       "</div>"
      ],
      "text/plain": [
       "        clf  score      time  \\\n",
       "1  LightGBM  0.815  00:05:55   \n",
       "0   XGBoost  0.800  00:06:51   \n",
       "\n",
       "                                                                                                                                                                                                    params  \n",
       "1  {'vectorizer__stop_words': None, 'vectorizer__ngram_range': (1, 2), 'vectorizer__min_df': 10, 'vectorizer__max_df': 0.85, 'classifier__max_depth': 0, 'classifier__learning_rate': 0.3, 'classifier_...  \n",
       "0  {'vectorizer__stop_words': None, 'vectorizer__ngram_range': (1, 3), 'vectorizer__min_df': 1, 'vectorizer__max_df': 0.85, 'classifier__n_estimators': 81, 'classifier__min_child_weight': 2, 'classif...  "
      ]
     },
     "execution_count": 288,
     "metadata": {},
     "output_type": "execute_result"
    }
   ],
   "source": [
    "results = pd.DataFrame(columns=['clf', 'score', 'time', 'params'])\n",
    "for name, clf, params_grid in [\n",
    "                    ('XGBoost', xgb.XGBClassifier,\n",
    "                {'classifier__learning_rate':np.arange(0.1,0.5,0.1), \n",
    "                 'classifier__max_depth':range(1,10), \n",
    "                 'classifier__n_estimators':range(1, 100, 10), \n",
    "                 'classifier__min_child_weight':range(1,5)}),\n",
    "    \n",
    "                    ('LightGBM', lgb.LGBMClassifier,\n",
    "                {'classifier__learning_rate': [0.001, 0.005, 0.01, 0.05, 0.1, 0.3, 0.5],\n",
    "                 'classifier__boosting_type': ['gbdt', 'dart'],\n",
    "                 'classifier__max_depth': range(0,15,5)})]:\n",
    "    \n",
    "    \n",
    "    \n",
    "    start_time = time.time()\n",
    "    \n",
    "    grid_search = make_estimator(clf(random_state=777), \n",
    "                                    {**params_grid_vectorizer, **params_grid}, 'accuracy', X, y)\n",
    "    \n",
    "    elapsed_time = time.time() - start_time\n",
    "\n",
    "    results.loc[len(results)] = [name, \n",
    "                                 grid_search.best_score_, \n",
    "                                 time.strftime(\"%H:%M:%S\", time.gmtime(elapsed_time)), \n",
    "                                 grid_search.best_params_]\n",
    "    \n",
    "results['score'] = results['score'].map('{:,.3f}'.format)\n",
    "results_gb = copy.deepcopy(results)\n",
    "results_gb.sort_values(by='score', ascending=False)"
   ]
  },
  {
   "cell_type": "markdown",
   "id": "713c83ba",
   "metadata": {
    "heading_collapsed": true
   },
   "source": [
    "# Выбор модели"
   ]
  },
  {
   "cell_type": "code",
   "execution_count": 289,
   "id": "b729cf47",
   "metadata": {
    "ExecuteTime": {
     "end_time": "2023-03-30T12:16:39.960717Z",
     "start_time": "2023-03-30T12:16:39.905863Z"
    },
    "hidden": true
   },
   "outputs": [
    {
     "data": {
      "text/html": [
       "<div>\n",
       "<style scoped>\n",
       "    .dataframe tbody tr th:only-of-type {\n",
       "        vertical-align: middle;\n",
       "    }\n",
       "\n",
       "    .dataframe tbody tr th {\n",
       "        vertical-align: top;\n",
       "    }\n",
       "\n",
       "    .dataframe thead th {\n",
       "        text-align: right;\n",
       "    }\n",
       "</style>\n",
       "<table border=\"1\" class=\"dataframe\">\n",
       "  <thead>\n",
       "    <tr style=\"text-align: right;\">\n",
       "      <th></th>\n",
       "      <th>clf</th>\n",
       "      <th>score</th>\n",
       "      <th>time</th>\n",
       "      <th>params</th>\n",
       "    </tr>\n",
       "  </thead>\n",
       "  <tbody>\n",
       "    <tr>\n",
       "      <th>1</th>\n",
       "      <td>LinearSVC</td>\n",
       "      <td>0.863</td>\n",
       "      <td>00:01:42</td>\n",
       "      <td>{'vectorizer__stop_words': None, 'vectorizer__ngram_range': (1, 3), 'vectorizer__min_df': 1, 'vectorizer__max_df': 0.9, 'classifier__tol': 0.0001, 'classifier__max_iter': 700, 'classifier__loss': ...</td>\n",
       "    </tr>\n",
       "    <tr>\n",
       "      <th>2</th>\n",
       "      <td>SGDClassifier</td>\n",
       "      <td>0.860</td>\n",
       "      <td>00:02:03</td>\n",
       "      <td>{'vectorizer__stop_words': None, 'vectorizer__ngram_range': (1, 2), 'vectorizer__min_df': 1, 'vectorizer__max_df': 0.95, 'classifier__tol': 0.0004000000000000001, 'classifier__penalty': 'l2', 'cla...</td>\n",
       "    </tr>\n",
       "    <tr>\n",
       "      <th>9</th>\n",
       "      <td>GradientBoostingClassifier</td>\n",
       "      <td>0.860</td>\n",
       "      <td>00:29:29</td>\n",
       "      <td>{'vectorizer__stop_words': None, 'vectorizer__ngram_range': (1, 1), 'vectorizer__min_df': 1, 'vectorizer__max_df': 1.0, 'classifier__subsample': 0.7, 'classifier__n_estimators': 150, 'classifier__...</td>\n",
       "    </tr>\n",
       "    <tr>\n",
       "      <th>3</th>\n",
       "      <td>RidgeClassifier</td>\n",
       "      <td>0.859</td>\n",
       "      <td>00:01:32</td>\n",
       "      <td>{'vectorizer__stop_words': None, 'vectorizer__ngram_range': (1, 2), 'vectorizer__min_df': 1, 'vectorizer__max_df': 0.9, 'classifier__tol': 0.0047, 'classifier__solver': 'auto', 'classifier__normal...</td>\n",
       "    </tr>\n",
       "    <tr>\n",
       "      <th>5</th>\n",
       "      <td>BernoulliNB</td>\n",
       "      <td>0.858</td>\n",
       "      <td>00:01:41</td>\n",
       "      <td>{'vectorizer__stop_words': None, 'vectorizer__ngram_range': (1, 2), 'vectorizer__min_df': 1, 'vectorizer__max_df': 1.0, 'classifier__fit_prior': True, 'classifier__alpha': 1.0}</td>\n",
       "    </tr>\n",
       "    <tr>\n",
       "      <th>4</th>\n",
       "      <td>MultinomialNB</td>\n",
       "      <td>0.856</td>\n",
       "      <td>00:01:44</td>\n",
       "      <td>{'vectorizer__stop_words': None, 'vectorizer__ngram_range': (1, 2), 'vectorizer__min_df': 1, 'vectorizer__max_df': 1.0, 'classifier__fit_prior': True, 'classifier__alpha': 1.0}</td>\n",
       "    </tr>\n",
       "    <tr>\n",
       "      <th>0</th>\n",
       "      <td>LogisticRegression</td>\n",
       "      <td>0.852</td>\n",
       "      <td>00:02:04</td>\n",
       "      <td>{'vectorizer__stop_words': None, 'vectorizer__ngram_range': (1, 3), 'vectorizer__min_df': 1, 'vectorizer__max_df': 0.95, 'classifier__solver': 'lbfgs', 'classifier__max_iter': 250, 'classifier__C'...</td>\n",
       "    </tr>\n",
       "    <tr>\n",
       "      <th>8</th>\n",
       "      <td>BaggingClassifier</td>\n",
       "      <td>0.848</td>\n",
       "      <td>03:16:37</td>\n",
       "      <td>{'vectorizer__stop_words': ['i', 'me', 'my', 'myself', 'we', 'our', 'ours', 'ourselves', 'you', 'you're', 'you've', 'you'll', 'you'd', 'your', 'yours', 'yourself', 'yourselves', 'he', 'him', 'his'...</td>\n",
       "    </tr>\n",
       "    <tr>\n",
       "      <th>7</th>\n",
       "      <td>RandomForestClassifier</td>\n",
       "      <td>0.826</td>\n",
       "      <td>00:02:00</td>\n",
       "      <td>{'vectorizer__stop_words': None, 'vectorizer__ngram_range': (1, 2), 'vectorizer__min_df': 10, 'vectorizer__max_df': 0.95, 'classifier__n_estimators': 21, 'classifier__min_samples_split': 3, 'class...</td>\n",
       "    </tr>\n",
       "    <tr>\n",
       "      <th>11</th>\n",
       "      <td>LightGBM</td>\n",
       "      <td>0.815</td>\n",
       "      <td>00:05:55</td>\n",
       "      <td>{'vectorizer__stop_words': None, 'vectorizer__ngram_range': (1, 2), 'vectorizer__min_df': 10, 'vectorizer__max_df': 0.85, 'classifier__max_depth': 0, 'classifier__learning_rate': 0.3, 'classifier_...</td>\n",
       "    </tr>\n",
       "    <tr>\n",
       "      <th>10</th>\n",
       "      <td>XGBoost</td>\n",
       "      <td>0.800</td>\n",
       "      <td>00:06:51</td>\n",
       "      <td>{'vectorizer__stop_words': None, 'vectorizer__ngram_range': (1, 3), 'vectorizer__min_df': 1, 'vectorizer__max_df': 0.85, 'classifier__n_estimators': 81, 'classifier__min_child_weight': 2, 'classif...</td>\n",
       "    </tr>\n",
       "    <tr>\n",
       "      <th>6</th>\n",
       "      <td>DecisionTreeClassifier</td>\n",
       "      <td>0.780</td>\n",
       "      <td>00:02:02</td>\n",
       "      <td>{'vectorizer__stop_words': None, 'vectorizer__ngram_range': (1, 2), 'vectorizer__min_df': 10, 'vectorizer__max_df': 0.9, 'classifier__min_samples_split': 5, 'classifier__min_samples_leaf': 1, 'cla...</td>\n",
       "    </tr>\n",
       "  </tbody>\n",
       "</table>\n",
       "</div>"
      ],
      "text/plain": [
       "                           clf  score      time  \\\n",
       "1                    LinearSVC  0.863  00:01:42   \n",
       "2                SGDClassifier  0.860  00:02:03   \n",
       "9   GradientBoostingClassifier  0.860  00:29:29   \n",
       "3              RidgeClassifier  0.859  00:01:32   \n",
       "5                  BernoulliNB  0.858  00:01:41   \n",
       "4                MultinomialNB  0.856  00:01:44   \n",
       "0           LogisticRegression  0.852  00:02:04   \n",
       "8            BaggingClassifier  0.848  03:16:37   \n",
       "7       RandomForestClassifier  0.826  00:02:00   \n",
       "11                    LightGBM  0.815  00:05:55   \n",
       "10                     XGBoost  0.800  00:06:51   \n",
       "6       DecisionTreeClassifier  0.780  00:02:02   \n",
       "\n",
       "                                                                                                                                                                                                     params  \n",
       "1   {'vectorizer__stop_words': None, 'vectorizer__ngram_range': (1, 3), 'vectorizer__min_df': 1, 'vectorizer__max_df': 0.9, 'classifier__tol': 0.0001, 'classifier__max_iter': 700, 'classifier__loss': ...  \n",
       "2   {'vectorizer__stop_words': None, 'vectorizer__ngram_range': (1, 2), 'vectorizer__min_df': 1, 'vectorizer__max_df': 0.95, 'classifier__tol': 0.0004000000000000001, 'classifier__penalty': 'l2', 'cla...  \n",
       "9   {'vectorizer__stop_words': None, 'vectorizer__ngram_range': (1, 1), 'vectorizer__min_df': 1, 'vectorizer__max_df': 1.0, 'classifier__subsample': 0.7, 'classifier__n_estimators': 150, 'classifier__...  \n",
       "3   {'vectorizer__stop_words': None, 'vectorizer__ngram_range': (1, 2), 'vectorizer__min_df': 1, 'vectorizer__max_df': 0.9, 'classifier__tol': 0.0047, 'classifier__solver': 'auto', 'classifier__normal...  \n",
       "5                          {'vectorizer__stop_words': None, 'vectorizer__ngram_range': (1, 2), 'vectorizer__min_df': 1, 'vectorizer__max_df': 1.0, 'classifier__fit_prior': True, 'classifier__alpha': 1.0}  \n",
       "4                          {'vectorizer__stop_words': None, 'vectorizer__ngram_range': (1, 2), 'vectorizer__min_df': 1, 'vectorizer__max_df': 1.0, 'classifier__fit_prior': True, 'classifier__alpha': 1.0}  \n",
       "0   {'vectorizer__stop_words': None, 'vectorizer__ngram_range': (1, 3), 'vectorizer__min_df': 1, 'vectorizer__max_df': 0.95, 'classifier__solver': 'lbfgs', 'classifier__max_iter': 250, 'classifier__C'...  \n",
       "8   {'vectorizer__stop_words': ['i', 'me', 'my', 'myself', 'we', 'our', 'ours', 'ourselves', 'you', 'you're', 'you've', 'you'll', 'you'd', 'your', 'yours', 'yourself', 'yourselves', 'he', 'him', 'his'...  \n",
       "7   {'vectorizer__stop_words': None, 'vectorizer__ngram_range': (1, 2), 'vectorizer__min_df': 10, 'vectorizer__max_df': 0.95, 'classifier__n_estimators': 21, 'classifier__min_samples_split': 3, 'class...  \n",
       "11  {'vectorizer__stop_words': None, 'vectorizer__ngram_range': (1, 2), 'vectorizer__min_df': 10, 'vectorizer__max_df': 0.85, 'classifier__max_depth': 0, 'classifier__learning_rate': 0.3, 'classifier_...  \n",
       "10  {'vectorizer__stop_words': None, 'vectorizer__ngram_range': (1, 3), 'vectorizer__min_df': 1, 'vectorizer__max_df': 0.85, 'classifier__n_estimators': 81, 'classifier__min_child_weight': 2, 'classif...  \n",
       "6   {'vectorizer__stop_words': None, 'vectorizer__ngram_range': (1, 2), 'vectorizer__min_df': 10, 'vectorizer__max_df': 0.9, 'classifier__min_samples_split': 5, 'classifier__min_samples_leaf': 1, 'cla...  "
      ]
     },
     "execution_count": 289,
     "metadata": {},
     "output_type": "execute_result"
    }
   ],
   "source": [
    "results = pd.concat([results_linear, results_bayes, results_trees, results_gb], ignore_index=True)\n",
    "results.sort_values(by='score', ascending=False)"
   ]
  },
  {
   "cell_type": "code",
   "execution_count": 311,
   "id": "31534905",
   "metadata": {
    "ExecuteTime": {
     "end_time": "2023-03-30T14:57:31.377872Z",
     "start_time": "2023-03-30T14:57:31.348094Z"
    },
    "hidden": true
   },
   "outputs": [
    {
     "data": {
      "text/plain": [
       "{'vectorizer__stop_words': None,\n",
       " 'vectorizer__ngram_range': (1, 3),\n",
       " 'vectorizer__min_df': 1,\n",
       " 'vectorizer__max_df': 0.9,\n",
       " 'classifier__tol': 0.0001,\n",
       " 'classifier__max_iter': 700,\n",
       " 'classifier__loss': 'hinge',\n",
       " 'classifier__C': 1.6}"
      ]
     },
     "execution_count": 311,
     "metadata": {},
     "output_type": "execute_result"
    }
   ],
   "source": [
    "results.sort_values(by='score', ascending=False).iloc[0]['params']"
   ]
  },
  {
   "cell_type": "markdown",
   "id": "838d4e9e",
   "metadata": {
    "heading_collapsed": true,
    "hidden": true
   },
   "source": [
    "## Проверка на тестовой выборке"
   ]
  },
  {
   "cell_type": "code",
   "execution_count": 34,
   "id": "ef6d06e9",
   "metadata": {
    "ExecuteTime": {
     "end_time": "2023-03-30T16:15:51.293717Z",
     "start_time": "2023-03-30T16:15:50.938583Z"
    },
    "hidden": true
   },
   "outputs": [],
   "source": [
    "model = make_pipeline(CountVectorizer(ngram_range=(1, 3), min_df=1, max_df=0.9),\n",
    "                    TfidfTransformer(),\n",
    "                    LinearSVC(max_iter=700, loss='hinge', C=1.6, tol=0.0001, random_state=777))\n",
    "model.fit(X, y)\n",
    "predictions = model.predict(X_test)"
   ]
  },
  {
   "cell_type": "code",
   "execution_count": 39,
   "id": "d7b3e125",
   "metadata": {
    "ExecuteTime": {
     "end_time": "2023-03-30T16:17:11.281256Z",
     "start_time": "2023-03-30T16:17:11.259290Z"
    },
    "hidden": true
   },
   "outputs": [
    {
     "data": {
      "text/plain": [
       "array([0, 1, 0, 0, 1], dtype=int64)"
      ]
     },
     "execution_count": 39,
     "metadata": {},
     "output_type": "execute_result"
    }
   ],
   "source": [
    "predictions[-5:]"
   ]
  },
  {
   "cell_type": "code",
   "execution_count": 38,
   "id": "4a02972a",
   "metadata": {
    "ExecuteTime": {
     "end_time": "2023-03-30T16:17:06.112016Z",
     "start_time": "2023-03-30T16:17:06.095036Z"
    },
    "hidden": true
   },
   "outputs": [
    {
     "data": {
      "text/plain": [
       "array(['i took perfect care of this player and still it died in the week after the lousy 90 day warranty ended . ',\n",
       "       \"it 's a very intuitive program . \",\n",
       "       'the only drawback is the viewfinder is slightly blocked by the lens . ',\n",
       "       'it films 10 second video , for crying out loud .',\n",
       "       'everything shines of quality .'], dtype=object)"
      ]
     },
     "execution_count": 38,
     "metadata": {},
     "output_type": "execute_result"
    }
   ],
   "source": [
    "X_test[-5:]"
   ]
  }
 ],
 "metadata": {
  "kernelspec": {
   "display_name": "Python 3 (ipykernel)",
   "language": "python",
   "name": "python3"
  },
  "language_info": {
   "codemirror_mode": {
    "name": "ipython",
    "version": 3
   },
   "file_extension": ".py",
   "mimetype": "text/x-python",
   "name": "python",
   "nbconvert_exporter": "python",
   "pygments_lexer": "ipython3",
   "version": "3.9.13"
  },
  "toc": {
   "base_numbering": 1,
   "nav_menu": {},
   "number_sections": true,
   "sideBar": true,
   "skip_h1_title": false,
   "title_cell": "Table of Contents",
   "title_sidebar": "Contents",
   "toc_cell": false,
   "toc_position": {},
   "toc_section_display": true,
   "toc_window_display": false
  },
  "varInspector": {
   "cols": {
    "lenName": 16,
    "lenType": 16,
    "lenVar": 40
   },
   "kernels_config": {
    "python": {
     "delete_cmd_postfix": "",
     "delete_cmd_prefix": "del ",
     "library": "var_list.py",
     "varRefreshCmd": "print(var_dic_list())"
    },
    "r": {
     "delete_cmd_postfix": ") ",
     "delete_cmd_prefix": "rm(",
     "library": "var_list.r",
     "varRefreshCmd": "cat(var_dic_list()) "
    }
   },
   "types_to_exclude": [
    "module",
    "function",
    "builtin_function_or_method",
    "instance",
    "_Feature"
   ],
   "window_display": false
  }
 },
 "nbformat": 4,
 "nbformat_minor": 5
}
